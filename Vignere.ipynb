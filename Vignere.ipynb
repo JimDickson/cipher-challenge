{
 "cells": [
  {
   "cell_type": "code",
   "execution_count": 1,
   "metadata": {
    "collapsed": false
   },
   "outputs": [
    {
     "name": "stdout",
     "output_type": "stream",
     "text": [
      "Populating the interactive namespace from numpy and matplotlib\n"
     ]
    }
   ],
   "source": [
    "#import number and plotting functions\n",
    "%pylab inline"
   ]
  },
  {
   "cell_type": "code",
   "execution_count": 2,
   "metadata": {
    "collapsed": false
   },
   "outputs": [
    {
     "name": "stdout",
     "output_type": "stream",
     "text": [
      "WLHJL VVXLX HQLRR YUPLX WPHEX GWMRR ZMOPE IWLHP RGDXL SQSIE VEIIK SXWHM QXKIX OVIFX RVRJE IUPLR LXLWD QLRRV VXRTR ZHVRR WLHVD XOMQI VFXXB SXRHZ HVNRR ABSXQ LKKXJ IWPXG NCDRG JLRGW RQHSQ ILRWI UIVXL RJLLH LRJXK IUIDX WLHZH VBPHE VXBSX ALPOM QGRRY IQMHR FIWLH VHMFL VHROW SUMIC RYWEN ISSVW HWVMR RRJLX KSZQX GKARY OHWLD XEIZS UXKXR CRYGS LLHEU EEMGS IJLZH LXRGV HHWLR YVEQH IVDRF WIVRQ RYUJU IQGKJ UMHRG WSIUL DTVXK IEVLX LWKAR YOHSE BQRVH SUQDC EIWLH CFEQR RXDJI SUHWS LARRG IULRA WLHCI IHPDF RYWXK EWTHV KESWB SXWKS XPGEV OWLHQ LJBSX ADRWX RSXXE MGCRY UWRGD POIGJ UMHRG WWLHR OIDZH XKIPS QIBMQ YQQDV NIGXU IDWXV BFLPO WLROS FOHVD XWLHJ DVHRG SIXKI SPDXI SUQLR IVLIG VLGKW WVDWV ILALP OPHEY IWLHH HXDMO WLROS FOHVB SXALP OJLRG XKINI BMQHR RRXWV BXRHR YEPHG USVWP ILXZM OPQSW ARVNE QHRYU PLXWP HKDQH ALPOI QHEII SUILX KEVIY IQTUS SIUPB FHKXR\n",
      "839\n"
     ]
    }
   ],
   "source": [
    "#define string to contain cipher text, print the string and print the string length\n",
    "\n",
    "cipher_input=\"WLHJL VVXLX HQLRR YUPLX WPHEX GWMRR ZMOPE IWLHP RGDXL SQSIE VEIIK SXWHM QXKIX OVIFX RVRJE IUPLR LXLWD QLRRV VXRTR ZHVRR WLHVD XOMQI VFXXB SXRHZ HVNRR ABSXQ LKKXJ IWPXG NCDRG JLRGW RQHSQ ILRWI UIVXL RJLLH LRJXK IUIDX WLHZH VBPHE VXBSX ALPOM QGRRY IQMHR FIWLH VHMFL VHROW SUMIC RYWEN ISSVW HWVMR RRJLX KSZQX GKARY OHWLD XEIZS UXKXR CRYGS LLHEU EEMGS IJLZH LXRGV HHWLR YVEQH IVDRF WIVRQ RYUJU IQGKJ UMHRG WSIUL DTVXK IEVLX LWKAR YOHSE BQRVH SUQDC EIWLH CFEQR RXDJI SUHWS LARRG IULRA WLHCI IHPDF RYWXK EWTHV KESWB SXWKS XPGEV OWLHQ LJBSX ADRWX RSXXE MGCRY UWRGD POIGJ UMHRG WWLHR OIDZH XKIPS QIBMQ YQQDV NIGXU IDWXV BFLPO WLROS FOHVD XWLHJ DVHRG SIXKI SPDXI SUQLR IVLIG VLGKW WVDWV ILALP OPHEY IWLHH HXDMO WLROS FOHVB SXALP OJLRG XKINI BMQHR RRXWV BXRHR YEPHG USVWP ILXZM OPQSW ARVNE QHRYU PLXWP HKDQH ALPOI QHEII SUILX KEVIY IQTUS SIUPB FHKXR\"\n",
    "#cipher_input=cipher_input[::-1] this bit reverses the cipher if needed\n",
    "print(cipher_input)\n",
    "print(len(cipher_input))"
   ]
  },
  {
   "cell_type": "code",
   "execution_count": 3,
   "metadata": {
    "collapsed": false
   },
   "outputs": [
    {
     "name": "stdout",
     "output_type": "stream",
     "text": [
      "WLHJL VVXLX HQLRR YUPLX WPHEX GWMRR ZMOPE IWLHP RGDXL SQSIE VEIIK SXWHM QXKIX OVIFX RVRJE IUPLR LXLWD QLRRV VXRTR ZHVRR WLHVD XOMQI VFXXB SXRHZ HVNRR ABSXQ LKKXJ IWPXG NCDRG JLRGW RQHSQ ILRWI UIVXL RJLLH LRJXK IUIDX WLHZH VBPHE VXBSX ALPOM QGRRY IQMHR FIWLH VHMFL VHROW SUMIC RYWEN ISSVW HWVMR RRJLX KSZQX GKARY OHWLD XEIZS UXKXR CRYGS LLHEU EEMGS IJLZH LXRGV HHWLR YVEQH IVDRF WIVRQ RYUJU IQGKJ UMHRG WSIUL DTVXK IEVLX LWKAR YOHSE BQRVH SUQDC EIWLH CFEQR RXDJI SUHWS LARRG IULRA WLHCI IHPDF RYWXK EWTHV KESWB SXWKS XPGEV OWLHQ LJBSX ADRWX RSXXE MGCRY UWRGD POIGJ UMHRG WWLHR OIDZH XKIPS QIBMQ YQQDV NIGXU IDWXV BFLPO WLROS FOHVD XWLHJ DVHRG SIXKI SPDXI SUQLR IVLIG VLGKW WVDWV ILALP OPHEY IWLHH HXDMO WLROS FOHVB SXALP OJLRG XKINI BMQHR RRXWV BXRHR YEPHG USVWP ILXZM OPQSW ARVNE QHRYU PLXWP HKDQH ALPOI QHEII SUILX KEVIY IQTUS SIUPB FHKXR\n",
      "839\n"
     ]
    }
   ],
   "source": [
    "#convert the cipher text to upper case\n",
    "cipher_input=cipher_input.upper()\n",
    "print (cipher_input)\n",
    "print(len(cipher_input))"
   ]
  },
  {
   "cell_type": "code",
   "execution_count": 4,
   "metadata": {
    "collapsed": false
   },
   "outputs": [
    {
     "name": "stdout",
     "output_type": "stream",
     "text": [
      "WLHJLVVXLXHQLRRYUPLXWPHEXGWMRRZMOPEIWLHPRGDXLSQSIEVEIIKSXWHMQXKIXOVIFXRVRJEIUPLRLXLWDQLRRVVXRTRZHVRRWLHVDXOMQIVFXXBSXRHZHVNRRABSXQLKKXJIWPXGNCDRGJLRGWRQHSQILRWIUIVXLRJLLHLRJXKIUIDXWLHZHVBPHEVXBSXALPOMQGRRYIQMHRFIWLHVHMFLVHROWSUMICRYWENISSVWHWVMRRRJLXKSZQXGKARYOHWLDXEIZSUXKXRCRYGSLLHEUEEMGSIJLZHLXRGVHHWLRYVEQHIVDRFWIVRQRYUJUIQGKJUMHRGWSIULDTVXKIEVLXLWKARYOHSEBQRVHSUQDCEIWLHCFEQRRXDJISUHWSLARRGIULRAWLHCIIHPDFRYWXKEWTHVKESWBSXWKSXPGEVOWLHQLJBSXADRWXRSXXEMGCRYUWRGDPOIGJUMHRGWWLHROIDZHXKIPSQIBMQYQQDVNIGXUIDWXVBFLPOWLROSFOHVDXWLHJDVHRGSIXKISPDXISUQLRIVLIGVLGKWWVDWVILALPOPHEYIWLHHHXDMOWLROSFOHVBSXALPOJLRGXKINIBMQHRRRXWVBXRHRYEPHGUSVWPILXZMOPQSWARVNEQHRYUPLXWPHKDQHALPOIQHEIISUILXKEVIYIQTUSSIUPBFHKXR\n",
      "700\n"
     ]
    }
   ],
   "source": [
    "#removes everything except capital letters and \n",
    "#makes new cipher text string comprising of just capital letters\n",
    "cipher_text=\"\"\n",
    "for x in cipher_input:\n",
    "    if 64<ord(x)<91:\n",
    "        cipher_text=cipher_text+x\n",
    "\n",
    "print(cipher_text)\n",
    "print(len(cipher_text))"
   ]
  },
  {
   "cell_type": "code",
   "execution_count": 5,
   "metadata": {
    "collapsed": true
   },
   "outputs": [],
   "source": [
    "def vignere(cipher,period,n,shift_number): #for cipher text, cipher, changes letters in every n-th place with a caesar shift\n",
    "    \n",
    "    i=0\n",
    "    part_plain=[]\n",
    "    while i<len(cipher):\n",
    "        part_plain.append(cipher[i])\n",
    "        i+=1\n",
    "    \n",
    "    i=0\n",
    "    while i<(len(cipher_text)-n)/period:\n",
    "        character=cipher[period*i+n] #picks up a charcter in an nth place every period\n",
    "        cipher_character_number=ord(character)-65\n",
    "        plain_character_number=(cipher_character_number-shift_number) % 26\n",
    "        plain_character=chr(plain_character_number+65)\n",
    "        part_plain[period*i+n]=plain_character\n",
    "        i+=1\n",
    "        \n",
    "    #rebuild decrypt\n",
    "    i=0\n",
    "    part_decrypt=\"\"\n",
    "    while i<len(cipher):\n",
    "        part_decrypt=part_decrypt+part_plain[i]\n",
    "        i+=1\n",
    "    \n",
    "    return part_decrypt\n",
    "        "
   ]
  },
  {
   "cell_type": "code",
   "execution_count": 6,
   "metadata": {
    "collapsed": false
   },
   "outputs": [
    {
     "name": "stdout",
     "output_type": "stream",
     "text": [
      "TLEJIVSXIXEQIROYRPIXTPEEUGTMORWMLPBITLEPOGAXISNSFESEFIHSUWEMNXHIUOSICXOVOJBIRPIRIXIWAQIROVSXOTOZEVORTLEVAXLMNISFUXYSUREZEVKROAYSUQIKHXGITPUGKCARDJIRDWOQESNIIRTIRISXIRGLIHIRGXHIRIAXTLEZEVYPEESXYSUAIPLMNGORVINMERCITLEVEMCLSHOOTSRMFCOYTEKIPSSWEWSMOROJIXHSWQUGHAOYLHTLAXBIWSRXHXOCOYDSILEEREBMDSFJIZELURDVEHTLOYSENHFVARCWFVOQOYRJRINGHJRMERDWPIRLATSXHIBVIXIWHAOYLHPEYQOVESRQACBITLECCENROXAJFSRHTSIAORDIRLOATLECFIEPAFOYTXHETTEVHEPWYSUWHSUPDESOTLEQIJYSUAARTXOSUXBMDCOYRWOGAPLIDJRMERDWTLERLIAZEXHIMSNIYMNYNQAVKIDXRIAWUVYFIPLWIRLSCOEVAXTLEJAVERDSFXHIPPAXFSRQIRFVIIDVIGHWTVAWSIIAIPLPEEVITLEHEXAMLWIRLSCOEVYSUAIPLJIRDXHIKIYMNHOROXTVYXOHOYBPEGRSSWMIIXWMLPNSTAOVKENHOYRPIXTPEKAQEAIPLINHBIFSRIIXHESIVINTRSPIRPYFEKUR\n",
      "700\n"
     ]
    }
   ],
   "source": [
    "print(vignere(cipher_text,2,0,3))\n",
    "print(len(vignere(cipher_text,2,0,3)))"
   ]
  },
  {
   "cell_type": "code",
   "execution_count": 7,
   "metadata": {
    "collapsed": false
   },
   "outputs": [
    {
     "name": "stdout",
     "output_type": "stream",
     "text": [
      "THEFIRSTITEMINOURLITTLEAUCTIONWILLBETHELOCATIONOFASAFEHOUSEINTHEUKSECTOROFBERLINITISAMINORSTOPOVERONTHERATLINESBUTYOUNEVERKNOWYOUMIGHTGETLUCKYANDFINDSOMEONEINTERESTINGHIDINGTHEREATTHEVERYLEASTYOUWILLINCONVENIENCETHEREICHSDOKTORIFYOUTAKEPOSSESSIONOFITHOWMUCHWOULDTHATBEWORTHTOYOUDOIHEARABIDOFFIVEHUNDREDTHOUSANDFRANCSFROMOURFRENCHFRIENDSPERHAPSTHEBRITISHWOULDPAYMOREORMAYBETHEYCANNOTAFFORDTOIWONDERHOWTHEYFEELABOUTTHATPERHAPSYOUSHOULDASKTHEMIFYOUWANTTOOUTBIDYOURSOCALLEDFRIENDSTHENLEAVETHEMONEYINUNMARKEDTREASURYBILLSINLOCKERATTHEFARENDOFTHEPLATFORMINFRIEDRICHSTRASSEIWILLLEAVETHEDETAILSINLOCKERYOUWILLFINDTHEKEYINDONOTTRYTODOUBLECROSSMEITWILLNOTWORKANDOURLITTLEGAMEWILLENDBEFOREITHASEVENPROPERLYBEGUN\n"
     ]
    }
   ],
   "source": [
    "print(vignere(vignere(cipher_text,2,1,4),2,0,3))"
   ]
  },
  {
   "cell_type": "code",
   "execution_count": null,
   "metadata": {
    "collapsed": true
   },
   "outputs": [],
   "source": []
  }
 ],
 "metadata": {
  "kernelspec": {
   "display_name": "Python 3",
   "language": "python",
   "name": "python3"
  },
  "language_info": {
   "codemirror_mode": {
    "name": "ipython",
    "version": 3
   },
   "file_extension": ".py",
   "mimetype": "text/x-python",
   "name": "python",
   "nbconvert_exporter": "python",
   "pygments_lexer": "ipython3",
   "version": "3.4.3"
  }
 },
 "nbformat": 4,
 "nbformat_minor": 0
}
