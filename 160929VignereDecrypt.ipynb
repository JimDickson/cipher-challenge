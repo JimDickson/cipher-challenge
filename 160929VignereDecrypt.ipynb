{
 "cells": [
  {
   "cell_type": "markdown",
   "metadata": {},
   "source": [
    "# Vignere Decrypt Program"
   ]
  },
  {
   "cell_type": "code",
   "execution_count": 1,
   "metadata": {
    "collapsed": true
   },
   "outputs": [],
   "source": [
    "def vignere_decoder(text,code_word):\n",
    "    \n",
    "    n=len(text)\n",
    "    m=len(code_word)\n",
    "    alphabet=\"ABCDEFGHIJKLMNOPQRSTUVWXYZ\"\n",
    "    cipher_array=[]\n",
    "    \n",
    "    #make cipher text of n _s\n",
    "    x=0\n",
    "    while x<n:\n",
    "        cipher_array.append(\"_\")\n",
    "        x+=1\n",
    "    \n",
    "    \n",
    "    x=0\n",
    "    #for each letter in the codeword\n",
    "    while x<m:\n",
    "        y=0\n",
    "        working_string=\"\"\n",
    "        #strip out every xth letter in m-blocks\n",
    "        while y<n:\n",
    "            if y%m==x:\n",
    "                working_string=working_string+text[y]\n",
    "            y+=1\n",
    "        \n",
    "        #make caesar shift based on xth letter of the code word\n",
    "        y=0\n",
    "        key=\"\"\n",
    "        while y<26:\n",
    "            shift_mod=(y+ord(code_word[x])-65)%26\n",
    "            character_number=65+shift_mod\n",
    "            key=key+chr(character_number)\n",
    "            y+=1\n",
    "        \n",
    "        #make caesar shift\n",
    "        substitution=text.maketrans(key,alphabet)\n",
    "        working_string=working_string.translate(substitution)\n",
    "        \n",
    "        #compile into cipher_text\n",
    "        y=0\n",
    "        while y<len(working_string):\n",
    "            z=0\n",
    "            while z<n:\n",
    "                if z%m==x: cipher_array[z]=working_string[z//m]\n",
    "                z+=1\n",
    "            y+=1\n",
    "        x+=1\n",
    "        \n",
    "    #make cipher text\n",
    "    x=0\n",
    "    cipher_text=\"\"\n",
    "    while x<n:\n",
    "        cipher_text=cipher_text+cipher_array[x]\n",
    "        x+=1\n",
    "        \n",
    "    return cipher_text\n",
    "        \n",
    "                "
   ]
  },
  {
   "cell_type": "code",
   "execution_count": 2,
   "metadata": {
    "collapsed": true
   },
   "outputs": [],
   "source": [
    "#removes everything except capital letters and \n",
    "#makes new cipher text string comprising of just capital letters\n",
    "def strip_text(text):\n",
    "    output_text=\"\"\n",
    "    for x in text:\n",
    "        if 64<ord(x)<91:\n",
    "            output_text=output_text+x\n",
    "\n",
    "    return output_text"
   ]
  },
  {
   "cell_type": "code",
   "execution_count": 4,
   "metadata": {
    "collapsed": false
   },
   "outputs": [
    {
     "data": {
      "text/plain": [
       "'NOONEWOULDHAVEBELIEVEDINTHELASTYEARSOFTHENINETEENTHCENTURYTHATTHISWORLDWASBEINGWATCHEDKEENLYANDCLOSELYBYINTELLIGENCESGREATERTHANMANSANDYETASMORTALASHISOWNTHATASMENBUSIEDTHEMSELVESABOUTTHEIRVARIOUSCONCERNSTHEYWERESCRUTINISEDANDSTUDIEDPERHAPSALMOSTASNARROWLYASAMANWITHAMICROSCOPEMIGHTSCRUTINISETHETRANSIENTCREATURESTHATSWARMANDMULTIPLYINADROPOFWATERWITHINFINITECOMPLACENCYMENWENTTOANDFROOVERTHISGLOBEABOUTTHEIRLITTLEAFFAIRSSERENEINTHEIRASSURANCEOFTHEIREMPIREOVERMATTERITISPOSSIBLETHATTHEINFUSORIAUNDERTHEMICROSCOPEDOTHESAMENOONEGAVEATHOUGHTTOTHEOLDERWORLDSOFSPACEASSOURCESOFHUMANDANGERORTHOUGHTOFTHEMONLYTODISMISSTHEIDEAOFLIFEUPONTHEMASIMPOSSIBLEORIMPROBABLEITISCURIOUSTORECALLSOMEOFTHEMENTALHABITSOFTHOSEDEPARTEDDAYSATMOSTTERRESTRIALMENFANCIEDTHEREMIGHTBEOTHERMENUPONMARSPERHAPSINFERIORTOTHEMSELVESANDREADYTOWELCOMEAMISSIONARYENTERPRISEYETACROSSTHEGULFOFSPACEMINDSTHATARETOOURMINDSASOURSARETOTHOSEOFTHEBEASTSTHATPERISHINTELLECTSVASTANDCOOLANDUNSYMPATHETICREGARDEDTHISEARTHWITHENVIOUSEYESANDSLOWLYANDSURELYDREWTHEIRPLANSAGAINSTUS'"
      ]
     },
     "execution_count": 4,
     "metadata": {},
     "output_type": "execute_result"
    }
   ],
   "source": [
    "#input ciopher text\n",
    "text=\"JCFYHSCLWGDOMPEAZZPYARZYWDSCLVPMVLUOCWEKABZYHPSVYWDQVYWQFPEKWHKSLOKFCOZKRDEAWERZWHTSHZYVPQHMRYGYZFDHHMSJLJHVWOEUVYFAGXCHWHVCWDOEXDJGRYGUSKLVICIEDHOJSLOCNYWDOKLVISEMXOWVOWDSDDHHJVDDXCLEWDSZCYWFZZXOQFYFAFEDWDSPHHNSJNUQHZYLOSULQZGKFGESUAHNVRAVWZDZVPOJYDNFFHOUOJLPWBNTWDODTFNCJNRLSDTJDHJNUQHZYLOSKSHPFRYVESEEFNSREXNSJEKWHJHDNARYGIICELLZPTQWRIZSKTNLWAFNTWDWEQLJWKPFKAGWDYSENBISEHHJHKZDJRWCRKJVCWDWJROKPVLEKIKEKAWIWLPHCPDBTRTUOGVCHJSZYWDSZCDOGLCDJQVZIPVVTUAAGTUACMPUIOKEHNWKTVLCJDLXZVEKWHKSHEBWFVKFZLXJRVCWDSDTFNCJNRLSUZWDSJLPABFZQAURGHWHYZXCVKERPVVZOZSIHRNZUDRBGGLFAOJDRQFTPVKTYFPWBULQCSIZUPVFFJDHFQWDSDZQHMKZGEGDTVOHYPLZSRZIHWWPXLCEEKAARDLIDFDVEPCPRNWDAUKPRMOAWKTVYIITRQGKZUAQRWOOCDPRBHYPPABKLODOSTWOCWEKKGVOHLOIEHZRRJVWHDZVPHVCUAGKCLWZDPQBOENLARKSHNSDTJDHSPRPVVCPABLARJARCVLSISDLGZYIAFZZUPCKSHIGVWYAGRYGNSROBPCNPOYCDPDIWJDLKBRCBABKPULFZDHUSKLFNCJDWDSXFOBCWDSWQVXLJRJEKWHRCHPCFFUIWEOVWGFFUOOIPWKHYZVACWEKAPVLVPGKSDPDVCLOVZYWAZCPFPGMLVPOEOFKCCLQZIEDBIDREKAHZNUAURCGARKSLOSRCWDKZEKABMTRQGVJHOOEOVHCNWBWBUDXNSCJGNSNEKAWIAOWBJLJWWEDWQG\"\n",
    "\n",
    "#strip out the spaces\n",
    "text=strip_text(text)\n",
    "\n",
    "\n",
    "vignere_decoder(text,\"WORLD\")"
   ]
  },
  {
   "cell_type": "code",
   "execution_count": null,
   "metadata": {
    "collapsed": true
   },
   "outputs": [],
   "source": []
  }
 ],
 "metadata": {
  "anaconda-cloud": {},
  "kernelspec": {
   "display_name": "Python [Root]",
   "language": "python",
   "name": "Python [Root]"
  },
  "language_info": {
   "codemirror_mode": {
    "name": "ipython",
    "version": 3
   },
   "file_extension": ".py",
   "mimetype": "text/x-python",
   "name": "python",
   "nbconvert_exporter": "python",
   "pygments_lexer": "ipython3",
   "version": "3.5.2"
  }
 },
 "nbformat": 4,
 "nbformat_minor": 0
}
