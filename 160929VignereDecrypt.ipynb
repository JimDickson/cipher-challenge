{
 "cells": [
  {
   "cell_type": "markdown",
   "metadata": {},
   "source": [
    "# Vignere Decrypt Program"
   ]
  },
  {
   "cell_type": "code",
   "execution_count": 1,
   "metadata": {
    "collapsed": true
   },
   "outputs": [],
   "source": [
    "def vignere_decoder(text,code_word):\n",
    "    \n",
    "    n=len(text)\n",
    "    m=len(code_word)\n",
    "    alphabet=\"ABCDEFGHIJKLMNOPQRSTUVWXYZ\"\n",
    "    cipher_array=[]\n",
    "    \n",
    "    #make cipher text of n _s\n",
    "    x=0\n",
    "    while x<n:\n",
    "        cipher_array.append(\"_\")\n",
    "        x+=1\n",
    "    \n",
    "    \n",
    "    x=0\n",
    "    #for each letter in the codeword\n",
    "    while x<m:\n",
    "        y=0\n",
    "        working_string=\"\"\n",
    "        #strip out every xth letter in m-blocks\n",
    "        while y<n:\n",
    "            if y%m==x:\n",
    "                working_string=working_string+text[y]\n",
    "            y+=1\n",
    "        \n",
    "        #make caesar shift based on xth letter of the code word\n",
    "        y=0\n",
    "        key=\"\"\n",
    "        while y<26:\n",
    "            shift_mod=(y+ord(code_word[x])-65)%26\n",
    "            character_number=65+shift_mod\n",
    "            key=key+chr(character_number)\n",
    "            y+=1\n",
    "        \n",
    "        #make caesar shift\n",
    "        substitution=text.maketrans(key,alphabet)\n",
    "        working_string=working_string.translate(substitution)\n",
    "        \n",
    "        #compile into cipher_text\n",
    "        y=0\n",
    "        while y<len(working_string):\n",
    "            z=0\n",
    "            while z<n:\n",
    "                if z%m==x: cipher_array[z]=working_string[z//m]\n",
    "                z+=1\n",
    "            y+=1\n",
    "        x+=1\n",
    "        \n",
    "    #make cipher text\n",
    "    x=0\n",
    "    cipher_text=\"\"\n",
    "    while x<n:\n",
    "        cipher_text=cipher_text+cipher_array[x]\n",
    "        x+=1\n",
    "        \n",
    "    return cipher_text\n",
    "        \n",
    "                "
   ]
  },
  {
   "cell_type": "code",
   "execution_count": 4,
   "metadata": {
    "collapsed": true
   },
   "outputs": [],
   "source": [
    "#removes everything except capital letters and \n",
    "#makes new cipher text string comprising of just capital letters\n",
    "def strip_text(text):\n",
    "    output_text=\"\"\n",
    "    for x in text:\n",
    "        if 64<ord(x)<91:\n",
    "            output_text=output_text+x\n",
    "\n",
    "    return output_text"
   ]
  },
  {
   "cell_type": "code",
   "execution_count": 7,
   "metadata": {
    "collapsed": false
   },
   "outputs": [
    {
     "data": {
      "text/plain": [
       "'MYFATHERSFAMILYNAMEBEINGPIRRIPANDMYCHRISTIANNAMEPHILIPMYINFANTTONGUECOULDMAKEOFBOTHNAMESNOTHINGLONGERORMOREEXPLICITTHANPIPSOICALLEDMYSELFPIPANDCAMETOBECALLEDPIPIGIVEPIRRIPASMYFATHERSFAMILYNAMEONTHEAUTHORITYOFHISTOMBSTONEANDMYSISTERMRSJOEGARGERYWHOMARRIEDTHEBLACKSMITHASINEVERSAWMYFATHERORMYMOTHERANDNEVERSAWANYLIKENESSOFEITHEROFTHEMFORTHEIRDAYSWERELONGBEFORETHEDAYSOFPHOTOGRAPHSMYFIRSTFANCIESREGARDINGWHATTHEYWERELIKEWEREUNREASONABLYDERIVEDFROMTHEIRTOMBSTONESTHESHAPEOFTHELETTERSONMYFATHERSGAVEMEANODDIDEATHATHEWASASQUARESTOUTDARKMANWITHCURLYBLACKHAIRFROMTHECHARACTERANDTURNOFTHEINSCRIPTIONALSOGEORGIANAWIFEOFTHEABOVEIDREWACHILDISHCONCLUSIONTHATMYMOTHERWASFRECKLEDANDSICKLYTOFIVELITTLESTONELOZENGESEACHABOUTAFOOTANDAHALFLONGWHICHWEREARRANGEDINANEATROWBESIDETHEIRGRAVEANDWERESACREDTOTHEMEMORYOFFIVELITTLEBROTHERSOFMINEWHOGAVEUPTRYINGTOGETALIVINGEXCEEDINGLYEARLYINTHATUNIVERSALSTRUGGLEIAMINDEBTEDFORABELIEFIRELIGIOUSLYENTERTAINEDTHATTHEYHADALLBEENBORNONTHEIROFGREATEXPECTATIONSBACKSWITHTHEIRHANDSINTHEIRTROUSERSPOCKETSANDHADNEVERTAKENTHEMOUTINTHISSTATEOFEXISTENCEOURSWASTHEMARSHCOUNTRYDOWNBYTHERIVERWITHINASTHERIVERWOUNDTWENTYMILESOFTHESEAMYFIRSTMOSTVIVIDANDBROADIMPRESSIONOFTHEIDENTITYOFTHINGSSEEMSTOMETOHAVEBEENGAINEDONAMEMORABLERAWAFTERNOONTOWARDSEVENINGATSUCHATIMEIFOUNDOUTFORCERTAINTHATTHISBLEAKPLACEOVERGROWNWITHNETTLESWASTHECHURCHYARDANDTHATPHILIPPIRRIPLATEOFTHISPARISHANDALSOGEORGIANAWIFEOFTHEABOVEWEREDEADANDBURIEDANDTHATALEXANDERBARTHOLOMEWABRAHAMTOBIASANDROGERINFANTCHILDRENOFTHEAFORESAIDWEREALSODEADANDBURIEDANDTHATTHEDARKFLATWILDERNESSBEYONDTHECHURCHYARDINTERSECTEDWITHDYKESANDMOUNDSANDGATESWITHSCATTEREDCATTLEFEEDINGONITWASTHEMARSHESANDTHATTHELOWLEADENLINEBEYONDWASTHERIVERANDTHATTHEDISTANTSAVAGELAIRFROMWHICHTHEWINDWASRUSHINGWASTHESEAANDTHATTHESMALLBUNDLEOFSHIVERSGROWINGAFRAIDOFITALLANDBEGINNINGTOCRYWASPIPHOLDYOURNOISECRIEDATERRIBLEVOICEASAMANSTARTEDUPFROMAMONGTHEGRAVESATTHESIDEOFTHECHURCHPORCHKEEPSTILLYOULITTLEDEVILORILLCUTYOURTHROAT'"
      ]
     },
     "execution_count": 7,
     "metadata": {},
     "output_type": "execute_result"
    }
   ],
   "source": [
    "#input ciopher text\n",
    "text=\"YSIMN KQLVR UPUFB ZUPQV HUHJB CUDCS MHGYS FTLLE NLMHQ MGHBB LXCSY SLZZD ZNWAH JGYFA OOPGD WYRRV RFBQM GHEHR FBLZA OAHJQ LRDGR DYHJJ OUWLF NKMHS UJVAC FMFOQ XPKMH XZSUJ DZXFM GHFIE QWDXF HPJLB CJUPH BCUDC SMMPK ZDFBH DMIMG LXSQM GHAHW TYDGN KALLF SRRBL ENRYV VFIQQ UQPGB ECVFY UYLVV IHSUU SYUKQ KAGDD LLQXW TYEXU FWMPU NKMML ZYYQL VMQPK ZDFBH DIUYS PANKQ LDZXQ QPHDM DIUQK FLWYQ QMVAZ HUNKQ LRRNK QGIAL WTYLD XDKMZ QLHXI QSVHR IUQNK QXDKM RRJKA NRSLD BBVYS IULVF ZDZWL QMUQA DDXLZ AZTUW FBHKQ HDYOU EHIYU QOQDY DEIQM VOKXH DCYQX IDIPF BHULW AGEEN RZYVF BHEBD BYRRN KQFHF NHDMR ZGBRU WTYUE ADHYP QUQAX GUXHM NKMNK QQDEU VCODD YVFIX FXDDE PMHZU NKOOU XSEXU FWBDU LIDIP FBHOB DDUFF YUMHG FOUZI IFBHU HVOLL BNLAH DXMRS YRDAL MHDIC IQIIF BHMVR HYLPL HIUFT COPCV TWRZW OGMLA HWTUW YSPAN KQLZM MIDYF WFHPU QPMLO EOKNR RCYQF LFNOQ MWAHH XICQH JQMHM WKMVR GNDRI RFUQP UKMFI XIQSQ KUWKI YUQUU DUQSY GUHDZ YDFLR IVHEC GQNKQ CUSLD HYDZX ZQLHE UFDYG FIWTY PQGRD SRRZL HYOUN WXYED IWTYU EIIYC QQQKA ADHYX BNUKC QSNRS YWMFL HCQSY AOYHP CQSFB QUUXS LZNKM NXZCY QLVMF VFLXS AOQCD YCQPY EFYGR IUMVH XCHRC UQFLS CRGMO KYQFY UFULZ YGFBD FNKQS KMXDX FEQYQ NIUZI QFBHU LRRAU QUWQR SQWWM NLAHV NUFWM ZUNKF BHULK MHGEC QFBHU LWDIX EYUEJ ROEHF MDZXK MXQQP HDNDW YQFBH YIXFC QFBLE MWMNH AZHJC VFYQO YRGLV IUVFB HYUUE BFAOQ FLBPI ZZVBF BHDCY QLZUN KUHDE NKQLL HYUII XZXWI YQFSP UFHEI IFBHE YDYSI ULVFG RENYU PLPUQ PVUAU GUGSD YVECR ZIIFB HUXHZ NLFSR RNKUH JEMHQ GVFIP QNRTU YQVHQ HJMCQ QXRZU PQGRD UEXYU MQDRN HDHRA HWAQD DXVQP HZCQS UWEOF TUWUG HUZRG HGAOW RIUOY UFULZ NKMNW TCVNF HMESX UFQIY QLJDI ZZQLF BQQNW XYVIU VFBHO BXDWK KUUPU QPNKM NSTCO UJSUL UUJOM NHAZW TCVBU UUMKM HGMFV AAHAL JUUQM QLRYR RNKQU EAPHI YUQXH MXDZX EGLLQ XDZXW TUWMF HJUQP YUNUU FBRXI PQQDN LDTUP FIEUU VMHGD IJQLL ZZDZN FTCOP LHZII FBHMZ RDYVM CGIYU QUOEI GQUGM HGNOU UYGMH GFBDF NKQXD DEIXU WICOP YUZYV EVHKI QPNKQ WKGLF TSDDX LZNHD MHONH PQLFB GKEHE UQPGR GHGEU QPADF YVICW TMFMN WQLHP WDFNO QZHQX LZARZ CWIUV FBHYU UEBHE UQPNK MNWTY OAQOQ UGQHO UHHNY BAHGI UVFBH DCYQL DZXWT UWFBH PCVFU QFMDH UJQFD ULIDI PIBLO BWTYZ UHGIU VDOVT CQSQD ENKQM HMUQP NKMNW TYVYU OXVXZ XOQII EBLHY UEAUA QLZAD RLDUX RRCWM FOMHG NYJUH QUHJF IFDSZ MMSUJ KAFGK IXDHR UMHOL LQXDF YUDCE XYYAC FQUVM GDZMW MLWQX XBZUA GDYIQ SNKQA UMPHE UWFBH ECGQI IFBHO BXDWK BIUOB NQYSE NLXFB AOOUN WXYGQ PLXIU UFOOO WKIXD NKDID F\"\n",
    "\n",
    "#strip out the spaces\n",
    "text=strip_text(text)\n",
    "\n",
    "\n",
    "vignere_decoder(text,\"MUD\")"
   ]
  },
  {
   "cell_type": "code",
   "execution_count": null,
   "metadata": {
    "collapsed": true
   },
   "outputs": [],
   "source": []
  }
 ],
 "metadata": {
  "anaconda-cloud": {},
  "kernelspec": {
   "display_name": "Python [Root]",
   "language": "python",
   "name": "Python [Root]"
  },
  "language_info": {
   "codemirror_mode": {
    "name": "ipython",
    "version": 3
   },
   "file_extension": ".py",
   "mimetype": "text/x-python",
   "name": "python",
   "nbconvert_exporter": "python",
   "pygments_lexer": "ipython3",
   "version": "3.5.2"
  }
 },
 "nbformat": 4,
 "nbformat_minor": 0
}
