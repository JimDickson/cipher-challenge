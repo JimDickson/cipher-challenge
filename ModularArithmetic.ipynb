{
 "cells": [
  {
   "cell_type": "markdown",
   "metadata": {},
   "source": [
    "# Modular Arithmetic\n",
    "\n",
    "An investigation into an affine transformation based on modular arithmetic.\n",
    "\n",
    "$y=ax+b$"
   ]
  },
  {
   "cell_type": "code",
   "execution_count": 1,
   "metadata": {
    "collapsed": false
   },
   "outputs": [
    {
     "name": "stdout",
     "output_type": "stream",
     "text": [
      "Populating the interactive namespace from numpy and matplotlib\n"
     ]
    }
   ],
   "source": [
    "#import number and plotting functions\n",
    "%pylab inline"
   ]
  },
  {
   "cell_type": "code",
   "execution_count": 115,
   "metadata": {
    "collapsed": true
   },
   "outputs": [],
   "source": [
    "#set values for a and b\n",
    "a=13\n",
    "b=5"
   ]
  },
  {
   "cell_type": "code",
   "execution_count": 43,
   "metadata": {
    "collapsed": true
   },
   "outputs": [],
   "source": [
    "x_values=range(0,26)"
   ]
  },
  {
   "cell_type": "code",
   "execution_count": 116,
   "metadata": {
    "collapsed": false
   },
   "outputs": [
    {
     "name": "stdout",
     "output_type": "stream",
     "text": [
      "[5, 18, 5, 18, 5, 18, 5, 18, 5, 18, 5, 18, 5, 18, 5, 18, 5, 18, 5, 18, 5, 18, 5, 18, 5, 18]\n",
      "26\n"
     ]
    }
   ],
   "source": [
    "y_values=[(a*x+b) % 26 for x in x_values]\n",
    "\n",
    "print(y_values)\n",
    "print(len(y_values))"
   ]
  },
  {
   "cell_type": "code",
   "execution_count": 117,
   "metadata": {
    "collapsed": false,
    "scrolled": true
   },
   "outputs": [
    {
     "data": {
      "image/png": "[encoded data removed]",
      "text/plain": [
       "<matplotlib.figure.Figure at 0x4a2bdb0>"
      ]
     },
     "metadata": {},
     "output_type": "display_data"
    }
   ],
   "source": [
    "\n",
    "\n",
    "Title=\"Affine Shift ${0}x+{1}$ mod 26\".format(a,b)\n",
    "\n",
    "\n",
    "alphabet=[]\n",
    "\n",
    "x=0\n",
    "while x<26:\n",
    "    alphabet.append(chr(65+x))\n",
    "    x+=1\n",
    "\n",
    "\n",
    "plt.scatter(x_values, y_values)\n",
    "\n",
    "\n",
    "\n",
    "x = np.arange(len(alphabet))\n",
    "y= np.arange(len(alphabet))\n",
    "plt.xlabel('Plain Text')\n",
    "plt.ylabel('Cipher Text')\n",
    "plt.title(Title)\n",
    "plt.xticks(x, alphabet)\n",
    "plt.yticks(y, alphabet)\n",
    "plt.yticks(rotation=90)\n",
    "plt.axes().set_aspect('equal', 'datalim')\n",
    "\n",
    "#plt.tight_layout()\n",
    "grid()\n",
    "#plt.figure(figsize=(80,20))\n",
    "#plt.show()\n",
    "plt.savefig('AffineShift.png')"
   ]
  },
  {
   "cell_type": "code",
   "execution_count": null,
   "metadata": {
    "collapsed": true
   },
   "outputs": [],
   "source": []
  },
  {
   "cell_type": "code",
   "execution_count": 9,
   "metadata": {
    "collapsed": false
   },
   "outputs": [
    {
     "name": "stdout",
     "output_type": "stream",
     "text": [
      "3\n",
      "5\n",
      "7\n",
      "9\n",
      "11\n",
      "13\n",
      "15\n",
      "17\n",
      "19\n",
      "21\n",
      "23\n",
      "25\n",
      "1\n",
      "3\n",
      "5\n",
      "7\n",
      "9\n",
      "11\n",
      "13\n",
      "15\n",
      "17\n",
      "19\n",
      "21\n",
      "23\n",
      "25\n"
     ]
    }
   ],
   "source": [
    "a=2\n",
    "b=3\n",
    "x_values= range(0,25)\n",
    "y_values=[(a*x+b) % 26 for x in x_values]\n",
    "    \n",
    "for x in x_values:\n",
    "    print(y_values[x])\n"
   ]
  },
  {
   "cell_type": "code",
   "execution_count": null,
   "metadata": {
    "collapsed": true
   },
   "outputs": [],
   "source": []
  }
 ],
 "metadata": {
  "anaconda-cloud": {},
  "kernelspec": {
   "display_name": "Python [Root]",
   "language": "python",
   "name": "Python [Root]"
  },
  "language_info": {
   "codemirror_mode": {
    "name": "ipython",
    "version": 3
   },
   "file_extension": ".py",
   "mimetype": "text/x-python",
   "name": "python",
   "nbconvert_exporter": "python",
   "pygments_lexer": "ipython3",
   "version": "3.5.2"
  }
 },
 "nbformat": 4,
 "nbformat_minor": 0
}
