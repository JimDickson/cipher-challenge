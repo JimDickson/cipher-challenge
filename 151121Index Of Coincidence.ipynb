{
 "cells": [
  {
   "cell_type": "code",
   "execution_count": 1,
   "metadata": {
    "collapsed": false
   },
   "outputs": [
    {
     "name": "stdout",
     "output_type": "stream",
     "text": [
      "Populating the interactive namespace from numpy and matplotlib\n"
     ]
    }
   ],
   "source": [
    "#import number and plotting functions\n",
    "%pylab inline"
   ]
  },
  {
   "cell_type": "code",
   "execution_count": 2,
   "metadata": {
    "collapsed": false
   },
   "outputs": [
    {
     "name": "stdout",
     "output_type": "stream",
     "text": [
      "DYIMX MESTE ZDPNF VVAMJ RNPSG CIGRV VFSIA DICUY OGYFY FMQQI FYFSM LQFXF ZBUOC SOVME CWMDD BNXUE DCIAQ VHFZA GORPK ZCEWF RQJIA NKLQG IYERF XPQAD VPXTO RXTIU AZBFZ HQONB BPSGE PRITE ZYWGL VXDFA GOURA YMBPP SGCIY VZIEN IALVX DFAGO UXTPG OOCMQ GMGRR XFSML MRROS MNDPS GMCGD YIKOW AYKYZ OMECK EZOBU KKCAF KNXFR XJKUO RXUYI TKDIM YLGRZ WUDVB DRKMX MVPPS GEZLD FTXLG NQRQQ ZNPRV WEWQX OPSGC IYVZI EHMJS CPRTV QYLVE PTIOJ MZLAG KCIYL BRIFY TLDRL VIZHI EXVHE ZTRDL WEEIE DRKMT VVMRR XPBLY LLMGM GRVEP OZRCJ SRLVB DYIDD ISOYS GDMND RWYLT YNZWO ZCADF RAFZB BZKUY IYZIM OPIAN ZAUWT VXTPG OMGRV MPPVG SKCAQ IOBZX UDPQY LFXPI TOEXI ZZXSE KUYGB EIIYM IFCPW TLTYG VWMJN BEILG YLEOU XTZCF KEHRC IAMJX AMMCK ZHPTZ RMKPK EWNXR GOZCA DFJYJ KUYFW UYOVP PSGHI ADKSW YWJWF VQLJB EKXTP BEORG TPZLY WCAFZ FYTEX WMQPI MQYLF DYIZW MGEJQ QPBVX KLQAI EUSCF SMOBZ XUDPR WSEED GBXWV UOILK KIXPD RX\n",
      "866\n"
     ]
    }
   ],
   "source": [
    "#define string to contain cipher text, print the string and print the string length\n",
    "\n",
    "cipher_input=\"DYIMX MESTE ZDPNF VVAMJ RNPSG CIGRV VFSIA DICUY OGYFY FMQQI FYFSM LQFXF ZBUOC SOVME CWMDD BNXUE DCIAQ VHFZA GORPK ZCEWF RQJIA NKLQG IYERF XPQAD VPXTO RXTIU AZBFZ HQONB BPSGE PRITE ZYWGL VXDFA GOURA YMBPP SGCIY VZIEN IALVX DFAGO UXTPG OOCMQ GMGRR XFSML MRROS MNDPS GMCGD YIKOW AYKYZ OMECK EZOBU KKCAF KNXFR XJKUO RXUYI TKDIM YLGRZ WUDVB DRKMX MVPPS GEZLD FTXLG NQRQQ ZNPRV WEWQX OPSGC IYVZI EHMJS CPRTV QYLVE PTIOJ MZLAG KCIYL BRIFY TLDRL VIZHI EXVHE ZTRDL WEEIE DRKMT VVMRR XPBLY LLMGM GRVEP OZRCJ SRLVB DYIDD ISOYS GDMND RWYLT YNZWO ZCADF RAFZB BZKUY IYZIM OPIAN ZAUWT VXTPG OMGRV MPPVG SKCAQ IOBZX UDPQY LFXPI TOEXI ZZXSE KUYGB EIIYM IFCPW TLTYG VWMJN BEILG YLEOU XTZCF KEHRC IAMJX AMMCK ZHPTZ RMKPK EWNXR GOZCA DFJYJ KUYFW UYOVP PSGHI ADKSW YWJWF VQLJB EKXTP BEORG TPZLY WCAFZ FYTEX WMQPI MQYLF DYIZW MGEJQ QPBVX KLQAI EUSCF SMOBZ XUDPR WSEED GBXWV UOILK KIXPD RX\"\n",
    "#cipher_input=cipher_input[::-1] this bit reverses the cipher if needed\n",
    "print(cipher_input)\n",
    "print(len(cipher_input))"
   ]
  },
  {
   "cell_type": "code",
   "execution_count": 3,
   "metadata": {
    "collapsed": false
   },
   "outputs": [
    {
     "name": "stdout",
     "output_type": "stream",
     "text": [
      "DYIMX MESTE ZDPNF VVAMJ RNPSG CIGRV VFSIA DICUY OGYFY FMQQI FYFSM LQFXF ZBUOC SOVME CWMDD BNXUE DCIAQ VHFZA GORPK ZCEWF RQJIA NKLQG IYERF XPQAD VPXTO RXTIU AZBFZ HQONB BPSGE PRITE ZYWGL VXDFA GOURA YMBPP SGCIY VZIEN IALVX DFAGO UXTPG OOCMQ GMGRR XFSML MRROS MNDPS GMCGD YIKOW AYKYZ OMECK EZOBU KKCAF KNXFR XJKUO RXUYI TKDIM YLGRZ WUDVB DRKMX MVPPS GEZLD FTXLG NQRQQ ZNPRV WEWQX OPSGC IYVZI EHMJS CPRTV QYLVE PTIOJ MZLAG KCIYL BRIFY TLDRL VIZHI EXVHE ZTRDL WEEIE DRKMT VVMRR XPBLY LLMGM GRVEP OZRCJ SRLVB DYIDD ISOYS GDMND RWYLT YNZWO ZCADF RAFZB BZKUY IYZIM OPIAN ZAUWT VXTPG OMGRV MPPVG SKCAQ IOBZX UDPQY LFXPI TOEXI ZZXSE KUYGB EIIYM IFCPW TLTYG VWMJN BEILG YLEOU XTZCF KEHRC IAMJX AMMCK ZHPTZ RMKPK EWNXR GOZCA DFJYJ KUYFW UYOVP PSGHI ADKSW YWJWF VQLJB EKXTP BEORG TPZLY WCAFZ FYTEX WMQPI MQYLF DYIZW MGEJQ QPBVX KLQAI EUSCF SMOBZ XUDPR WSEED GBXWV UOILK KIXPD RX\n",
      "866\n"
     ]
    }
   ],
   "source": [
    "#convert the cipher text to upper case\n",
    "cipher_input=cipher_input.upper()\n",
    "print (cipher_input)\n",
    "print(len(cipher_input))"
   ]
  },
  {
   "cell_type": "code",
   "execution_count": 4,
   "metadata": {
    "collapsed": false
   },
   "outputs": [
    {
     "name": "stdout",
     "output_type": "stream",
     "text": [
      "DYIMXMESTEZDPNFVVAMJRNPSGCIGRVVFSIADICUYOGYFYFMQQIFYFSMLQFXFZBUOCSOVMECWMDDBNXUEDCIAQVHFZAGORPKZCEWFRQJIANKLQGIYERFXPQADVPXTORXTIUAZBFZHQONBBPSGEPRITEZYWGLVXDFAGOURAYMBPPSGCIYVZIENIALVXDFAGOUXTPGOOCMQGMGRRXFSMLMRROSMNDPSGMCGDYIKOWAYKYZOMECKEZOBUKKCAFKNXFRXJKUORXUYITKDIMYLGRZWUDVBDRKMXMVPPSGEZLDFTXLGNQRQQZNPRVWEWQXOPSGCIYVZIEHMJSCPRTVQYLVEPTIOJMZLAGKCIYLBRIFYTLDRLVIZHIEXVHEZTRDLWEEIEDRKMTVVMRRXPBLYLLMGMGRVEPOZRCJSRLVBDYIDDISOYSGDMNDRWYLTYNZWOZCADFRAFZBBZKUYIYZIMOPIANZAUWTVXTPGOMGRVMPPVGSKCAQIOBZXUDPQYLFXPITOEXIZZXSEKUYGBEIIYMIFCPWTLTYGVWMJNBEILGYLEOUXTZCFKEHRCIAMJXAMMCKZHPTZRMKPKEWNXRGOZCADFJYJKUYFWUYOVPPSGHIADKSWYWJWFVQLJBEKXTPBEORGTPZLYWCAFZFYTEXWMQPIMQYLFDYIZWMGEJQQPBVXKLQAIEUSCFSMOBZXUDPRWSEEDGBXWVUOILKKIXPDRX\n",
      "722\n"
     ]
    }
   ],
   "source": [
    "#removes everything except capital letters and \n",
    "#makes new cipher text string comprising of just capital letters\n",
    "cipher_text=\"\"\n",
    "for x in cipher_input:\n",
    "    if 64<ord(x)<91:\n",
    "        cipher_text=cipher_text+x\n",
    "\n",
    "print(cipher_text)\n",
    "print(len(cipher_text))"
   ]
  },
  {
   "cell_type": "code",
   "execution_count": 5,
   "metadata": {
    "collapsed": true
   },
   "outputs": [],
   "source": [
    "#define a function to count over-lapping occurences of a sub-string in a string\n",
    "def count_freq(string, word):\n",
    "    start   = 0\n",
    "    matches = 0\n",
    "\n",
    "    while True:\n",
    "        start = string.find (word, start) #find returns -1 on failure \n",
    "        if start < 0:\n",
    "            break\n",
    "\n",
    "        start   += 1\n",
    "        matches += 1\n",
    "\n",
    "    return matches"
   ]
  },
  {
   "cell_type": "code",
   "execution_count": 6,
   "metadata": {
    "collapsed": true
   },
   "outputs": [],
   "source": [
    "#produce letter frequency array\n",
    "def letter_frequencies(string):\n",
    "    letter_freq=[]\n",
    "    i=0\n",
    "    while i<26:\n",
    "        letter_freq.append(count_freq(string,chr(65+i)))\n",
    "        i+=1\n",
    "    return letter_freq\n",
    "    "
   ]
  },
  {
   "cell_type": "code",
   "execution_count": 7,
   "metadata": {
    "collapsed": false
   },
   "outputs": [
    {
     "name": "stdout",
     "output_type": "stream",
     "text": [
      "[25, 21, 24, 31, 35, 31, 34, 8, 43, 13, 26, 28, 38, 15, 30, 36, 22, 37, 23, 23, 20, 30, 23, 33, 38, 35]\n"
     ]
    }
   ],
   "source": [
    "print(letter_frequencies(cipher_text))"
   ]
  },
  {
   "cell_type": "markdown",
   "metadata": {},
   "source": [
    "$I_{c}$ is the index of coincidence and shows likelyhood of coincidences of letter in a string.\n",
    "\n",
    "In a random string $I_{c}= 0.038$.  In a monoalphabetic cipher $I_{c}=0.065$"
   ]
  },
  {
   "cell_type": "code",
   "execution_count": 9,
   "metadata": {
    "collapsed": true
   },
   "outputs": [],
   "source": [
    "def index_coincidence(string):\n",
    "    \n",
    "    sigma=0\n",
    "    n=len(string)\n",
    "    \n",
    "    i=0\n",
    "    while i<26:\n",
    "        f=letter_frequencies(string)[i]\n",
    "        sigma=sigma+f*(f-1)\n",
    "        i+=1\n",
    "    \n",
    "    return sigma/(n*(n-1))\n",
    "    "
   ]
  },
  {
   "cell_type": "code",
   "execution_count": 10,
   "metadata": {
    "collapsed": false
   },
   "outputs": [
    {
     "name": "stdout",
     "output_type": "stream",
     "text": [
      "0.04058690415358785\n"
     ]
    }
   ],
   "source": [
    "print(index_coincidence(cipher_text))"
   ]
  },
  {
   "cell_type": "markdown",
   "metadata": {},
   "source": [
    "The next job is to analyse how displacements of the string on itself give rise to different ...."
   ]
  }
 ],
 "metadata": {
  "kernelspec": {
   "display_name": "Python [Root]",
   "language": "python",
   "name": "Python [Root]"
  },
  "language_info": {
   "codemirror_mode": {
    "name": "ipython",
    "version": 3
   },
   "file_extension": ".py",
   "mimetype": "text/x-python",
   "name": "python",
   "nbconvert_exporter": "python",
   "pygments_lexer": "ipython3",
   "version": "3.5.2"
  }
 },
 "nbformat": 4,
 "nbformat_minor": 0
}
