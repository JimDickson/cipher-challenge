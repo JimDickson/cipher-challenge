{
 "cells": [
  {
   "cell_type": "markdown",
   "metadata": {},
   "source": [
    "#LETTER SUBSTITUTION TOOL"
   ]
  },
  {
   "cell_type": "markdown",
   "metadata": {},
   "source": [
    "##Set up Useful Variables\n",
    "We are going to need an alphabet, a key, a place to hold the cipher text and a place to hold the plain text once it has been decrypted."
   ]
  },
  {
   "cell_type": "code",
   "execution_count": 10,
   "metadata": {
    "collapsed": false
   },
   "outputs": [
    {
     "name": "stdout",
     "output_type": "stream",
     "text": [
      "ABCDEFGHIJKLMNOPQRSTUVWXYZ\n",
      "26\n"
     ]
    }
   ],
   "source": [
    "#going to need an alphabet at some stage\n",
    "alphabet=[\"A\",\"B\",\"C\",\"D\",\"E\",\"F\",\"G\",\"H\",\"I\",\"J\",\"K\",\"L\",\"M\",\"N\",\"O\",\"P\",\"Q\",\"R\",\"S\",\"T\",\"U\",\"V\",\"W\",\"X\",\"Y\",\"Z\"]\n",
    "\n",
    "#and build it into string form too\n",
    "alphabet_string=\"\"\n",
    "for x in alphabet:\n",
    "    alphabet_string=alphabet_string+x\n",
    "print(alphabet_string)\n",
    "print(len(alphabet_string))"
   ]
  },
  {
   "cell_type": "code",
   "execution_count": 5,
   "metadata": {
    "collapsed": false
   },
   "outputs": [
    {
     "name": "stdout",
     "output_type": "stream",
     "text": [
      "['-', '-', '-', '-', '-', '-', '-', '-', '-', '-', '-', '-', '-', '-', '-', '-', '-', '-', '-', '-', '-', '-', '-', '-', '-', '-']\n",
      "26\n"
     ]
    }
   ],
   "source": [
    "#going to need to know how each letter is decoded, \n",
    "#we don't know what this is yet so let's make them all hyphens.\n",
    "#in order that we can make substitutions as we need to this\n",
    "#has to be a list and not a string (immutable)\n",
    "cipher_key=[]\n",
    "for x in alphabet:\n",
    "    cipher_key.append(\"-\")\n",
    "print(cipher_key)\n",
    "print(len(cipher_key))"
   ]
  },
  {
   "cell_type": "markdown",
   "metadata": {},
   "source": [
    "##Input the Cipher Text:"
   ]
  },
  {
   "cell_type": "code",
   "execution_count": 29,
   "metadata": {
    "collapsed": false
   },
   "outputs": [
    {
     "name": "stdout",
     "output_type": "stream",
     "text": [
      "a b.c,defghijklmnopqrstuvwxyzABCDE\n",
      "34\n"
     ]
    }
   ],
   "source": [
    "#define string to contain cipher text, print the string and print the string length\n",
    "\n",
    "cipher=\"a b.c,defghijklmnopqrstuvwxyzABCDE\"\n",
    "\n",
    "print(cipher)\n",
    "print(len(cipher))"
   ]
  },
  {
   "cell_type": "markdown",
   "metadata": {},
   "source": [
    "The cipher text could be a mixture of uppercase, lowercase and puntuation and spaces.  It is best to clean it up before processing.  Most cipher operations will be based on working on upper case."
   ]
  },
  {
   "cell_type": "code",
   "execution_count": 30,
   "metadata": {
    "collapsed": false
   },
   "outputs": [
    {
     "name": "stdout",
     "output_type": "stream",
     "text": [
      "A B.C,DEFGHIJKLMNOPQRSTUVWXYZABCDE\n"
     ]
    }
   ],
   "source": [
    "#convert the cipher text to upper case\n",
    "cipher=cipher.upper()\n",
    "print (cipher)"
   ]
  },
  {
   "cell_type": "code",
   "execution_count": 31,
   "metadata": {
    "collapsed": false
   },
   "outputs": [
    {
     "name": "stdout",
     "output_type": "stream",
     "text": [
      "A B C DEFGHIJKLMNOPQRSTUVWXYZABCDE\n"
     ]
    }
   ],
   "source": [
    "#removes punctuation replacing it with a space\n",
    "punctuation=cipher.maketrans(\".,:;?!£$%&()\",\"            \")\n",
    "cipher=cipher.translate(punctuation)\n",
    "print(cipher)"
   ]
  },
  {
   "cell_type": "code",
   "execution_count": 32,
   "metadata": {
    "collapsed": false
   },
   "outputs": [
    {
     "name": "stdout",
     "output_type": "stream",
     "text": [
      "ABCDEFGHIJKLMNOPQRSTUVWXYZABCDE\n",
      "31\n"
     ]
    }
   ],
   "source": [
    "#remove spaces from string\n",
    "cipher=cipher.replace(\" \",\"\")\n",
    "\n",
    "print(cipher)\n",
    "print(len(cipher))"
   ]
  },
  {
   "cell_type": "markdown",
   "metadata": {},
   "source": [
    "#Letter Guessing:\n"
   ]
  },
  {
   "cell_type": "code",
   "execution_count": 2,
   "metadata": {
    "collapsed": false
   },
   "outputs": [
    {
     "ename": "NameError",
     "evalue": "name 'cipher_key' is not defined",
     "output_type": "error",
     "traceback": [
      "\u001b[1;31m---------------------------------------------------------------------------\u001b[0m",
      "\u001b[1;31mNameError\u001b[0m                                 Traceback (most recent call last)",
      "\u001b[1;32m<ipython-input-2-f74ed6061ef8>\u001b[0m in \u001b[0;36m<module>\u001b[1;34m()\u001b[0m\n\u001b[0;32m      1\u001b[0m \u001b[1;31m#make guesses at how cipher text letters are decrypted,\u001b[0m\u001b[1;33m\u001b[0m\u001b[1;33m\u001b[0m\u001b[0m\n\u001b[0;32m      2\u001b[0m \u001b[1;31m#remembering that list indexing starts from 0\u001b[0m\u001b[1;33m\u001b[0m\u001b[1;33m\u001b[0m\u001b[0m\n\u001b[1;32m----> 3\u001b[1;33m \u001b[0mcipher_key\u001b[0m\u001b[1;33m[\u001b[0m\u001b[1;36m0\u001b[0m\u001b[1;33m]\u001b[0m\u001b[1;33m=\u001b[0m\u001b[1;34m\"-\"\u001b[0m \u001b[1;31m#guess for A\u001b[0m\u001b[1;33m\u001b[0m\u001b[0m\n\u001b[0m\u001b[0;32m      4\u001b[0m \u001b[0mcipher_key\u001b[0m\u001b[1;33m[\u001b[0m\u001b[1;36m1\u001b[0m\u001b[1;33m]\u001b[0m\u001b[1;33m=\u001b[0m\u001b[1;34m\"-\"\u001b[0m \u001b[1;31m#guess for B\u001b[0m\u001b[1;33m\u001b[0m\u001b[0m\n\u001b[0;32m      5\u001b[0m \u001b[0mcipher_key\u001b[0m\u001b[1;33m[\u001b[0m\u001b[1;36m2\u001b[0m\u001b[1;33m]\u001b[0m\u001b[1;33m=\u001b[0m\u001b[1;34m\"T\"\u001b[0m \u001b[1;31m#guess for C\u001b[0m\u001b[1;33m\u001b[0m\u001b[0m\n",
      "\u001b[1;31mNameError\u001b[0m: name 'cipher_key' is not defined"
     ]
    }
   ],
   "source": [
    "#make guesses at how cipher text letters are decrypted, \n",
    "#remembering that list indexing starts from 0\n",
    "cipher_key[0]=\"-\" #guess for A\n",
    "cipher_key[1]=\"-\" #guess for B\n",
    "cipher_key[2]=\"T\" #guess for C\n",
    "cipher_key[3]=\"H\" #guess for D\n",
    "cipher_key[4]=\"-\" #guess for E\n",
    "cipher_key[5]=\"-\" #guess for F\n",
    "cipher_key[6]=\"-\" #guess for G\n",
    "cipher_key[7]=\"-\" #guess for H\n",
    "cipher_key[8]=\"-\" #guess for I\n",
    "cipher_key[9]=\"-\" #guess for J\n",
    "cipher_key[10]=\"-\" #guess for K\n",
    "cipher_key[11]=\"-\" #guess for L\n",
    "cipher_key[12]=\"-\" #guess for M\n",
    "cipher_key[13]=\"-\" #guess for N\n",
    "cipher_key[14]=\"-\" #guess for O\n",
    "cipher_key[15]=\"-\" #guess for P\n",
    "cipher_key[16]=\"-\" #guess for Q\n",
    "cipher_key[17]=\"-\" #guess for R\n",
    "cipher_key[18]=\"-\" #guess for S\n",
    "cipher_key[19]=\"-\" #guess for T\n",
    "cipher_key[20]=\"-\" #guess for U\n",
    "cipher_key[21]=\"-\" #guess for V\n",
    "cipher_key[22]=\"-\" #guess for W\n",
    "cipher_key[23]=\"N\" #guess for X\n",
    "cipher_key[24]=\"-\" #guess for Y\n",
    "cipher_key[25]=\"-\" #guess for Z\n",
    "\n"
   ]
  },
  {
   "cell_type": "code",
   "execution_count": 7,
   "metadata": {
    "collapsed": false
   },
   "outputs": [
    {
     "name": "stdout",
     "output_type": "stream",
     "text": [
      "--------------------------\n"
     ]
    }
   ],
   "source": [
    "#build the key string for use in the translate function\n",
    "alphabet_key=\"\"\n",
    "for x in cipher_key:\n",
    "    alphabet_key=alphabet_key+x\n",
    "print(alphabet_key)"
   ]
  },
  {
   "cell_type": "markdown",
   "metadata": {},
   "source": [
    "##Final Substitution"
   ]
  },
  {
   "cell_type": "code",
   "execution_count": null,
   "metadata": {
    "collapsed": true
   },
   "outputs": [],
   "source": [
    "#define string to contain plain text\n",
    "plain=\"\""
   ]
  },
  {
   "cell_type": "code",
   "execution_count": 11,
   "metadata": {
    "collapsed": false
   },
   "outputs": [
    {
     "ename": "NameError",
     "evalue": "name 'cipher' is not defined",
     "output_type": "error",
     "traceback": [
      "\u001b[1;31m---------------------------------------------------------------------------\u001b[0m",
      "\u001b[1;31mNameError\u001b[0m                                 Traceback (most recent call last)",
      "\u001b[1;32m<ipython-input-11-47e3b491c74a>\u001b[0m in \u001b[0;36m<module>\u001b[1;34m()\u001b[0m\n\u001b[0;32m      1\u001b[0m \u001b[1;31m#define dictionary for decoding each letter\u001b[0m\u001b[1;33m\u001b[0m\u001b[1;33m\u001b[0m\u001b[0m\n\u001b[1;32m----> 2\u001b[1;33m \u001b[0msubstitution\u001b[0m\u001b[1;33m=\u001b[0m\u001b[0mcipher\u001b[0m\u001b[1;33m.\u001b[0m\u001b[0mmaketrans\u001b[0m\u001b[1;33m(\u001b[0m\u001b[0malphabet_string\u001b[0m\u001b[1;33m,\u001b[0m\u001b[0malphabet_key\u001b[0m\u001b[1;33m)\u001b[0m\u001b[1;33m\u001b[0m\u001b[0m\n\u001b[0m\u001b[0;32m      3\u001b[0m \u001b[0mplain\u001b[0m\u001b[1;33m=\u001b[0m\u001b[0mcipher\u001b[0m\u001b[1;33m.\u001b[0m\u001b[0mtranslate\u001b[0m\u001b[1;33m(\u001b[0m\u001b[0msubstitution\u001b[0m\u001b[1;33m)\u001b[0m\u001b[1;33m\u001b[0m\u001b[0m\n\u001b[0;32m      4\u001b[0m \u001b[0mprint\u001b[0m\u001b[1;33m(\u001b[0m\u001b[0mplain\u001b[0m\u001b[1;33m)\u001b[0m\u001b[1;33m\u001b[0m\u001b[0m\n",
      "\u001b[1;31mNameError\u001b[0m: name 'cipher' is not defined"
     ]
    }
   ],
   "source": [
    "#define dictionary for decoding each letter\n",
    "substitution=cipher.maketrans(alphabet_string,alphabet_key)\n",
    "plain=cipher.translate(substitution)\n",
    "print(plain)\n"
   ]
  },
  {
   "cell_type": "code",
   "execution_count": null,
   "metadata": {
    "collapsed": true
   },
   "outputs": [],
   "source": []
  }
 ],
 "metadata": {
  "celltoolbar": "Raw Cell Format",
  "kernelspec": {
   "display_name": "Python 3",
   "language": "python",
   "name": "python3"
  },
  "language_info": {
   "codemirror_mode": {
    "name": "ipython",
    "version": 3
   },
   "file_extension": ".py",
   "mimetype": "text/x-python",
   "name": "python",
   "nbconvert_exporter": "python",
   "pygments_lexer": "ipython3",
   "version": "3.4.3"
  }
 },
 "nbformat": 4,
 "nbformat_minor": 0
}
