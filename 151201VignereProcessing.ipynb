{
 "cells": [
  {
   "cell_type": "markdown",
   "metadata": {},
   "source": [
    "#CIPHER PROCESSING"
   ]
  },
  {
   "cell_type": "markdown",
   "metadata": {},
   "source": [
    "###Import Python functions"
   ]
  },
  {
   "cell_type": "code",
   "execution_count": 1,
   "metadata": {
    "collapsed": false
   },
   "outputs": [
    {
     "name": "stdout",
     "output_type": "stream",
     "text": [
      "Populating the interactive namespace from numpy and matplotlib\n"
     ]
    }
   ],
   "source": [
    "#import number and plotting functions\n",
    "%pylab inline"
   ]
  },
  {
   "cell_type": "markdown",
   "metadata": {},
   "source": [
    "###Input cipher text"
   ]
  },
  {
   "cell_type": "code",
   "execution_count": 2,
   "metadata": {
    "collapsed": true
   },
   "outputs": [],
   "source": [
    "cipher_input=\"DYIMX MESTE ZDPNF VVAMJ RNPSG CIGRV VFSIA DICUY OGYFY FMQQI FYFSM LQFXF ZBUOC SOVME CWMDD BNXUE DCIAQ VHFZA GORPK ZCEWF RQJIA NKLQG IYERF XPQAD VPXTO RXTIU AZBFZ HQONB BPSGE PRITE ZYWGL VXDFA GOURA YMBPP SGCIY VZIEN IALVX DFAGO UXTPG OOCMQ GMGRR XFSML MRROS MNDPS GMCGD YIKOW AYKYZ OMECK EZOBU KKCAF KNXFR XJKUO RXUYI TKDIM YLGRZ WUDVB DRKMX MVPPS GEZLD FTXLG NQRQQ ZNPRV WEWQX OPSGC IYVZI EHMJS CPRTV QYLVE PTIOJ MZLAG KCIYL BRIFY TLDRL VIZHI EXVHE ZTRDL WEEIE DRKMT VVMRR XPBLY LLMGM GRVEP OZRCJ SRLVB DYIDD ISOYS GDMND RWYLT YNZWO ZCADF RAFZB BZKUY IYZIM OPIAN ZAUWT VXTPG OMGRV MPPVG SKCAQ IOBZX UDPQY LFXPI TOEXI ZZXSE KUYGB EIIYM IFCPW TLTYG VWMJN BEILG YLEOU XTZCF KEHRC IAMJX AMMCK ZHPTZ RMKPK EWNXR GOZCA DFJYJ KUYFW UYOVP PSGHI ADKSW YWJWF VQLJB EKXTP BEORG TPZLY WCAFZ FYTEX WMQPI MQYLF DYIZW MGEJQ QPBVX KLQAI EUSCF SMOBZ XUDPR WSEED GBXWV UOILK KIXPD RX\"\n"
   ]
  },
  {
   "cell_type": "markdown",
   "metadata": {},
   "source": [
    "###Preliminary set up and proessing"
   ]
  },
  {
   "cell_type": "code",
   "execution_count": 3,
   "metadata": {
    "collapsed": false
   },
   "outputs": [
    {
     "name": "stdout",
     "output_type": "stream",
     "text": [
      "DYIMX MESTE ZDPNF VVAMJ RNPSG CIGRV VFSIA DICUY OGYFY FMQQI FYFSM LQFXF ZBUOC SOVME CWMDD BNXUE DCIAQ VHFZA GORPK ZCEWF RQJIA NKLQG IYERF XPQAD VPXTO RXTIU AZBFZ HQONB BPSGE PRITE ZYWGL VXDFA GOURA YMBPP SGCIY VZIEN IALVX DFAGO UXTPG OOCMQ GMGRR XFSML MRROS MNDPS GMCGD YIKOW AYKYZ OMECK EZOBU KKCAF KNXFR XJKUO RXUYI TKDIM YLGRZ WUDVB DRKMX MVPPS GEZLD FTXLG NQRQQ ZNPRV WEWQX OPSGC IYVZI EHMJS CPRTV QYLVE PTIOJ MZLAG KCIYL BRIFY TLDRL VIZHI EXVHE ZTRDL WEEIE DRKMT VVMRR XPBLY LLMGM GRVEP OZRCJ SRLVB DYIDD ISOYS GDMND RWYLT YNZWO ZCADF RAFZB BZKUY IYZIM OPIAN ZAUWT VXTPG OMGRV MPPVG SKCAQ IOBZX UDPQY LFXPI TOEXI ZZXSE KUYGB EIIYM IFCPW TLTYG VWMJN BEILG YLEOU XTZCF KEHRC IAMJX AMMCK ZHPTZ RMKPK EWNXR GOZCA DFJYJ KUYFW UYOVP PSGHI ADKSW YWJWF VQLJB EKXTP BEORG TPZLY WCAFZ FYTEX WMQPI MQYLF DYIZW MGEJQ QPBVX KLQAI EUSCF SMOBZ XUDPR WSEED GBXWV UOILK KIXPD RX\n",
      "866\n",
      "['A', 'B', 'C', 'D', 'E', 'F', 'G', 'H', 'I', 'J', 'K', 'L', 'M', 'N', 'O', 'P', 'Q', 'R', 'S', 'T', 'U', 'V', 'W', 'X', 'Y', 'Z']\n",
      "26\n",
      "ABCDEFGHIJKLMNOPQRSTUVWXYZ\n",
      "26\n",
      "['-', '-', '-', '-', '-', '-', '-', '-', '-', '-', '-', '-', '-', '-', '-', '-', '-', '-', '-', '-', '-', '-', '-', '-', '-', '-']\n",
      "26\n",
      "DYIMX MESTE ZDPNF VVAMJ RNPSG CIGRV VFSIA DICUY OGYFY FMQQI FYFSM LQFXF ZBUOC SOVME CWMDD BNXUE DCIAQ VHFZA GORPK ZCEWF RQJIA NKLQG IYERF XPQAD VPXTO RXTIU AZBFZ HQONB BPSGE PRITE ZYWGL VXDFA GOURA YMBPP SGCIY VZIEN IALVX DFAGO UXTPG OOCMQ GMGRR XFSML MRROS MNDPS GMCGD YIKOW AYKYZ OMECK EZOBU KKCAF KNXFR XJKUO RXUYI TKDIM YLGRZ WUDVB DRKMX MVPPS GEZLD FTXLG NQRQQ ZNPRV WEWQX OPSGC IYVZI EHMJS CPRTV QYLVE PTIOJ MZLAG KCIYL BRIFY TLDRL VIZHI EXVHE ZTRDL WEEIE DRKMT VVMRR XPBLY LLMGM GRVEP OZRCJ SRLVB DYIDD ISOYS GDMND RWYLT YNZWO ZCADF RAFZB BZKUY IYZIM OPIAN ZAUWT VXTPG OMGRV MPPVG SKCAQ IOBZX UDPQY LFXPI TOEXI ZZXSE KUYGB EIIYM IFCPW TLTYG VWMJN BEILG YLEOU XTZCF KEHRC IAMJX AMMCK ZHPTZ RMKPK EWNXR GOZCA DFJYJ KUYFW UYOVP PSGHI ADKSW YWJWF VQLJB EKXTP BEORG TPZLY WCAFZ FYTEX WMQPI MQYLF DYIZW MGEJQ QPBVX KLQAI EUSCF SMOBZ XUDPR WSEED GBXWV UOILK KIXPD RX\n",
      "866\n",
      "DYIMXMESTEZDPNFVVAMJRNPSGCIGRVVFSIADICUYOGYFYFMQQIFYFSMLQFXFZBUOCSOVMECWMDDBNXUEDCIAQVHFZAGORPKZCEWFRQJIANKLQGIYERFXPQADVPXTORXTIUAZBFZHQONBBPSGEPRITEZYWGLVXDFAGOURAYMBPPSGCIYVZIENIALVXDFAGOUXTPGOOCMQGMGRRXFSMLMRROSMNDPSGMCGDYIKOWAYKYZOMECKEZOBUKKCAFKNXFRXJKUORXUYITKDIMYLGRZWUDVBDRKMXMVPPSGEZLDFTXLGNQRQQZNPRVWEWQXOPSGCIYVZIEHMJSCPRTVQYLVEPTIOJMZLAGKCIYLBRIFYTLDRLVIZHIEXVHEZTRDLWEEIEDRKMTVVMRRXPBLYLLMGMGRVEPOZRCJSRLVBDYIDDISOYSGDMNDRWYLTYNZWOZCADFRAFZBBZKUYIYZIMOPIANZAUWTVXTPGOMGRVMPPVGSKCAQIOBZXUDPQYLFXPITOEXIZZXSEKUYGBEIIYMIFCPWTLTYGVWMJNBEILGYLEOUXTZCFKEHRCIAMJXAMMCKZHPTZRMKPKEWNXRGOZCADFJYJKUYFWUYOVPPSGHIADKSWYWJWFVQLJBEKXTPBEORGTPZLYWCAFZFYTEXWMQPIMQYLFDYIZWMGEJQQPBVXKLQAIEUSCFSMOBZXUDPRWSEEDGBXWVUOILKKIXPDRX\n",
      "722\n"
     ]
    }
   ],
   "source": [
    "print(cipher_input)\n",
    "print(len(cipher_input))\n",
    "\n",
    "#going to need an alphabet at some stage\n",
    "alphabet=[]\n",
    "\n",
    "x=0\n",
    "while x<26:\n",
    "    alphabet.append(chr(65+x))\n",
    "    x+=1\n",
    "\n",
    "print(alphabet)\n",
    "print(len(alphabet))\n",
    "\n",
    "#and build it into string form too\n",
    "alphabet_string=\"\"\n",
    "for x in alphabet:\n",
    "    alphabet_string=alphabet_string+x\n",
    "print(alphabet_string)\n",
    "print(len(alphabet_string))\n",
    "\n",
    "#going to need to know how each letter is decoded, \n",
    "#we don't know what this is yet so let's make them all hyphens.\n",
    "#in order that we can make substitutions as we need to this\n",
    "#has to be a list and not a string (immutable)\n",
    "cipher_key=[]\n",
    "for x in alphabet:\n",
    "    cipher_key.append(\"-\")\n",
    "print(cipher_key)\n",
    "print(len(cipher_key))\n",
    "\n",
    "#convert the cipher text to upper case\n",
    "cipher_input=cipher_input.upper()\n",
    "print (cipher_input)\n",
    "print(len(cipher_input))\n",
    "\n",
    "#removes everything except capital letters and \n",
    "#makes new cipher text string comprising of just capital letters\n",
    "cipher_text=\"\"\n",
    "for x in cipher_input:\n",
    "    if 64<ord(x)<91:\n",
    "        cipher_text=cipher_text+x\n",
    "\n",
    "print(cipher_text)\n",
    "print(len(cipher_text))\n"
   ]
  },
  {
   "cell_type": "code",
   "execution_count": null,
   "metadata": {
    "collapsed": true
   },
   "outputs": [],
   "source": []
  }
 ],
 "metadata": {
  "kernelspec": {
   "display_name": "Python [Root]",
   "language": "python",
   "name": "Python [Root]"
  },
  "language_info": {
   "codemirror_mode": {
    "name": "ipython",
    "version": 3
   },
   "file_extension": ".py",
   "mimetype": "text/x-python",
   "name": "python",
   "nbconvert_exporter": "python",
   "pygments_lexer": "ipython3",
   "version": "3.5.2"
  }
 },
 "nbformat": 4,
 "nbformat_minor": 0
}
