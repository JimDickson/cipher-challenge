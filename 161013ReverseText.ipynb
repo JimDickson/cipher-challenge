{
 "cells": [
  {
   "cell_type": "markdown",
   "metadata": {},
   "source": [
    "# CIPHER PROCESSING - REVERSE TEXT"
   ]
  },
  {
   "cell_type": "code",
   "execution_count": 1,
   "metadata": {
    "collapsed": false
   },
   "outputs": [
    {
     "name": "stdout",
     "output_type": "stream",
     "text": [
      "Populating the interactive namespace from numpy and matplotlib\n"
     ]
    }
   ],
   "source": [
    "#import number and plotting functions\n",
    "%pylab inline"
   ]
  },
  {
   "cell_type": "markdown",
   "metadata": {},
   "source": [
    "# Process to strip spaces punctuation and capitalise"
   ]
  },
  {
   "cell_type": "code",
   "execution_count": 10,
   "metadata": {
    "collapsed": true
   },
   "outputs": [],
   "source": [
    "#convert the cipher text to upper case\n",
    "def capitalise(text):\n",
    "    output_text=text\n",
    "    output_text=output_text.upper()\n",
    "    \n",
    "    return output_text\n",
    "#removes everything except capital letters and \n",
    "#makes new cipher text string comprising of just capital letters\n",
    "def strip_text(text):\n",
    "    output_text=\"\"\n",
    "    for x in text:\n",
    "        if 64<ord(x)<91:\n",
    "            output_text=output_text+x\n",
    "\n",
    "    return output_text"
   ]
  },
  {
   "cell_type": "markdown",
   "metadata": {},
   "source": [
    "# The Reversal Function"
   ]
  },
  {
   "cell_type": "code",
   "execution_count": 11,
   "metadata": {
    "collapsed": true
   },
   "outputs": [],
   "source": [
    "def reverse_text(text):\n",
    "    n=len(text)\n",
    "    output_text=\"\"\n",
    "    x=1\n",
    "    while x<n+1:\n",
    "        output_text=output_text+text[n-x]\n",
    "        x+=1\n",
    "        \n",
    "    return output_text    "
   ]
  },
  {
   "cell_type": "markdown",
   "metadata": {},
   "source": [
    "# PROCESSING SECTION"
   ]
  },
  {
   "cell_type": "code",
   "execution_count": 14,
   "metadata": {
    "collapsed": false
   },
   "outputs": [
    {
     "name": "stdout",
     "output_type": "stream",
     "text": [
      "ICANTBELIEVEHELEFTLIKETHATAFTEREVERYTHINGWESAIDAFTEREVERYTHINGWEAGREEDBUTHEHASGONEANDICANTFINDHIMANDTHISISTOOBIGTODEALWITHALONEICANTBLAMEHIMMORETHANMEWEWEREBOTHBLINDTOWHATWASHAPPENINGANDWEAREBOTHGUILTYBUTTOGETHERWEMIGHTHAVESTARTEDTOFIXITICANTSEEHOWICANDOTHATALONEHERENOWSOIDONTHAVEANOPTIONITHASTOENDIHAVETOENDIT\n"
     ]
    }
   ],
   "source": [
    "cipher_text=\"T IDN'E OTEVAHI DN EOTS AHTI NOIT. PONAE VAHTNODIOS WO NERE, HENOL ATAHTODNAC IW OHEEST. NAC IT IXI FOTD, ETR A TSE'V AHTH GIM, EWR EHTE GO TTU BYT LI UGHT OBER AEWDN. A GNI'N EPPAH SAW TAHW OTDN IL, BH TOBE REWE WEMNA HT EROM MIH EMALBTNAC IEN OL AHT IWLA EDOTGI, BOO TSISIHTD NA MIHDN IFTN ACIDNAE NO GSA HE. H TUB'D EER GAE W GNI HT YREV ERETF, ADIA, SEW. GN I HTY'R EVER ET FATAHT. EK ILT FE LEH. E VEIL EB TNA CI.\"\n",
    "\n",
    "cipher_text=capitalise(cipher_text)\n",
    "cipher_text=strip_text(cipher_text)\n",
    "plain_text=reverse_text(cipher_text)\n",
    "\n",
    "print(plain_text)\n"
   ]
  },
  {
   "cell_type": "code",
   "execution_count": null,
   "metadata": {
    "collapsed": true
   },
   "outputs": [],
   "source": []
  }
 ],
 "metadata": {
  "kernelspec": {
   "display_name": "Python [Root]",
   "language": "python",
   "name": "Python [Root]"
  },
  "language_info": {
   "codemirror_mode": {
    "name": "ipython",
    "version": 3
   },
   "file_extension": ".py",
   "mimetype": "text/x-python",
   "name": "python",
   "nbconvert_exporter": "python",
   "pygments_lexer": "ipython3",
   "version": "3.5.2"
  }
 },
 "nbformat": 4,
 "nbformat_minor": 0
}
