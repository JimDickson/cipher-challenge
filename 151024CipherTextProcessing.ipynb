{
 "cells": [
  {
   "cell_type": "markdown",
   "metadata": {},
   "source": [
    "# CIPHER PROCESSING"
   ]
  },
  {
   "cell_type": "code",
   "execution_count": 2,
   "metadata": {
    "collapsed": false
   },
   "outputs": [
    {
     "name": "stdout",
     "output_type": "stream",
     "text": [
      "Populating the interactive namespace from numpy and matplotlib\n"
     ]
    }
   ],
   "source": [
    "#import number and plotting functions\n",
    "%pylab inline"
   ]
  },
  {
   "cell_type": "markdown",
   "metadata": {},
   "source": [
    "# Set up Useful Variables\n",
    "We are going to need an alphabet, a key, a place to hold the cipher text and a place to hold the plain text once it has been decrypted."
   ]
  },
  {
   "cell_type": "code",
   "execution_count": 3,
   "metadata": {
    "collapsed": false
   },
   "outputs": [
    {
     "name": "stdout",
     "output_type": "stream",
     "text": [
      "['A', 'B', 'C', 'D', 'E', 'F', 'G', 'H', 'I', 'J', 'K', 'L', 'M', 'N', 'O', 'P', 'Q', 'R', 'S', 'T', 'U', 'V', 'W', 'X', 'Y', 'Z']\n",
      "26\n"
     ]
    }
   ],
   "source": [
    "#going to need an alphabet at some stage\n",
    "alphabet=[]\n",
    "\n",
    "x=0\n",
    "while x<26:\n",
    "    alphabet.append(chr(65+x))\n",
    "    x+=1\n",
    "\n",
    "print(alphabet)\n",
    "print(len(alphabet))\n"
   ]
  },
  {
   "cell_type": "code",
   "execution_count": 4,
   "metadata": {
    "collapsed": false
   },
   "outputs": [
    {
     "name": "stdout",
     "output_type": "stream",
     "text": [
      "ABCDEFGHIJKLMNOPQRSTUVWXYZ\n",
      "26\n"
     ]
    }
   ],
   "source": [
    "\n",
    "#and build it into string form too\n",
    "alphabet_string=\"\"\n",
    "for x in alphabet:\n",
    "    alphabet_string=alphabet_string+x\n",
    "print(alphabet_string)\n",
    "print(len(alphabet_string))"
   ]
  },
  {
   "cell_type": "code",
   "execution_count": 5,
   "metadata": {
    "collapsed": false
   },
   "outputs": [
    {
     "name": "stdout",
     "output_type": "stream",
     "text": [
      "['-', '-', '-', '-', '-', '-', '-', '-', '-', '-', '-', '-', '-', '-', '-', '-', '-', '-', '-', '-', '-', '-', '-', '-', '-', '-']\n",
      "26\n"
     ]
    }
   ],
   "source": [
    "#going to need to know how each letter is decoded, \n",
    "#we don't know what this is yet so let's make them all hyphens.\n",
    "#in order that we can make substitutions as we need to this\n",
    "#has to be a list and not a string (immutable)\n",
    "cipher_key=[]\n",
    "for x in alphabet:\n",
    "    cipher_key.append(\"-\")\n",
    "print(cipher_key)\n",
    "print(len(cipher_key))"
   ]
  },
  {
   "cell_type": "markdown",
   "metadata": {},
   "source": [
    "# Input the Cipher Text:"
   ]
  },
  {
   "cell_type": "code",
   "execution_count": 6,
   "metadata": {
    "collapsed": false
   },
   "outputs": [
    {
     "name": "stdout",
     "output_type": "stream",
     "text": [
      "DYIMX MESTE ZDPNF VVAMJ RNPSG CIGRV VFSIA DICUY OGYFY FMQQI FYFSM LQFXF ZBUOC SOVME CWMDD BNXUE DCIAQ VHFZA GORPK ZCEWF RQJIA NKLQG IYERF XPQAD VPXTO RXTIU AZBFZ HQONB BPSGE PRITE ZYWGL VXDFA GOURA YMBPP SGCIY VZIEN IALVX DFAGO UXTPG OOCMQ GMGRR XFSML MRROS MNDPS GMCGD YIKOW AYKYZ OMECK EZOBU KKCAF KNXFR XJKUO RXUYI TKDIM YLGRZ WUDVB DRKMX MVPPS GEZLD FTXLG NQRQQ ZNPRV WEWQX OPSGC IYVZI EHMJS CPRTV QYLVE PTIOJ MZLAG KCIYL BRIFY TLDRL VIZHI EXVHE ZTRDL WEEIE DRKMT VVMRR XPBLY LLMGM GRVEP OZRCJ SRLVB DYIDD ISOYS GDMND RWYLT YNZWO ZCADF RAFZB BZKUY IYZIM OPIAN ZAUWT VXTPG OMGRV MPPVG SKCAQ IOBZX UDPQY LFXPI TOEXI ZZXSE KUYGB EIIYM IFCPW TLTYG VWMJN BEILG YLEOU XTZCF KEHRC IAMJX AMMCK ZHPTZ RMKPK EWNXR GOZCA DFJYJ KUYFW UYOVP PSGHI ADKSW YWJWF VQLJB EKXTP BEORG TPZLY WCAFZ FYTEX WMQPI MQYLF DYIZW MGEJQ QPBVX KLQAI EUSCF SMOBZ XUDPR WSEED GBXWV UOILK KIXPD RX\n",
      "866\n"
     ]
    }
   ],
   "source": [
    "-"
   ]
  },
  {
   "cell_type": "code",
   "execution_count": 7,
   "metadata": {
    "collapsed": false
   },
   "outputs": [
    {
     "name": "stdout",
     "output_type": "stream",
     "text": [
      "20.5182845287\n"
     ]
    }
   ],
   "source": [
    "print(sqrt(421))"
   ]
  },
  {
   "cell_type": "markdown",
   "metadata": {},
   "source": [
    "# The cipher text could be a mixture of uppercase, lowercase and puntuation and spaces.  It is best to clean it up before processing.  Most cipher operations will be based on working on upper case."
   ]
  },
  {
   "cell_type": "code",
   "execution_count": 8,
   "metadata": {
    "collapsed": false
   },
   "outputs": [
    {
     "name": "stdout",
     "output_type": "stream",
     "text": [
      "DYIMX MESTE ZDPNF VVAMJ RNPSG CIGRV VFSIA DICUY OGYFY FMQQI FYFSM LQFXF ZBUOC SOVME CWMDD BNXUE DCIAQ VHFZA GORPK ZCEWF RQJIA NKLQG IYERF XPQAD VPXTO RXTIU AZBFZ HQONB BPSGE PRITE ZYWGL VXDFA GOURA YMBPP SGCIY VZIEN IALVX DFAGO UXTPG OOCMQ GMGRR XFSML MRROS MNDPS GMCGD YIKOW AYKYZ OMECK EZOBU KKCAF KNXFR XJKUO RXUYI TKDIM YLGRZ WUDVB DRKMX MVPPS GEZLD FTXLG NQRQQ ZNPRV WEWQX OPSGC IYVZI EHMJS CPRTV QYLVE PTIOJ MZLAG KCIYL BRIFY TLDRL VIZHI EXVHE ZTRDL WEEIE DRKMT VVMRR XPBLY LLMGM GRVEP OZRCJ SRLVB DYIDD ISOYS GDMND RWYLT YNZWO ZCADF RAFZB BZKUY IYZIM OPIAN ZAUWT VXTPG OMGRV MPPVG SKCAQ IOBZX UDPQY LFXPI TOEXI ZZXSE KUYGB EIIYM IFCPW TLTYG VWMJN BEILG YLEOU XTZCF KEHRC IAMJX AMMCK ZHPTZ RMKPK EWNXR GOZCA DFJYJ KUYFW UYOVP PSGHI ADKSW YWJWF VQLJB EKXTP BEORG TPZLY WCAFZ FYTEX WMQPI MQYLF DYIZW MGEJQ QPBVX KLQAI EUSCF SMOBZ XUDPR WSEED GBXWV UOILK KIXPD RX\n",
      "866\n"
     ]
    }
   ],
   "source": [
    "#convert the cipher text to upper case\n",
    "cipher_input=cipher_input.upper()\n",
    "print (cipher_input)\n",
    "print(len(cipher_input))"
   ]
  },
  {
   "cell_type": "code",
   "execution_count": 9,
   "metadata": {
    "collapsed": false
   },
   "outputs": [
    {
     "name": "stdout",
     "output_type": "stream",
     "text": [
      "DYIMXMESTEZDPNFVVAMJRNPSGCIGRVVFSIADICUYOGYFYFMQQIFYFSMLQFXFZBUOCSOVMECWMDDBNXUEDCIAQVHFZAGORPKZCEWFRQJIANKLQGIYERFXPQADVPXTORXTIUAZBFZHQONBBPSGEPRITEZYWGLVXDFAGOURAYMBPPSGCIYVZIENIALVXDFAGOUXTPGOOCMQGMGRRXFSMLMRROSMNDPSGMCGDYIKOWAYKYZOMECKEZOBUKKCAFKNXFRXJKUORXUYITKDIMYLGRZWUDVBDRKMXMVPPSGEZLDFTXLGNQRQQZNPRVWEWQXOPSGCIYVZIEHMJSCPRTVQYLVEPTIOJMZLAGKCIYLBRIFYTLDRLVIZHIEXVHEZTRDLWEEIEDRKMTVVMRRXPBLYLLMGMGRVEPOZRCJSRLVBDYIDDISOYSGDMNDRWYLTYNZWOZCADFRAFZBBZKUYIYZIMOPIANZAUWTVXTPGOMGRVMPPVGSKCAQIOBZXUDPQYLFXPITOEXIZZXSEKUYGBEIIYMIFCPWTLTYGVWMJNBEILGYLEOUXTZCFKEHRCIAMJXAMMCKZHPTZRMKPKEWNXRGOZCADFJYJKUYFWUYOVPPSGHIADKSWYWJWFVQLJBEKXTPBEORGTPZLYWCAFZFYTEXWMQPIMQYLFDYIZWMGEJQQPBVXKLQAIEUSCFSMOBZXUDPRWSEEDGBXWVUOILKKIXPDRX\n",
      "722\n"
     ]
    }
   ],
   "source": [
    "#removes everything except capital letters and \n",
    "#makes new cipher text string comprising of just capital letters\n",
    "cipher_text=\"\"\n",
    "for x in cipher_input:\n",
    "    if 64<ord(x)<91:\n",
    "        cipher_text=cipher_text+x\n",
    "\n",
    "print(cipher_text)\n",
    "print(len(cipher_text))"
   ]
  },
  {
   "cell_type": "markdown",
   "metadata": {},
   "source": [
    "# Caluclating Single-Letter Frequecies"
   ]
  },
  {
   "cell_type": "code",
   "execution_count": 10,
   "metadata": {
    "collapsed": false
   },
   "outputs": [],
   "source": [
    "#define a function to count over-lapping occurences of a sub-string in a string\n",
    "def count_freq(string, word):\n",
    "    start   = 0\n",
    "    matches = 0\n",
    "\n",
    "    while True:\n",
    "        start = string.find (word, start) #find returns -1 on failure \n",
    "        if start < 0:\n",
    "            break\n",
    "\n",
    "        start   += 1\n",
    "        matches += 1\n",
    "\n",
    "    return matches\n",
    "\n"
   ]
  },
  {
   "cell_type": "code",
   "execution_count": 11,
   "metadata": {
    "collapsed": false
   },
   "outputs": [
    {
     "name": "stdout",
     "output_type": "stream",
     "text": [
      "[25, 21, 24, 31, 35, 31, 34, 8, 43, 13, 26, 28, 38, 15, 30, 36, 22, 37, 23, 23, 20, 30, 23, 33, 38, 35]\n",
      "26\n"
     ]
    }
   ],
   "source": [
    "#set up letter frequency list to hold frequencies in alphabetical order\n",
    "letter_freq=[]\n",
    "for x in alphabet:\n",
    "    letter_freq.append(count_freq(cipher_text,x))\n",
    "print(letter_freq)\n",
    "print(len(letter_freq))\n",
    "\n",
    "\n"
   ]
  },
  {
   "cell_type": "markdown",
   "metadata": {},
   "source": [
    "# Make Bar-Chart of Letter Frequencies"
   ]
  },
  {
   "cell_type": "code",
   "execution_count": 12,
   "metadata": {
    "collapsed": false
   },
   "outputs": [
    {
     "data": {
      "image/png": "[encoded data removed]",
      "text/plain": [
       "<matplotlib.figure.Figure at 0xe9cee8ac8>"
      ]
     },
     "metadata": {},
     "output_type": "display_data"
    }
   ],
   "source": [
    "real_letter_freq=[8.2, 1.5, 2.8, 4.3, 12.7, 2.2, 2.0, 6.1, 7.0, 0.2, 0.8, 4.0, 2.4,6.7, 7.5, 1.9, 0.1, 6.0, 6.3, 9.1, 2.8, 1.0, 2.4, 0.2, 2.0, 0.1]\n",
    "\n",
    "x = np.arange(len(alphabet))\n",
    "\n",
    "plt.bar(x,real_letter_freq,color='r')\n",
    "plt.xlabel('Letters')\n",
    "plt.ylabel('Frequency')\n",
    "plt.title('Real Letter Frequencies')\n",
    "plt.xticks(x+0.5, alphabet)\n",
    "plt.tight_layout()\n",
    "plt.savefig('cipher_real_letter_freq.png')\n"
   ]
  },
  {
   "cell_type": "code",
   "execution_count": 13,
   "metadata": {
    "collapsed": false
   },
   "outputs": [
    {
     "data": {
      "image/png": "[encoded data removed]",
      "text/plain": [
       "<matplotlib.figure.Figure at 0xe9ce835c0>"
      ]
     },
     "metadata": {},
     "output_type": "display_data"
    }
   ],
   "source": [
    "x = np.arange(len(alphabet))\n",
    "\n",
    "plt.bar(x,letter_freq)\n",
    "\n",
    "plt.xlabel('Letters')\n",
    "plt.ylabel('Frequency')\n",
    "plt.title('Letter Frequencies')\n",
    "plt.xticks(x+0.5, alphabet)\n",
    "plt.tight_layout()\n",
    "plt.savefig('cpher_letter_freq.png')\n"
   ]
  },
  {
   "cell_type": "markdown",
   "metadata": {},
   "source": [
    "# Counting Double Letter Combinations"
   ]
  },
  {
   "cell_type": "code",
   "execution_count": 14,
   "metadata": {
    "collapsed": false
   },
   "outputs": [
    {
     "name": "stdout",
     "output_type": "stream",
     "text": [
      "[('SG', 8), ('YL', 8), ('IA', 7), ('PS', 7), ('CI', 6), ('GO', 6), ('IY', 6), ('RX', 6), ('UY', 6), ('XT', 6)]\n"
     ]
    }
   ],
   "source": [
    "digram_freq=[] #going to be a list of tuples\n",
    "sorted_digram=[]\n",
    "sig_digram=[]\n",
    "\n",
    "for x in alphabet:\n",
    "    for y in alphabet:\n",
    "        word=x+y\n",
    "        digram_freq.append((word,count_freq(cipher_text,word)))\n",
    "\n",
    "sorted_digram=sorted(digram_freq, key=lambda digram_freq: digram_freq[1],reverse=True)  \n",
    "\n",
    "i=0\n",
    "while i<10:\n",
    "    sig_digram.append(sorted_digram[i])\n",
    "    i+=1\n",
    "\n",
    "print(sig_digram)\n",
    "\n"
   ]
  },
  {
   "cell_type": "code",
   "execution_count": 14,
   "metadata": {
    "collapsed": false
   },
   "outputs": [
    {
     "data": {
      "image/png": "[encoded data removed]",
      "text/plain": [
       "<matplotlib.figure.Figure at 0x155d6f0>"
      ]
     },
     "metadata": {},
     "output_type": "display_data"
    }
   ],
   "source": [
    "x_values=np.arange(len(sig_digram))\n",
    "y_values=[x[1] for x in sig_digram]\n",
    "\n",
    "digrams=[]\n",
    "for x in sig_digram:\n",
    "    digrams.append(x[0])\n",
    "\n",
    "\n",
    "\n",
    "plt.bar(x_values,y_values)\n",
    "\n",
    "plt.xlabel('Digram')\n",
    "plt.ylabel('Frequency')\n",
    "plt.title('Digram Frequencies')\n",
    "plt.xticks(x_values+0.5, digrams)\n",
    "plt.tight_layout()\n",
    "plt.savefig('cipher_digram_freq.png')\n"
   ]
  },
  {
   "cell_type": "markdown",
   "metadata": {},
   "source": [
    "#Triple Letter Frequency"
   ]
  },
  {
   "cell_type": "code",
   "execution_count": 15,
   "metadata": {
    "collapsed": false
   },
   "outputs": [
    {
     "name": "stdout",
     "output_type": "stream",
     "text": [
      "[('PSG', 7), ('DYI', 4), ('AGO', 3), ('CIY', 3), ('FSM', 3), ('GCI', 3), ('GRV', 3), ('KUY', 3), ('MGR', 3), ('PPS', 3), ('QYL', 3), ('SGC', 3), ('XTP', 3), ('ADF', 2), ('AFZ', 2)]\n"
     ]
    }
   ],
   "source": [
    "trigram_freq=[] #going to be a list of tuples\n",
    "sorted_trigram=[]\n",
    "sig_trigram=[]\n",
    "\n",
    "for x in alphabet:\n",
    "    for y in alphabet:\n",
    "        for z in alphabet:\n",
    "            word=x+y+z\n",
    "            trigram_freq.append((word,count_freq(cipher_text,word)))\n",
    "\n",
    "sorted_trigram=sorted(trigram_freq, key=lambda trigram_freq: trigram_freq[1],reverse=True)  \n",
    "\n",
    "i=0\n",
    "while i<15:\n",
    "    sig_trigram.append(sorted_trigram[i])\n",
    "    i+=1\n",
    "\n",
    "print(sig_trigram)"
   ]
  },
  {
   "cell_type": "code",
   "execution_count": 36,
   "metadata": {
    "collapsed": false
   },
   "outputs": [
    {
     "data": {
      "image/png": "[encoded data removed]",
      "text/plain": [
       "<matplotlib.figure.Figure at 0x1182650>"
      ]
     },
     "metadata": {},
     "output_type": "display_data"
    }
   ],
   "source": [
    "x_values=np.arange(len(sig_trigram))\n",
    "y_values=[x[1] for x in sig_trigram]\n",
    "\n",
    "trigrams=[]\n",
    "for x in sig_trigram:\n",
    "    trigrams.append(x[0])\n",
    "\n",
    "\n",
    "\n",
    "plt.bar(x_values,y_values)\n",
    "\n",
    "plt.xlabel('Trigram')\n",
    "plt.ylabel('Frequency')\n",
    "plt.title('Digram Frequencies')\n",
    "plt.xticks(x_values+0.5, trigrams)\n",
    "plt.tight_layout()\n",
    "plt.savefig('cipher_trigram_freq.png')"
   ]
  },
  {
   "cell_type": "markdown",
   "metadata": {},
   "source": [
    "# Caeser Shift Processing "
   ]
  },
  {
   "cell_type": "code",
   "execution_count": 16,
   "metadata": {
    "collapsed": false
   },
   "outputs": [],
   "source": [
    "shift_number=15 #how many letters the alphabet is shifted by\n",
    "\n",
    "shift_number=26-shift_number"
   ]
  },
  {
   "cell_type": "code",
   "execution_count": 17,
   "metadata": {
    "collapsed": false
   },
   "outputs": [
    {
     "name": "stdout",
     "output_type": "stream",
     "text": [
      "['L', 'M', 'N', 'O', 'P', 'Q', 'R', 'S', 'T', 'U', 'V', 'W', 'X', 'Y', 'Z', 'A', 'B', 'C', 'D', 'E', 'F', 'G', 'H', 'I', 'J', 'K']\n"
     ]
    }
   ],
   "source": [
    "i=0\n",
    "while i<26:\n",
    "    shift_mod=(i+shift_number)%26\n",
    "    character_number=65+shift_mod\n",
    "    cipher_key[i]=chr(character_number)\n",
    "    i+=1\n",
    "\n",
    "print(cipher_key)"
   ]
  },
  {
   "cell_type": "markdown",
   "metadata": {},
   "source": [
    "# Letter Guessing:\n"
   ]
  },
  {
   "cell_type": "code",
   "execution_count": 18,
   "metadata": {
    "collapsed": false
   },
   "outputs": [],
   "source": [
    "#make guesses at how cipher text letters are decrypted, \n",
    "#remembering that list indexing starts from 0\n",
    "cipher_key[0]=\"-\" #guess for A\n",
    "cipher_key[1]=\"-\" #guess for B\n",
    "cipher_key[2]=\"T\" #guess for C\n",
    "cipher_key[3]=\"A\" #guess for D\n",
    "cipher_key[4]=\"-\" #guess for E\n",
    "cipher_key[5]=\"E\" #guess for F\n",
    "cipher_key[6]=\"-\" #guess for G\n",
    "cipher_key[7]=\"-\" #guess for H\n",
    "cipher_key[8]=\"-\" #guess for I\n",
    "cipher_key[9]=\"-\" #guess for J\n",
    "cipher_key[10]=\"-\" #guess for K\n",
    "cipher_key[11]=\"-\" #guess for L\n",
    "cipher_key[12]=\"-\" #guess for M\n",
    "cipher_key[13]=\"-\" #guess for N\n",
    "cipher_key[14]=\"-\" #guess for O\n",
    "cipher_key[15]=\"-\" #guess for P\n",
    "cipher_key[16]=\"-\" #guess for Q\n",
    "cipher_key[17]=\"-\" #guess for R\n",
    "cipher_key[18]=\"-\" #guess for S\n",
    "cipher_key[19]=\"-\" #guess for T\n",
    "cipher_key[20]=\"-\" #guess for U\n",
    "cipher_key[21]=\"-\" #guess for V\n",
    "cipher_key[22]=\"-\" #guess for W\n",
    "cipher_key[23]=\"H\" #guess for X\n",
    "cipher_key[24]=\"-\" #guess for Y\n",
    "cipher_key[25]=\"-\" #guess for Z\n",
    "\n",
    "\n",
    "\n",
    "\n"
   ]
  },
  {
   "cell_type": "code",
   "execution_count": 19,
   "metadata": {
    "collapsed": false
   },
   "outputs": [
    {
     "name": "stdout",
     "output_type": "stream",
     "text": [
      "--TA-E-----------------H--\n"
     ]
    }
   ],
   "source": [
    "#build the key string for use in the translate function\n",
    "alphabet_key=\"\"\n",
    "for x in cipher_key:\n",
    "    alphabet_key=alphabet_key+x\n",
    "print(alphabet_key)"
   ]
  },
  {
   "cell_type": "markdown",
   "metadata": {},
   "source": [
    "# FINDING THE POSITION OF TRI-GRAMS IN THE CIPHER TEXT"
   ]
  },
  {
   "cell_type": "code",
   "execution_count": 20,
   "metadata": {
    "collapsed": true
   },
   "outputs": [],
   "source": [
    "#define a function to count over-lapping occurences of a sub-string in a string\n",
    "def trigram_position(string, word):\n",
    "    start   = 0\n",
    "    locations=[]\n",
    "\n",
    "    while True:\n",
    "        start = string.find (word, start) #find returns -1 on failure \n",
    "        if start < 0:\n",
    "            break\n",
    "\n",
    "        start   += 1\n",
    "        locations.append(start)\n",
    "\n",
    "\n",
    "    return locations\n"
   ]
  },
  {
   "cell_type": "code",
   "execution_count": 21,
   "metadata": {
    "collapsed": false
   },
   "outputs": [
    {
     "name": "stdout",
     "output_type": "stream",
     "text": [
      "[1, 225, 421, 666]\n"
     ]
    }
   ],
   "source": [
    "print(trigram_position(cipher_text,\"DYI\"))"
   ]
  },
  {
   "cell_type": "code",
   "execution_count": 22,
   "metadata": {
    "collapsed": false
   },
   "outputs": [
    {
     "name": "stdout",
     "output_type": "stream",
     "text": [
      "[224, 196, 245]\n"
     ]
    }
   ],
   "source": [
    "positions=trigram_position(cipher_text,\"DYI\")\n",
    "\n",
    "n=len(positions)\n",
    "relative_positions=[]\n",
    "i=0\n",
    "\n",
    "while i<n-1:\n",
    "    x=positions[i+1]-positions[i]\n",
    "    relative_positions.append(x)\n",
    "    i+=1\n",
    "\n",
    "print(relative_positions)"
   ]
  },
  {
   "cell_type": "code",
   "execution_count": 23,
   "metadata": {
    "collapsed": false
   },
   "outputs": [
    {
     "name": "stdout",
     "output_type": "stream",
     "text": [
      "[1, 37, 62, 101, 174, 181, 213, 344, 373, 401, 437, 477, 486, 527, 538, 577, 606]\n"
     ]
    }
   ],
   "source": [
    "string=\"THEFIRSTITEMINOURLITTLEAUCTIONWILLBETHELOCATIONOFASAFEHOUSEINTHEUKSECTOROFBERLINITISAMINORSTOPOVERONTHERATLINESBUTYOUNEVERKNOWYOUMIGHTGETLUCKYANDFINDSOMEONEINTERESTINGHIDINGTHEREATTHEVERYLEASTYOUWILLINCONVENIENCETHEREICHSDOKTORIFYOUTAKEPOSSESSIONOFITHOWMUCHWOULDTHATBEWORTHTOYOUDOIHEARABIDOFFIVEHUNDREDTHOUSANDFRANCSFROMOURFRENCHFRIENDSPERHAPSTHEBRITISHWOULDPAYMOREORMAYBETHEYCANNOTAFFORDTOIWONDERHOWTHEYFEELABOUTTHATPERHAPSYOUSHOULDASKTHEMIFYOUWANTTOOUTBIDYOURSOCALLEDFRIENDSTHENLEAVETHEMONEYINUNMARKEDTREASURYBILLSINLOCKERATTHEFARENDOFTHEPLATFORMINFRIEDRICHSTRASSEIWILLLEAVETHEDETAILSINLOCKERYOUWILLFINDTHEKEYINDONOTTRYTODOUBLECROSSMEITWILLNOTWORKANDOURLITTLEGAMEWILLENDBEFOREITHASEVENPROPERLYBEGUN\"\n",
    "print(trigram_position(string,\"THE\"))"
   ]
  },
  {
   "cell_type": "markdown",
   "metadata": {},
   "source": [
    "###DEALING WITH VIGNERE CIPHER"
   ]
  },
  {
   "cell_type": "code",
   "execution_count": 16,
   "metadata": {
    "collapsed": false
   },
   "outputs": [],
   "source": [
    "def vignere(cipher,period,n,shift_number): #for cipher text, cipher, changes letters in every n-th place with a caesar shift\n",
    "    \n",
    "    i=0\n",
    "    part_plain=[]\n",
    "    while i<len(cipher):\n",
    "        part_plain.append(cipher[i])\n",
    "        i+=1\n",
    "    \n",
    "    i=0\n",
    "    while i<(len(cipher_text)-n)/period:\n",
    "        character=cipher[period*i+n-1] #picks up a charcter in an nth place every period\n",
    "        cipher_character_number=ord(character)-65\n",
    "        plain_character_number=(cipher_character_number-shift_number) % 26\n",
    "        plain_character=chr(plain_character_number+65)\n",
    "        part_plain[period*i+n-1]=plain_character\n",
    "        i+=1\n",
    "        \n",
    "    #rebuild decrypt\n",
    "    i=0\n",
    "    part_decrypt=\"\"\n",
    "    while i<len(cipher):\n",
    "        part_decrypt=part_decrypt+part_plain[i]\n",
    "        i+=1\n",
    "    \n",
    "    return part_decrypt\n",
    "        \n",
    "    \n",
    "    \n",
    "    \n",
    "    \n",
    "\n",
    "\n",
    "    "
   ]
  },
  {
   "cell_type": "code",
   "execution_count": 30,
   "metadata": {
    "collapsed": false
   },
   "outputs": [
    {
     "name": "stdout",
     "output_type": "stream",
     "text": [
      "DYMMXMESTIZDPNFVZAMJRNPWGCIGRVZFSIADIGUYOGYFCFMQQIFCFSMLQFBFZBUOCWOVMECWQDDBNXUIDCIAQVLFZAGORTKZCEWFVQJIANKPQGIYERJXPQADVTXTORXTMUAZBFZLQONBBPWGEPRITIZYWGLVBDFAGOUVAYMBPPWGCIYVZMENIALVBDFAGOUBTPGOOCQQGMGRRBFSMLMRVOSMNDPWGMCGDYMKOWAYKCZOMECKIZOBUKKGAFKNXFVXJKUORBUYITKDMMYLGRZAUDVBDROMXMVPPWGEZLDFXXLGNQRUQZNPRVAEWQXOPWGCIYVZMEHMJSCTRTVQYLZEPTIOJQZLAGKCMYLBRIFCTLDRLVMZHIEXVLEZTRDLAEEIEDROMTVVMRVXPBLYLPMGMGRVIPOZRCJWRLVBDYMDDISOYWGDMNDRAYLTYNZAOZCADFVAFZBBZOUYIYZIQOPIANZEUWTVXTTGOMGRVQPPVGSKGAQIOBZBUDPQYLJXPITOEBIZZXSEOUYGBEIMYMIFCPATLTYGVAMJNBEIPGYLEOUBTZCFKELRCIAMJBAMMCKZLPTZRMKTKEWNXRKOZCADFNYJKUYFAUYOVPPWGHIADKWWYWJWFZQLJBEKBTPBEORKTPZLYWGAFZFYTIXWMQPIQQYLFDYMZWMGEJUQPBVXKPQAIEUSGFSMOBZBUDPRWSIEDGBXWZUOILKKMXPDRX\n"
     ]
    }
   ],
   "source": [
    "print(vignere(cipher_text,7,2,22))"
   ]
  },
  {
   "cell_type": "code",
   "execution_count": 17,
   "metadata": {
    "collapsed": false
   },
   "outputs": [
    {
     "name": "stdout",
     "output_type": "stream",
     "text": [
      "EYIMXMETTEZDPNGVVAMJROPSGCIGSVVFSIAEICUYOGZFYFMQQJFYFSMLRFXFZBUPCSOVMEDWMDDBNYUEDCIARVHFZAGPRPKZCEXFRQJIAOKLQGIYFRFXPQAEVPXTORYTIUAZBGZHQONBCPSGEPRJTEZYWGMVXDFAGPURAYMBQPSGCIYWZIENIAMVXDFAGPUXTPGOPCMQGMGSRXFSMLNRROSMNEPSGMCGEYIKOWAZKYZOMEDKEZOBULKCAFKNYFRXJKUPRXUYITLDIMYLGSZWUDVBERKMXMVQPSGEZLEFTXLGNRRQQZNPSVWEWQXPPSGCIYWZIEHMJTCPRTVQZLVEPTIPJMZLAGLCIYLBRJFYTLDRMVIZHIEYVHEZTRELWEEIEERKMTVVNRRXPBLZLLMGMGSVEPOZRDJSRLVBEYIDDISPYSGDMNERWYLTYOZWOZCAEFRAFZBCZKUYIYAIMOPIAOZAUWTVYTPGOMGSVMPPVGTKCAQIOCZXUDPQZLFXPITPEXIZZXTEKUYGBFIIYMIFDPWTLTYHVWMJNBFILGYLEPUXTZCFLEHRCIANJXAMMCLZHPTZRNKPKEWNYRGOZCAEFJYJKUZFWUYOVQPSGHIAEKSWYWJXFVQLJBFKXTPBEPRGTPZLZWCAFZFZTEXWMQQIMQYLFEYIZWMGFJQQPBVYKLQAIEVSCFSMOCZXUDPRXSEEDGBYWVUOILLKIXPDRX\n"
     ]
    }
   ],
   "source": [
    "\n",
    "period=7\n",
    "\n",
    "shift_1=-1\n",
    "shift_2=-1\n",
    "shift_3=4\n",
    "shift_4=0\n",
    "shift_5=0\n",
    "shift_6=0\n",
    "shift_7=0\n",
    "shift_8=0\n",
    "\n",
    "text=cipher_text\n",
    "\n",
    "text=vignere(text,period,1,shift_1)\n",
    "text=vignere(text,period,2,shift_2)\n",
    "text=vignere(text,period,3,shift_3)\n",
    "text=vignere(text,period,4,shift_4)\n",
    "text=vignere(text,period,5,shift_5)\n",
    "#text=vignere(text,period,6,shift_6)\n",
    "#text=vignere(text,period,7,shift_7)\n",
    "\n",
    "print(text)"
   ]
  },
  {
   "cell_type": "code",
   "execution_count": 19,
   "metadata": {
    "collapsed": true
   },
   "outputs": [],
   "source": [
    "def vignere_split(cipher,period,n): #for cipher text, cipher, changes letters in every n-th place with a caesar shift\n",
    "    \n",
    "\n",
    "    i=0\n",
    "    split=\"\"\n",
    "    while i<(len(cipher_text)-n)/period:\n",
    "        character=cipher[period*i+n-1] #picks up a charcter in an nth place every period      \n",
    "        split=split+character\n",
    "        i+=1\n",
    "        \n",
    "\n",
    "    \n",
    "    return split\n",
    "        "
   ]
  },
  {
   "cell_type": "code",
   "execution_count": 24,
   "metadata": {
    "collapsed": false
   },
   "outputs": [
    {
     "name": "stdout",
     "output_type": "stream",
     "text": [
      "YTVPVIFFFCWUVRFKRVTZPTVUPZVUCRRPYKKKFRDZRPFRVPZCLJCFVVLRRLVJYYRZFZIZTVKZLEEIPVIUEJZKRFFPKFKRWTIYJKSZSWK\n"
     ]
    }
   ],
   "source": [
    "print(vignere_split(cipher_text,7,2))"
   ]
  },
  {
   "cell_type": "code",
   "execution_count": null,
   "metadata": {
    "collapsed": true
   },
   "outputs": [],
   "source": []
  },
  {
   "cell_type": "markdown",
   "metadata": {},
   "source": [
    "##Final Substitution"
   ]
  },
  {
   "cell_type": "code",
   "execution_count": 70,
   "metadata": {
    "collapsed": false
   },
   "outputs": [
    {
     "name": "stdout",
     "output_type": "stream",
     "text": [
      "--TA-E-----------------H--\n"
     ]
    }
   ],
   "source": [
    "#build the key string for use in the translate function\n",
    "alphabet_key=\"\"\n",
    "for x in cipher_key:\n",
    "    alphabet_key=alphabet_key+x\n",
    "print(alphabet_key)"
   ]
  },
  {
   "cell_type": "code",
   "execution_count": 33,
   "metadata": {
    "collapsed": true
   },
   "outputs": [],
   "source": [
    "#define string to contain plain text\n",
    "plain=\"\""
   ]
  },
  {
   "cell_type": "code",
   "execution_count": 71,
   "metadata": {
    "collapsed": false
   },
   "outputs": [
    {
     "name": "stdout",
     "output_type": "stream",
     "text": [
      "YDCLPCXFMYSFUCSHKSDKXAYHKCXFHNFSBOYDXSDCVFXXHAYLUVYFSKYXFSHNYFCFFSVXABCYHCSDIIDCXFOSLFCLSDCJDAXUVFSUVLFSFROLCMXYDCLPCXFMYPSFQTFSHYKDXCFPSLCSDELTKDCXFSSLDCALFOAOHDVFHOLMUPUCHQYLCQDDCASLUXFYOCLSCHDQLDKYAFOLCFAXFMOFXTFUCDCXUCPYIFFJFSLXAYFSKXHSHDBURSLFOVCDYDXOLCVLCYDVCVFSAFJLTDCRDUSLFOVCDYBXXLQTFXHKDBCYVMYYFFXYFFQXLUCXFPPHXXCIFVSFCYYLXXHSSDCJDAXUVFSKDFTLYBQDPDCXTFFXFVSHDXXFYOCLSFUCDCXXFVVLUCRYOSFQYFVSHDXLKDXSHDTHSBOYDXFBF\n",
      "\n",
      "-AT--THE---E-T----A-H----THE--E----AH-AT-EHH-------E---HE----ETEE--H--T--T-A--ATHE---ET--AT-A-H--E----E-E---T-H-AT--THE----E--E----AHTE---T-A----ATHE---AT--E----A-E-------T----T-AAT----HE--T--T-A--A---E--TE-HE--EH-E-TATH-T---EE-E--H--E--H---A-----E--TA-AH--T--T-A-T-E--E---AT-A---E--TA--HH---EH--A-T-----EEH-EE-H--THE---HHT-E--ET---HH---AT-A-H--E--AE-----A-ATH-EEHE---AHHE--T--E-TATHHE----T----E--E---AH--AH--A------AHE-E\n",
      "\n",
      "E-EHA------A--HA--HA---E--E----T----EHHTAT-E--T--EHHA---EHEE-HTA-A-----EA--E--H-A-TA---HH---TE--E-THH---EHT--H-EE-HEE-----T-A--HE---HH--AT--E---A-TA---E--E-T-A-T--T--HA-AT--E-----A---H--E--H--E-EE---T-HTAT-E-HE--EH-ET--E---A--A-T--T--EH----TAA-T----T-------E-A----E--TA---EHTA----A-T---ETHA----E--E----EHT--TA-H-T---E-E----E--H-A-TA--TE---EHTA--A-T--T--H--EETE----EH---E-------HHE-TA-HA----E--EHT----H-A----T-E---EHT--TA-\n"
     ]
    }
   ],
   "source": [
    "print(cipher_text)\n",
    "print()\n",
    "\n",
    "#define dictionary for decoding each letter\n",
    "substitution=cipher_text.maketrans(alphabet_string,alphabet_key)\n",
    "plain=cipher_text.translate(substitution)\n",
    "print(plain)\n",
    "print()\n",
    "print(plain[::-1])\n"
   ]
  },
  {
   "cell_type": "code",
   "execution_count": 51,
   "metadata": {
    "collapsed": false
   },
   "outputs": [
    {
     "name": "stdout",
     "output_type": "stream",
     "text": [
      "-AT--THE---E-T----A-H----THE--E----AH-AT-EHH-------E---HE----ETEE--H--T--T-A--ATHE---ET--AT-A-H--E----E-E---T-H-AT--THE----E--E----AHTE---T-A----ATHE---AT--E----A-E-------T----T-AAT----HE--T--T-A--A---E--TE-HE--EH-E-TATH-T---EE-E--H--E--H---A-----E--TA-AH--T--T-A-T-E--E---AT-A---E--TA--HH---EH--A-T-----EEH-EE-H--THE---HHT-E--ET---HH---AT-A-H--E--AE-----A-ATH-EEHE---AHHE--T--E-TATHHE----T----E--E---AH--AH--A------AHE-E\n"
     ]
    }
   ],
   "source": [
    "print(plain[::-1])"
   ]
  },
  {
   "cell_type": "code",
   "execution_count": null,
   "metadata": {
    "collapsed": true
   },
   "outputs": [],
   "source": []
  }
 ],
 "metadata": {
  "anaconda-cloud": {},
  "celltoolbar": "Raw Cell Format",
  "kernelspec": {
   "display_name": "Python [Root]",
   "language": "python",
   "name": "Python [Root]"
  },
  "language_info": {
   "codemirror_mode": {
    "name": "ipython",
    "version": 3
   },
   "file_extension": ".py",
   "mimetype": "text/x-python",
   "name": "python",
   "nbconvert_exporter": "python",
   "pygments_lexer": "ipython3",
   "version": "3.5.2"
  }
 },
 "nbformat": 4,
 "nbformat_minor": 0
}
