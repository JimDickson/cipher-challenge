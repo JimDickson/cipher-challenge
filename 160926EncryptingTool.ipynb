{
 "cells": [
  {
   "cell_type": "markdown",
   "metadata": {},
   "source": [
    "# ENCRYPTING TEXTS"
   ]
  },
  {
   "cell_type": "code",
   "execution_count": 1,
   "metadata": {
    "collapsed": false
   },
   "outputs": [
    {
     "name": "stdout",
     "output_type": "stream",
     "text": [
      "Populating the interactive namespace from numpy and matplotlib\n"
     ]
    }
   ],
   "source": [
    "#import number and plotting functions\n",
    "%pylab inline"
   ]
  },
  {
   "cell_type": "markdown",
   "metadata": {},
   "source": [
    "# Function to capitalise text"
   ]
  },
  {
   "cell_type": "code",
   "execution_count": 2,
   "metadata": {
    "collapsed": true
   },
   "outputs": [],
   "source": [
    "#convert the cipher text to upper case\n",
    "def capitalise(text):\n",
    "    output_text=text\n",
    "    output_text=output_text.upper()\n",
    "    \n",
    "    return output_text\n"
   ]
  },
  {
   "cell_type": "markdown",
   "metadata": {},
   "source": [
    "# Function to strip out spaces and punctuation"
   ]
  },
  {
   "cell_type": "code",
   "execution_count": 3,
   "metadata": {
    "collapsed": false
   },
   "outputs": [],
   "source": [
    "\n",
    "#removes everything except capital letters and \n",
    "#makes new cipher text string comprising of just capital letters\n",
    "def strip_text(text):\n",
    "    output_text=\"\"\n",
    "    for x in text:\n",
    "        if 64<ord(x)<91:\n",
    "            output_text=output_text+x\n",
    "\n",
    "    return output_text"
   ]
  },
  {
   "cell_type": "markdown",
   "metadata": {},
   "source": [
    "# Function to insert space every nth character"
   ]
  },
  {
   "cell_type": "code",
   "execution_count": 4,
   "metadata": {
    "collapsed": false
   },
   "outputs": [],
   "source": [
    "#insert space every nth character\n",
    "def space_insert(text,n):\n",
    "    output_string=\"\"\n",
    "    length=len(text)\n",
    "    x=0\n",
    "    while x<length//n+1:\n",
    "        output_string=output_string+' '+text[x*n:(x+1)*n]\n",
    "        x+=1\n",
    "    output_string=output_string[1:]\n",
    "    return output_string"
   ]
  },
  {
   "cell_type": "markdown",
   "metadata": {},
   "source": [
    "# Caesar Shift Key Function\n",
    "outputs a ceasar shifted cipher key"
   ]
  },
  {
   "cell_type": "code",
   "execution_count": 5,
   "metadata": {
    "collapsed": true
   },
   "outputs": [],
   "source": [
    "def caesar(n):\n",
    "    shift_number=n #how many letters the alphabet is shifted by\n",
    "    key=\"\"\n",
    "\n",
    "    #shift_number=26-shift_number\n",
    "\n",
    "    i=0\n",
    "    while i<26:\n",
    "        shift_mod=(i+n)%26\n",
    "        character_number=65+shift_mod\n",
    "        key=key+chr(character_number)\n",
    "        i+=1\n",
    "        \n",
    "    return key\n",
    "    "
   ]
  },
  {
   "cell_type": "markdown",
   "metadata": {},
   "source": [
    "## Keyword Key Function"
   ]
  },
  {
   "cell_type": "code",
   "execution_count": 6,
   "metadata": {
    "collapsed": false
   },
   "outputs": [],
   "source": [
    "def keyword_cipherkey(word):\n",
    "\n",
    "\n",
    "    alphabet=\"ABCDEFGHIJKLMNOPQRSTUVWXYZ\"\n",
    "    keyword=word\n",
    "    cipherkey_string=\"\"\n",
    "    \n",
    "    for x in keyword:\n",
    "        if x not in cipherkey_string:\n",
    "            cipherkey_string=cipherkey_string+x\n",
    "\n",
    "    for x in alphabet:\n",
    "        if x not in cipherkey_string:\n",
    "            cipherkey_string=cipherkey_string+x\n",
    "    \n",
    "    return cipherkey_string"
   ]
  },
  {
   "cell_type": "markdown",
   "metadata": {},
   "source": [
    "# Translate Text Using Given Key"
   ]
  },
  {
   "cell_type": "code",
   "execution_count": 7,
   "metadata": {
    "collapsed": false
   },
   "outputs": [],
   "source": [
    "def translate(text,key):\n",
    "\n",
    "    cipher_text=\"\"\n",
    "    alphabet=\"ABCDEFGHIJKLMNOPQRSTUVWXYZ\"\n",
    "\n",
    "#define dictionary for decoding each letter\n",
    "    substitution=text.maketrans(alphabet,key)\n",
    "    cipher_text=text.translate(substitution)\n",
    "    \n",
    "    return cipher_text\n"
   ]
  },
  {
   "cell_type": "markdown",
   "metadata": {
    "collapsed": true
   },
   "source": [
    "# Transposition on a square"
   ]
  },
  {
   "cell_type": "code",
   "execution_count": 8,
   "metadata": {
    "collapsed": false
   },
   "outputs": [],
   "source": [
    "def transposition_square(text,n):\n",
    "    output_text=\"\"\n",
    "    m=len(text)\n",
    "    while m<n**2:\n",
    "        text=text+'N'\n",
    "        m+=1\n",
    "    x=0    \n",
    "    while x<n**2:\n",
    "        output_text=output_text+text[(x%n)*n+(x//n)]\n",
    "        x+=1\n",
    "    return output_text    \n",
    "        "
   ]
  },
  {
   "cell_type": "code",
   "execution_count": 9,
   "metadata": {
    "collapsed": false
   },
   "outputs": [
    {
     "name": "stdout",
     "output_type": "stream",
     "text": [
      "2\n"
     ]
    },
    {
     "data": {
      "text/plain": [
       "3"
      ]
     },
     "execution_count": 9,
     "metadata": {},
     "output_type": "execute_result"
    }
   ],
   "source": [
    "print(13//5)\n",
    "13%5"
   ]
  },
  {
   "cell_type": "code",
   "execution_count": 10,
   "metadata": {
    "collapsed": false
   },
   "outputs": [
    {
     "data": {
      "text/plain": [
       "'ABCDABCDABCDABCD'"
      ]
     },
     "execution_count": 10,
     "metadata": {},
     "output_type": "execute_result"
    }
   ],
   "source": [
    "transposition_square(\"AAAABBBBCCCCDDDD\",4)"
   ]
  },
  {
   "cell_type": "raw",
   "metadata": {},
   "source": []
  },
  {
   "cell_type": "markdown",
   "metadata": {},
   "source": [
    "# Transposition Function"
   ]
  },
  {
   "cell_type": "code",
   "execution_count": 11,
   "metadata": {
    "collapsed": false
   },
   "outputs": [],
   "source": [
    "#transposition of a 5 peremutation adding additional Ns to make string length a factor of 5\n",
    "def transposition_5(text,perm):\n",
    "\n",
    "    c1=(perm//10000)%10\n",
    "    c2=(perm//1000)%10\n",
    "    c3=(perm//100)%10\n",
    "    c4=(perm//10)%10\n",
    "    c5=perm%10\n",
    "    \n",
    "    transposition_text=text\n",
    "    \n",
    "    length=len(text)\n",
    "    if length%5!=0:\n",
    "        x=0\n",
    "        while x<length%5+1:\n",
    "            transposition_text=transposition_text+\"N\"\n",
    "            x+=1\n",
    "        \n",
    "    output_text=\"\"\n",
    "    x=0\n",
    "    length=len(transposition_text)\n",
    "    while x<length/5:\n",
    "        next_slice=\"\"\n",
    "        next_slice=transposition_text[5*x+c1-1]+transposition_text[5*x+c2-1]+transposition_text[5*x+c3-1]+transposition_text[5*x+c4-1]+transposition_text[5*x+c5-1]\n",
    "        output_text=output_text+next_slice\n",
    "        x+=1\n",
    "    \n",
    "    return output_text\n",
    "        \n",
    "    "
   ]
  },
  {
   "cell_type": "code",
   "execution_count": 12,
   "metadata": {
    "collapsed": true
   },
   "outputs": [],
   "source": [
    "#transposition of a 3 peremutation adding additional Ns to make string length a factor of 5\n",
    "def transposition_3(text,perm):\n",
    "    \n",
    "    n=3\n",
    "    #c1=(perm//10000)%10\n",
    "    #c2=(perm//1000)%10\n",
    "    c3=(perm//100)%10\n",
    "    c4=(perm//10)%10\n",
    "    c5=perm%10\n",
    "    \n",
    "    transposition_text=text\n",
    "    \n",
    "    length=len(text)\n",
    "    if length%n!=0:\n",
    "        x=0\n",
    "        while x<length%n+1:\n",
    "            transposition_text=transposition_text+\"N\"\n",
    "            x+=1\n",
    "        \n",
    "    output_text=\"\"\n",
    "    x=0\n",
    "    length=len(transposition_text)\n",
    "    while x<length/n:\n",
    "        next_slice=\"\"\n",
    "        next_slice=next_slice+transposition_text[n*x+c3-1]+transposition_text[n*x+c4-1]+transposition_text[n*x+c5-1]\n",
    "        output_text=output_text+next_slice\n",
    "        x+=1\n",
    "    \n",
    "    return output_text\n"
   ]
  },
  {
   "cell_type": "code",
   "execution_count": 13,
   "metadata": {
    "collapsed": false
   },
   "outputs": [
    {
     "data": {
      "text/plain": [
       "'EBCDAEBCDAEBCDA'"
      ]
     },
     "execution_count": 13,
     "metadata": {},
     "output_type": "execute_result"
    }
   ],
   "source": [
    "transposition_5(\"ABCDEABCDEABCDE\",52341)"
   ]
  },
  {
   "cell_type": "code",
   "execution_count": 14,
   "metadata": {
    "collapsed": false
   },
   "outputs": [
    {
     "data": {
      "text/plain": [
       "'BCABCABCABCA'"
      ]
     },
     "execution_count": 14,
     "metadata": {},
     "output_type": "execute_result"
    }
   ],
   "source": [
    "transposition_3(\"ABCABCABCABC\",231)"
   ]
  },
  {
   "cell_type": "markdown",
   "metadata": {},
   "source": [
    "# Vignere Cipher Encoder"
   ]
  },
  {
   "cell_type": "code",
   "execution_count": null,
   "metadata": {
    "collapsed": true
   },
   "outputs": [],
   "source": []
  },
  {
   "cell_type": "code",
   "execution_count": 15,
   "metadata": {
    "collapsed": false
   },
   "outputs": [],
   "source": [
    "def vignere_encoder(text,code_word):\n",
    "    \n",
    "    n=len(text)\n",
    "    m=len(code_word)\n",
    "    alphabet=\"ABCDEFGHIJKLMNOPQRSTUVWXYZ\"\n",
    "    cipher_array=[]\n",
    "    \n",
    "    #make cipher text of n _s\n",
    "    x=0\n",
    "    while x<n:\n",
    "        cipher_array.append(\"_\")\n",
    "        x+=1\n",
    "    \n",
    "    \n",
    "    x=0\n",
    "    #for each letter in the codeword\n",
    "    while x<m:\n",
    "        y=0\n",
    "        working_string=\"\"\n",
    "        #strip out every xth letter in m-blocks\n",
    "        while y<n:\n",
    "            if y%m==x:\n",
    "                working_string=working_string+text[y]\n",
    "            y+=1\n",
    "        \n",
    "        #make caesar shift based on xth letter of the code word\n",
    "        y=0\n",
    "        key=\"\"\n",
    "        while y<26:\n",
    "            shift_mod=(y+ord(code_word[x])-65)%26\n",
    "            character_number=65+shift_mod\n",
    "            key=key+chr(character_number)\n",
    "            y+=1\n",
    "        \n",
    "        #make caesar shift\n",
    "        substitution=text.maketrans(alphabet,key)\n",
    "        working_string=working_string.translate(substitution)\n",
    "        \n",
    "        #compile into cipher_text\n",
    "        y=0\n",
    "        while y<len(working_string):\n",
    "            z=0\n",
    "            while z<n:\n",
    "                if z%m==x: cipher_array[z]=working_string[z//m]\n",
    "                z+=1\n",
    "            y+=1\n",
    "        x+=1\n",
    "        \n",
    "    #make cipher text\n",
    "    x=0\n",
    "    cipher_text=\"\"\n",
    "    while x<n:\n",
    "        cipher_text=cipher_text+cipher_array[x]\n",
    "        x+=1\n",
    "        \n",
    "    return cipher_text\n",
    "        "
   ]
  },
  {
   "cell_type": "code",
   "execution_count": 16,
   "metadata": {
    "collapsed": false
   },
   "outputs": [
    {
     "name": "stdout",
     "output_type": "stream",
     "text": [
      "No one would have believed in the last years of the nineteenth century that this world was being watched keenly and closely by intelligences greater than man's and yet as mortal as his own; that as men busied themselves about their various concerns they were scrutinised and studied, perhaps almost as narrowly as a man with a microscope might scrutinise the transient creatures that swarm and multiply in a drop of water. With infinite complacency men went to and fro over this globe about their little affairs, serene in their assurance of their empire over matter. It is possible that the infusoria under the microscope do the same. No one gave a thought to the older worlds of space as sources of human danger, or thought of them only to dismiss the idea of life upon them as impossible or improbable. It is curious to recall some of the mental habits of those departed days. At most terrestrial men fancied there might be other men upon Mars, perhaps inferior to themselves and ready to welcome a missionary enterprise. Yet across the gulf of space, minds that are to our minds as ours are to those of the beasts that perish, intellects vast and cool and unsympathetic, regarded this earth with envious eyes, and slowly and surely drew their plans against us.\n",
      "NOONEWOULDHAVEBELIEVEDINTHELASTYEARSOFTHENINETEENTHCENTURYTHATTHISWORLDWASBEINGWATCHEDKEENLYANDCLOSELYBYINTELLIGENCESGREATERTHANMANSANDYETASMORTALASHISOWNTHATASMENBUSIEDTHEMSELVESABOUTTHEIRVARIOUSCONCERNSTHEYWERESCRUTINISEDANDSTUDIEDPERHAPSALMOSTASNARROWLYASAMANWITHAMICROSCOPEMIGHTSCRUTINISETHETRANSIENTCREATURESTHATSWARMANDMULTIPLYINADROPOFWATERWITHINFINITECOMPLACENCYMENWENTTOANDFROOVERTHISGLOBEABOUTTHEIRLITTLEAFFAIRSSERENEINTHEIRASSURANCEOFTHEIREMPIREOVERMATTERITISPOSSIBLETHATTHEINFUSORIAUNDERTHEMICROSCOPEDOTHESAMENOONEGAVEATHOUGHTTOTHEOLDERWORLDSOFSPACEASSOURCESOFHUMANDANGERORTHOUGHTOFTHEMONLYTODISMISSTHEIDEAOFLIFEUPONTHEMASIMPOSSIBLEORIMPROBABLEITISCURIOUSTORECALLSOMEOFTHEMENTALHABITSOFTHOSEDEPARTEDDAYSATMOSTTERRESTRIALMENFANCIEDTHEREMIGHTBEOTHERMENUPONMARSPERHAPSINFERIORTOTHEMSELVESANDREADYTOWELCOMEAMISSIONARYENTERPRISEYETACROSSTHEGULFOFSPACEMINDSTHATARETOOURMINDSASOURSARETOTHOSEOFTHEBEASTSTHATPERISHINTELLECTSVASTANDCOOLANDUNSYMPATHETICREGARDEDTHISEARTHWITHENVIOUSEYESANDSLOWLYANDSURELYDREWTHEIRPLANSAGAINSTUS\n",
      "1027\n",
      "JCFYHSCLWGDOMPEAZZPYARZYWDSCLVPMVLUOCWEKABZYHPSVYWDQVYWQFPEKWHKSLOKFCOZKRDEAWERZWHTSHZYVPQHMRYGYZFDHHMSJLJHVWOEUVYFAGXCHWHVCWDOEXDJGRYGUSKLVICIEDHOJSLOCNYWDOKLVISEMXOWVOWDSDDHHJVDDXCLEWDSZCYWFZZXOQFYFAFEDWDSPHHNSJNUQHZYLOSULQZGKFGESUAHNVRAVWZDZVPOJYDNFFHOUOJLPWBNTWDODTFNCJNRLSDTJDHJNUQHZYLOSKSHPFRYVESEEFNSREXNSJEKWHJHDNARYGIICELLZPTQWRIZSKTNLWAFNTWDWEQLJWKPFKAGWDYSENBISEHHJHKZDJRWCRKJVCWDWJROKPVLEKIKEKAWIWLPHCPDBTRTUOGVCHJSZYWDSZCDOGLCDJQVZIPVVTUAAGTUACMPUIOKEHNWKTVLCJDLXZVEKWHKSHEBWFVKFZLXJRVCWDSDTFNCJNRLSUZWDSJLPABFZQAURGHWHYZXCVKERPVVZOZSIHRNZUDRBGGLFAOJDRQFTPVKTYFPWBULQCSIZUPVFFJDHFQWDSDZQHMKZGEGDTVOHYPLZSRZIHWWPXLCEEKAARDLIDFDVEPCPRNWDAUKPRMOAWKTVYIITRQGKZUAQRWOOCDPRBHYPPABKLODOSTWOCWEKKGVOHLOIEHZRRJVWHDZVPHVCUAGKCLWZDPQBOENLARKSHNSDTJDHSPRPVVCPABLARJARCVLSISDLGZYIAFZZUPCKSHIGVWYAGRYGNSROBPCNPOYCDPDIWJDLKBRCBABKPULFZDHUSKLFNCJDWDSXFOBCWDSWQVXLJRJEKWHRCHPCFFUIWEOVWGFFUOOIPWKHYZVACWEKAPVLVPGKSDPDVCLOVZYWAZCPFPGMLVPOEOFKCCLQZIEDBIDREKAHZNUAURCGARKSLOSRCWDKZEKABMTRQGVJHOOEOVHCNWBWBUDXNSCJGNSNEKAWIAOWBJLJWWEDWQG\n",
      "1027\n",
      "JCFYH SCLWG DOMPE AZZPY ARZYW DSCLV PMVLU OCWEK ABZYH PSVYW DQVYW QFPEK WHKSL OKFCO ZKRDE AWERZ WHTSH ZYVPQ HMRYG YZFDH HMSJL JHVWO EUVYF AGXCH WHVCW DOEXD JGRYG USKLV ICIED HOJSL OCNYW DOKLV ISEMX OWVOW DSDDH HJVDD XCLEW DSZCY WFZZX OQFYF AFEDW DSPHH NSJNU QHZYL OSULQ ZGKFG ESUAH NVRAV WZDZV POJYD NFFHO UOJLP WBNTW DODTF NCJNR LSDTJ DHJNU QHZYL OSKSH PFRYV ESEEF NSREX NSJEK WHJHD NARYG IICEL LZPTQ WRIZS KTNLW AFNTW DWEQL JWKPF KAGWD YSENB ISEHH JHKZD JRWCR KJVCW DWJRO KPVLE KIKEK AWIWL PHCPD BTRTU OGVCH JSZYW DSZCD OGLCD JQVZI PVVTU AAGTU ACMPU IOKEH NWKTV LCJDL XZVEK WHKSH EBWFV KFZLX JRVCW DSDTF NCJNR LSUZW DSJLP ABFZQ AURGH WHYZX CVKER PVVZO ZSIHR NZUDR BGGLF AOJDR QFTPV KTYFP WBULQ CSIZU PVFFJ DHFQW DSDZQ HMKZG EGDTV OHYPL ZSRZI HWWPX LCEEK AARDL IDFDV EPCPR NWDAU KPRMO AWKTV YIITR QGKZU AQRWO OCDPR BHYPP ABKLO DOSTW OCWEK KGVOH LOIEH ZRRJV WHDZV PHVCU AGKCL WZDPQ BOENL ARKSH NSDTJ DHSPR PVVCP ABLAR JARCV LSISD LGZYI AFZZU PCKSH IGVWY AGRYG NSROB PCNPO YCDPD IWJDL KBRCB ABKPU LFZDH USKLF NCJDW DSXFO BCWDS WQVXL JRJEK WHRCH PCFFU IWEOV WGFFU OOIPW KHYZV ACWEK APVLV PGKSD PDVCL OVZYW AZCPF PGMLV POEOF KCCLQ ZIEDB IDREK AHZNU AURCG ARKSL OSRCW DKZEK ABMTR QGVJH OOEOV HCNWB WBUDX NSCJG NSNEK AWIAO WBJLJ WWEDW QG\n",
      "1232\n"
     ]
    }
   ],
   "source": [
    "plain_text=\"No one would have believed in the last years of the nineteenth century that this world was being watched keenly and closely by intelligences greater than man's and yet as mortal as his own; that as men busied themselves about their various concerns they were scrutinised and studied, perhaps almost as narrowly as a man with a microscope might scrutinise the transient creatures that swarm and multiply in a drop of water. With infinite complacency men went to and fro over this globe about their little affairs, serene in their assurance of their empire over matter. It is possible that the infusoria under the microscope do the same. No one gave a thought to the older worlds of space as sources of human danger, or thought of them only to dismiss the idea of life upon them as impossible or improbable. It is curious to recall some of the mental habits of those departed days. At most terrestrial men fancied there might be other men upon Mars, perhaps inferior to themselves and ready to welcome a missionary enterprise. Yet across the gulf of space, minds that are to our minds as ours are to those of the beasts that perish, intellects vast and cool and unsympathetic, regarded this earth with envious eyes, and slowly and surely drew their plans against us.\"\n",
    "\n",
    "print(plain_text)\n",
    "\n",
    "plain_text=strip_text(capitalise(plain_text))\n",
    "\n",
    "print(plain_text)\n",
    "print(len(plain_text))\n",
    "\n",
    "cipher_text=vignere_encoder(plain_text,\"WORLD\")\n",
    "\n",
    "print(cipher_text)\n",
    "print(len(cipher_text))\n",
    "\n",
    "cipher_text=space_insert(cipher_text,5)\n",
    "\n",
    "print(cipher_text)\n",
    "print(len(cipher_text))\n"
   ]
  },
  {
   "cell_type": "markdown",
   "metadata": {},
   "source": [
    "# Generate a Caesar Shift Cipher retaining word structure"
   ]
  },
  {
   "cell_type": "code",
   "execution_count": 17,
   "metadata": {
    "collapsed": false,
    "scrolled": true
   },
   "outputs": [
    {
     "name": "stdout",
     "output_type": "stream",
     "text": [
      "Happy families are all alike; every unhappy family is unhappy in its own way.Everything was in confusion in the Oblonskys’ house. The wife had discovered that the husband was carrying on an intrigue with a French girl, who had been a governess in their family, and she had announced to her husband that she could not go on living in the same house with him. This position of affairs had now lasted three days, and not only the husband and wife themselves, but all the members of their family and household, were painfully conscious of it. Every person in the house felt that there was no sense in their living together, and that the stray people brought together by chance in any inn had more in common with one another than they, the members of the family and household of the Oblonskys. The wife did not leave her own room, the husband had not been at home for three days. The children ran wild all over the house; the English governess quarrelled with the housekeeper, and wrote to a friend asking her to look out for a new situation for her; the man-cook had walked off the day before just at dinner time; the kitchen-maid, and the coachman had given warning.\n",
      "1163\n",
      "PIXXG NIUQTQMA IZM ITT ITQSM; MDMZG CVPIXXG NIUQTG QA CVPIXXG QV QBA WEV EIG.MDMZGBPQVO EIA QV KWVNCAQWV QV BPM WJTWVASGA’ PWCAM. BPM EQNM PIL LQAKWDMZML BPIB BPM PCAJIVL EIA KIZZGQVO WV IV QVBZQOCM EQBP I NZMVKP OQZT, EPW PIL JMMV I OWDMZVMAA QV BPMQZ NIUQTG, IVL APM PIL IVVWCVKML BW PMZ PCAJIVL BPIB APM KWCTL VWB OW WV TQDQVO QV BPM AIUM PWCAM EQBP PQU. BPQA XWAQBQWV WN INNIQZA PIL VWE TIABML BPZMM LIGA, IVL VWB WVTG BPM PCAJIVL IVL EQNM BPMUAMTDMA, JCB ITT BPM UMUJMZA WN BPMQZ NIUQTG IVL PWCAMPWTL, EMZM XIQVNCTTG KWVAKQWCA WN QB. MDMZG XMZAWV QV BPM PWCAM NMTB BPIB BPMZM EIA VW AMVAM QV BPMQZ TQDQVO BWOMBPMZ, IVL BPIB BPM ABZIG XMWXTM JZWCOPB BWOMBPMZ JG KPIVKM QV IVG QVV PIL UWZM QV KWUUWV EQBP WVM IVWBPMZ BPIV BPMG, BPM UMUJMZA WN BPM NIUQTG IVL PWCAMPWTL WN BPM WJTWVASGA. BPM EQNM LQL VWB TMIDM PMZ WEV ZWWU, BPM PCAJIVL PIL VWB JMMV IB PWUM NWZ BPZMM LIGA. BPM KPQTLZMV ZIV EQTL ITT WDMZ BPM PWCAM; BPM MVOTQAP OWDMZVMAA YCIZZMTTML EQBP BPM PWCAMSMMXMZ, IVL EZWBM BW I NZQMVL IASQVO PMZ BW TWWS WCB NWZ I VME AQBCIBQWV NWZ PMZ; BPM UIV-KWWS PIL EITSML WNN BPM LIG JMNWZM RCAB IB LQVVMZ BQUM; BPM SQBKPMV-UIQL, IVL BPM KWIKPUIV PIL OQDMV EIZVQVO.\n",
      "1163\n"
     ]
    }
   ],
   "source": [
    "plain_text=\"Happy families are all alike; every unhappy family is unhappy in its own way.Everything was in confusion in the Oblonskys’ house. The wife had discovered that the husband was carrying on an intrigue with a French girl, who had been a governess in their family, and she had announced to her husband that she could not go on living in the same house with him. This position of affairs had now lasted three days, and not only the husband and wife themselves, but all the members of their family and household, were painfully conscious of it. Every person in the house felt that there was no sense in their living together, and that the stray people brought together by chance in any inn had more in common with one another than they, the members of the family and household of the Oblonskys. The wife did not leave her own room, the husband had not been at home for three days. The children ran wild all over the house; the English governess quarrelled with the housekeeper, and wrote to a friend asking her to look out for a new situation for her; the man-cook had walked off the day before just at dinner time; the kitchen-maid, and the coachman had given warning.\"\n",
    "\n",
    "capitalise_plain_text=capitalise(plain_text)\n",
    "\n",
    "cipher_text=translate(capitalise_plain_text,caesar(8))\n",
    "\n",
    "print(plain_text)\n",
    "print(len(plain_text))\n",
    "print(cipher_text)\n",
    "print(len(cipher_text))"
   ]
  },
  {
   "cell_type": "markdown",
   "metadata": {},
   "source": [
    "# Generate a Ceasar Shift Cipher With Blocks of 5"
   ]
  },
  {
   "cell_type": "code",
   "execution_count": 19,
   "metadata": {
    "collapsed": false,
    "scrolled": true
   },
   "outputs": [
    {
     "name": "stdout",
     "output_type": "stream",
     "text": [
      "It is a truth universally acknowledged, that a single man in possession of a good fortune, must be in want of a wife. However little known the feelings or views of such a man may be on his first entering a neighbourhood, this truth is so well fixed in the minds of the surrounding families, that he is considered the rightful property of some one or other of their daughters.  My dear Mr. Bennet,  said his lady to him one day,  have you heard that Netherfield Park is let at last?  Mr. Bennet replied that he had not. But it is, returned she;  for Mrs. Long has just been here, and she told me all about it. Mr. Bennet made no answer. Do you not want to know who has taken it? cried his wife impatiently. You want to tell me, and I have no objection to hearing it. This was invitation enough. Why, my dear, you must know, Mrs. Long says that Netherfield is taken by a young man of large fortune from the north of England; that he came down on Monday in a chaise and four to see the place, and was so much delighted with it, that he agreed with Mr. Morris immediately; that he is to take possession before Michaelmas, and some of his servants are to be in the house by the end of next week. What is his name? Bingley. Is he married or single? Oh! Single, my dear, to be sure! A single man of large fortune; four or five thousand a year. What a fine thing for our girls!\n",
      "1369\n",
      "ITISATRUTHUNIVERSALLYACKNOWLEDGEDTHATASINGLEMANINPOSSESSIONOFAGOODFORTUNEMUSTBEINWANTOFAWIFEHOWEVERLITTLEKNOWNTHEFEELINGSORVIEWSOFSUCHAMANMAYBEONHISFIRSTENTERINGANEIGHBOURHOODTHISTRUTHISSOWELLFIXEDINTHEMINDSOFTHESURROUNDINGFAMILIESTHATHEISCONSIDEREDTHERIGHTFULPROPERTYOFSOMEONEOROTHEROFTHEIRDAUGHTERSMYDEARMRBENNETSAIDHISLADYTOHIMONEDAYHAVEYOUHEARDTHATNETHERFIELDPARKISLETATLASTMRBENNETREPLIEDTHATHEHADNOTBUTITISRETURNEDSHEFORMRSLONGHASJUSTBEENHEREANDSHETOLDMEALLABOUTITMRBENNETMADENOANSWERDOYOUNOTWANTTOKNOWWHOHASTAKENITCRIEDHISWIFEIMPATIENTLYYOUWANTTOTELLMEANDIHAVENOOBJECTIONTOHEARINGITTHISWASINVITATIONENOUGHWHYMYDEARYOUMUSTKNOWMRSLONGSAYSTHATNETHERFIELDISTAKENBYAYOUNGMANOFLARGEFORTUNEFROMTHENORTHOFENGLANDTHATHECAMEDOWNONMONDAYINACHAISEANDFOURTOSEETHEPLACEANDWASSOMUCHDELIGHTEDWITHITTHATHEAGREEDWITHMRMORRISIMMEDIATELYTHATHEISTOTAKEPOSSESSIONBEFOREMICHAELMASANDSOMEOFHISSERVANTSARETOBEINTHEHOUSEBYTHEENDOFNEXTWEEKWHATISHISNAMEBINGLEYISHEMARRIEDORSINGLEOHSINGLEMYDEARTOBESUREASINGLEMANOFLARGEFORTUNEFOURORFIVETHOUSANDAYEARWHATAFINETHINGFOROURGIRLS\n",
      "1052\n",
      "VGVFNGEHGUHAVIREFNYYLNPXABJYRQTRQGUNGNFVATYRZNAVACBFFRFFVBABSNTBBQSBEGHARZHFGORVAJNAGBSNJVSRUBJRIREYVGGYRXABJAGURSRRYVATFBEIVRJFBSFHPUNZNAZNLORBAUVFSVEFGRAGREVATNARVTUOBHEUBBQGUVFGEHGUVFFBJRYYSVKRQVAGURZVAQFBSGURFHEEBHAQVATSNZVYVRFGUNGURVFPBAFVQRERQGUREVTUGSHYCEBCREGLBSFBZRBARBEBGUREBSGURVEQNHTUGREFZLQRNEZEORAARGFNVQUVFYNQLGBUVZBARQNLUNIRLBHURNEQGUNGARGURESVRYQCNEXVFYRGNGYNFGZEORAARGERCYVRQGUNGURUNQABGOHGVGVFERGHEARQFURSBEZEFYBATUNFWHFGORRAURERNAQFURGBYQZRNYYNOBHGVGZEORAARGZNQRABNAFJREQBLBHABGJNAGGBXABJJUBUNFGNXRAVGPEVRQUVFJVSRVZCNGVRAGYLLBHJNAGGBGRYYZRNAQVUNIRABBOWRPGVBAGBURNEVATVGGUVFJNFVAIVGNGVBARABHTUJULZLQRNELBHZHFGXABJZEFYBATFNLFGUNGARGURESVRYQVFGNXRAOLNLBHATZNABSYNETRSBEGHARSEBZGURABEGUBSRATYNAQGUNGURPNZRQBJABAZBAQNLVANPUNVFRNAQSBHEGBFRRGURCYNPRNAQJNFFBZHPUQRYVTUGRQJVGUVGGUNGURNTERRQJVGUZEZBEEVFVZZRQVNGRYLGUNGURVFGBGNXRCBFFRFFVBAORSBERZVPUNRYZNFNAQFBZRBSUVFFREINAGFNERGBORVAGURUBHFROLGURRAQBSARKGJRRXJUNGVFUVFANZROVATYRLVFURZNEEVRQBEFVATYRBUFVATYRZLQRNEGBORFHERNFVATYRZNABSYNETRSBEGHARSBHEBESVIRGUBHFNAQNLRNEJUNGNSVARGUVATSBEBHETVEYF\n",
      "1052\n",
      "VGVFN GEHGU HAVIR EFNYY LNPXA BJYRQ TRQGU NGNFV ATYRZ NAVAC BFFRF FVBAB SNTBB QSBEG HARZH FGORV AJNAG BSNJV SRUBJ RIREY VGGYR XABJA GURSR RYVAT FBEIV RJFBS FHPUN ZNAZN LORBA UVFSV EFGRA GREVA TNARV TUOBH EUBBQ GUVFG EHGUV FFBJR YYSVK RQVAG URZVA QFBSG URFHE EBHAQ VATSN ZVYVR FGUNG URVFP BAFVQ RERQG UREVT UGSHY CEBCR EGLBS FBZRB ARBEB GUREB SGURV EQNHT UGREF ZLQRN EZEOR AARGF NVQUV FYNQL GBUVZ BARQN LUNIR LBHUR NEQGU NGARG URESV RYQCN EXVFY RGNGY NFGZE ORAAR GERCY VRQGU NGURU NQABG OHGVG VFERG HEARQ FURSB EZEFY BATUN FWHFG ORRAU RERNA QFURG BYQZR NYYNO BHGVG ZEORA ARGZN QRABN AFJRE QBLBH ABGJN AGGBX ABJJU BUNFG NXRAV GPEVR QUVFJ VSRVZ CNGVR AGYLL BHJNA GGBGR YYZRN AQVUN IRABB OWRPG VBAGB URNEV ATVGG UVFJN FVAIV GNGVB ARABH TUJUL ZLQRN ELBHZ HFGXA BJZEF YBATF NLFGU NGARG URESV RYQVF GNXRA OLNLB HATZN ABSYN ETRSB EGHAR SEBZG URABE GUBSR ATYNA QGUNG URPNZ RQBJA BAZBA QNLVA NPUNV FRNAQ SBHEG BFRRG URCYN PRNAQ JNFFB ZHPUQ RYVTU GRQJV GUVGG UNGUR NTERR QJVGU ZEZBE EVFVZ ZRQVN GRYLG UNGUR VFGBG NXRCB FFRFF VBAOR SBERZ VPUNR YZNFN AQFBZ RBSUV FFREI NAGFN ERGBO RVAGU RUBHF ROLGU RRAQB SARKG JRRXJ UNGVF UVFAN ZROVA TYRLV FURZN EEVRQ BEFVA TYRBU FVATY RZLQR NEGBO RFHER NFVAT YRZNA BSYNE TRSBE GHARS BHEBE SVIRG UBHFN AQNLR NEJUN GNSVA RGUVA TSBEB HETVE YF\n",
      "1262\n"
     ]
    }
   ],
   "source": [
    "plain_text=\"It is a truth universally acknowledged, that a single man in possession of a good fortune, must be in want of a wife. However little known the feelings or views of such a man may be on his first entering a neighbourhood, this truth is so well fixed in the minds of the surrounding families, that he is considered the rightful property of some one or other of their daughters.  My dear Mr. Bennet,  said his lady to him one day,  have you heard that Netherfield Park is let at last?  Mr. Bennet replied that he had not. But it is, returned she;  for Mrs. Long has just been here, and she told me all about it. Mr. Bennet made no answer. Do you not want to know who has taken it? cried his wife impatiently. You want to tell me, and I have no objection to hearing it. This was invitation enough. Why, my dear, you must know, Mrs. Long says that Netherfield is taken by a young man of large fortune from the north of England; that he came down on Monday in a chaise and four to see the place, and was so much delighted with it, that he agreed with Mr. Morris immediately; that he is to take possession before Michaelmas, and some of his servants are to be in the house by the end of next week. What is his name? Bingley. Is he married or single? Oh! Single, my dear, to be sure! A single man of large fortune; four or five thousand a year. What a fine thing for our girls!\"\n",
    "\n",
    "cipher_text=translate(strip_text(capitalise(plain_text)),caesar(13))\n",
    "\n",
    "print(plain_text)\n",
    "print(len(plain_text))\n",
    "print(strip_text(capitalise(plain_text)))\n",
    "print(len(strip_text(capitalise(plain_text))))\n",
    "print(cipher_text)\n",
    "print(len(cipher_text))\n",
    "\n",
    "cipher_text=space_insert(cipher_text,5)\n",
    "\n",
    "print(cipher_text)\n",
    "print(len(cipher_text))\n"
   ]
  },
  {
   "cell_type": "markdown",
   "metadata": {},
   "source": [
    "# Generate a Keyword Cipher retaining word structure"
   ]
  },
  {
   "cell_type": "code",
   "execution_count": 20,
   "metadata": {
    "collapsed": false
   },
   "outputs": [
    {
     "name": "stdout",
     "output_type": "stream",
     "text": [
      "Alice was beginning to get very tired of sitting by her sister on the bank, and of having nothing to do: once or twice she had peeped into the book her sister was reading, but it had no pictures or conversations in it, ‘and what is the use of a book,’ thought Alice ‘without pictures or conversations?’ So she was considering in her own mind (as well as she could, for the hot day made her feel very sleepy and stupid), whether the pleasure of making a daisy-chain would be worth the trouble of getting up and picking the daisies, when suddenly a White Rabbit with pink eyes ran close by her. There was nothing so very remarkable in that; nor did Alice think it so very much out of the way to hear the Rabbit say to itself, ‘Oh dear! Oh dear! I shall be late!’ (when she thought it over afterwards, it occurred to her that she ought to have wondered at this, but at the time it all seemed quite natural); but when the Rabbit actually took a watch out of its waistcoat-pocket, and looked at it, and then hurried on, Alice started to her feet, for it flashed across her mind that she had never before seen a rabbit with either a waistcoat-pocket, or a watch to take out of it, and burning with curiosity, she ran across the field after it, and fortunately was just in time to see it pop down a large rabbit-hole under the hedge. In another moment down went Alice after it, never once considering how in the world she was to get out again. The rabbit-hole went straight on like a tunnel for some way, and then dipped suddenly down, so suddenly that Alice had not a moment to think about stopping herself before she found herself falling down a very deep well. Either the well was very deep, or she fell very slowly, for she had plenty of time as she went down to look about her and to wonder what was going to happen next. First, she tried to look down and make out what she was coming to, but it was too dark to see anything; then she looked at the sides of the well, and noticed that they were filled with cupboards and book-shelves; here and there she saw maps and pictures hung upon pegs. She took down a jar from one of the shelves as she passed; it was labelled ‘ORANGE MARMALADE’, but to her great disappointment it was empty: she did not like to drop the jar for fear of killing somebody, so managed to put it into one of the cupboards as she fell past it.\n",
      "2361\n",
      "CGDNU VCO AUBDIIDIB PJ BUP SUMX PDMUT JR ODPPDIB AX YUM ODOPUM JI PYU ACIF, CIT JR YCSDIB IJPYDIB PJ TJ: JINU JM PVDNU OYU YCT KUUKUT DIPJ PYU AJJF YUM ODOPUM VCO MUCTDIB, AQP DP YCT IJ KDNPQMUO JM NJISUMOCPDJIO DI DP, ‘CIT VYCP DO PYU QOU JR C AJJF,’ PYJQBYP CGDNU ‘VDPYJQP KDNPQMUO JM NJISUMOCPDJIO?’ OJ OYU VCO NJIODTUMDIB DI YUM JVI HDIT (CO VUGG CO OYU NJQGT, RJM PYU YJP TCX HCTU YUM RUUG SUMX OGUUKX CIT OPQKDT), VYUPYUM PYU KGUCOQMU JR HCFDIB C TCDOX-NYCDI VJQGT AU VJMPY PYU PMJQAGU JR BUPPDIB QK CIT KDNFDIB PYU TCDODUO, VYUI OQTTUIGX C VYDPU MCAADP VDPY KDIF UXUO MCI NGJOU AX YUM. PYUMU VCO IJPYDIB OJ SUMX MUHCMFCAGU DI PYCP; IJM TDT CGDNU PYDIF DP OJ SUMX HQNY JQP JR PYU VCX PJ YUCM PYU MCAADP OCX PJ DPOUGR, ‘JY TUCM! JY TUCM! D OYCGG AU GCPU!’ (VYUI OYU PYJQBYP DP JSUM CRPUMVCMTO, DP JNNQMMUT PJ YUM PYCP OYU JQBYP PJ YCSU VJITUMUT CP PYDO, AQP CP PYU PDHU DP CGG OUUHUT LQDPU ICPQMCG); AQP VYUI PYU MCAADP CNPQCGGX PJJF C VCPNY JQP JR DPO VCDOPNJCP-KJNFUP, CIT GJJFUT CP DP, CIT PYUI YQMMDUT JI, CGDNU OPCMPUT PJ YUM RUUP, RJM DP RGCOYUT CNMJOO YUM HDIT PYCP OYU YCT IUSUM AURJMU OUUI C MCAADP VDPY UDPYUM C VCDOPNJCP-KJNFUP, JM C VCPNY PJ PCFU JQP JR DP, CIT AQMIDIB VDPY NQMDJODPX, OYU MCI CNMJOO PYU RDUGT CRPUM DP, CIT RJMPQICPUGX VCO EQOP DI PDHU PJ OUU DP KJK TJVI C GCMBU MCAADP-YJGU QITUM PYU YUTBU. DI CIJPYUM HJHUIP TJVI VUIP CGDNU CRPUM DP, IUSUM JINU NJIODTUMDIB YJV DI PYU VJMGT OYU VCO PJ BUP JQP CBCDI. PYU MCAADP-YJGU VUIP OPMCDBYP JI GDFU C PQIIUG RJM OJHU VCX, CIT PYUI TDKKUT OQTTUIGX TJVI, OJ OQTTUIGX PYCP CGDNU YCT IJP C HJHUIP PJ PYDIF CAJQP OPJKKDIB YUMOUGR AURJMU OYU RJQIT YUMOUGR RCGGDIB TJVI C SUMX TUUK VUGG. UDPYUM PYU VUGG VCO SUMX TUUK, JM OYU RUGG SUMX OGJVGX, RJM OYU YCT KGUIPX JR PDHU CO OYU VUIP TJVI PJ GJJF CAJQP YUM CIT PJ VJITUM VYCP VCO BJDIB PJ YCKKUI IUWP. RDMOP, OYU PMDUT PJ GJJF TJVI CIT HCFU JQP VYCP OYU VCO NJHDIB PJ, AQP DP VCO PJJ TCMF PJ OUU CIXPYDIB; PYUI OYU GJJFUT CP PYU ODTUO JR PYU VUGG, CIT IJPDNUT PYCP PYUX VUMU RDGGUT VDPY NQKAJCMTO CIT AJJF-OYUGSUO; YUMU CIT PYUMU OYU OCV HCKO CIT KDNPQMUO YQIB QKJI KUBO. OYU PJJF TJVI C ECM RMJH JIU JR PYU OYUGSUO CO OYU KCOOUT; DP VCO GCAUGGUT ‘JMCIBU HCMHCGCTU’, AQP PJ YUM BMUCP TDOCKKJDIPHUIP DP VCO UHKPX: OYU TDT IJP GDFU PJ TMJK PYU ECM RJM RUCM JR FDGGDIB OJHUAJTX, OJ HCICBUT PJ KQP DP DIPJ JIU JR PYU NQKAJCMTO CO OYU RUGG KCOP DP.\n",
      "2361\n"
     ]
    }
   ],
   "source": [
    "plain_text=\"Alice was beginning to get very tired of sitting by her sister on the bank, and of having nothing to do: once or twice she had peeped into the book her sister was reading, but it had no pictures or conversations in it, ‘and what is the use of a book,’ thought Alice ‘without pictures or conversations?’ So she was considering in her own mind (as well as she could, for the hot day made her feel very sleepy and stupid), whether the pleasure of making a daisy-chain would be worth the trouble of getting up and picking the daisies, when suddenly a White Rabbit with pink eyes ran close by her. There was nothing so very remarkable in that; nor did Alice think it so very much out of the way to hear the Rabbit say to itself, ‘Oh dear! Oh dear! I shall be late!’ (when she thought it over afterwards, it occurred to her that she ought to have wondered at this, but at the time it all seemed quite natural); but when the Rabbit actually took a watch out of its waistcoat-pocket, and looked at it, and then hurried on, Alice started to her feet, for it flashed across her mind that she had never before seen a rabbit with either a waistcoat-pocket, or a watch to take out of it, and burning with curiosity, she ran across the field after it, and fortunately was just in time to see it pop down a large rabbit-hole under the hedge. In another moment down went Alice after it, never once considering how in the world she was to get out again. The rabbit-hole went straight on like a tunnel for some way, and then dipped suddenly down, so suddenly that Alice had not a moment to think about stopping herself before she found herself falling down a very deep well. Either the well was very deep, or she fell very slowly, for she had plenty of time as she went down to look about her and to wonder what was going to happen next. First, she tried to look down and make out what she was coming to, but it was too dark to see anything; then she looked at the sides of the well, and noticed that they were filled with cupboards and book-shelves; here and there she saw maps and pictures hung upon pegs. She took down a jar from one of the shelves as she passed; it was labelled ‘ORANGE MARMALADE’, but to her great disappointment it was empty: she did not like to drop the jar for fear of killing somebody, so managed to put it into one of the cupboards as she fell past it.\"\n",
    "\n",
    "capitalise_plain_text=capitalise(plain_text)\n",
    "\n",
    "cipher_text=translate(capitalise_plain_text,keyword_cipherkey(\"CANTURBURY\"))\n",
    "\n",
    "print(plain_text)\n",
    "print(len(plain_text))\n",
    "print(cipher_text)\n",
    "print(len(cipher_text))"
   ]
  },
  {
   "cell_type": "markdown",
   "metadata": {},
   "source": [
    "# Generate a Keyword Cipher in blocks of 5"
   ]
  },
  {
   "cell_type": "code",
   "execution_count": 16,
   "metadata": {
    "collapsed": false
   },
   "outputs": [
    {
     "name": "stdout",
     "output_type": "stream",
     "text": [
      "FULLCANTERBURYDRESSTHENAMEGIVENTOTHESCHOOLUNIFORMWHICHCONSISTSOFWHITESHIRTWITHWINGCOLLARPINSTRIPETROUSERSBLACKJACKETBLACKSOCKSBLACKTIEANDBLACKSHOESFORTHEBOYSGIRLSWEARAWHITEBLOUSEBROOCHPINSTRIPESKIRTBLACKJACKETBLACKTIGHTSANDBLACKSHOESWHENHECAMETOTHESCHOOLFREDSHIRLEYHEADMASTERUPDATEDTHESCHOOLUNIFORMTOSPORTSJACKETSBUTWITHINAYEARTHEBOYSHADASKEDTOREVERTTOTHEIRTRADITIONALGARBHETRIEDAGAINAFTERTHEWARWHENTHESCHOOLRETURNEDTOCANTERBURYTHISTIMETAKINGAVOTEONTHEMATTERBUTDESPITETHEDIFFICULTYINFINDINGOUTMODEDCLOTHINGINATIMEOFCLOTHESRATIONINGTHEBOYSONCEAGAINDECIDEDTOREVERTTOTRADITIONTHEGIRLSVERSIONWASINTRODUCEDBYANTHONYPHILLIPSHEADMASTER\n",
      "628\n",
      "BSHHNCJQROASOXUORPPQDRJCIRYETRJQKQDRPNDKKHSJEBKOIVDENDNKJPEPQPKBVDEQRPDEOQVEQDVEJYNKHHCOLEJPQOELRQOKSPROPAHCNGFCNGRQAHCNGPKNGPAHCNGQERCJUAHCNGPDKRPBKOQDRAKXPYEOHPVRCOCVDEQRAHKSPRAOKKNDLEJPQOELRPGEOQAHCNGFCNGRQAHCNGQEYDQPCJUAHCNGPDKRPVDRJDRNCIRQKQDRPNDKKHBORUPDEOHRXDRCUICPQROSLUCQRUQDRPNDKKHSJEBKOIQKPLKOQPFCNGRQPASQVEQDEJCXRCOQDRAKXPDCUCPGRUQKORTROQQKQDREOQOCUEQEKJCHYCOADRQOERUCYCEJCBQROQDRVCOVDRJQDRPNDKKHORQSOJRUQKNCJQROASOXQDEPQEIRQCGEJYCTKQRKJQDRICQQROASQURPLEQRQDRUEBBENSHQXEJBEJUEJYKSQIKURUNHKQDEJYEJCQEIRKBNHKQDRPOCQEKJEJYQDRAKXPKJNRCYCEJURNEURUQKORTROQQKQOCUEQEKJQDRYEOHPTROPEKJVCPEJQOKUSNRUAXCJQDKJXLDEHHELPDRCUICPQRO\n",
      "628\n",
      "BSHHN CJQRO ASOXU ORPPQ DRJCI RYETR JQKQD RPNDK KHSJE BKOIV DENDN KJPEP QPKBV DEQRP DEOQV EQDVE JYNKH HCOLE JPQOE LRQOK SPROP AHCNG FCNGR QAHCN GPKNG PAHCN GQERC JUAHC NGPDK RPBKO QDRAK XPYEO HPVRC OCVDE QRAHK SPRAO KKNDL EJPQO ELRPG EOQAH CNGFC NGRQA HCNGQ EYDQP CJUAH CNGPD KRPVD RJDRN CIRQK QDRPN DKKHB ORUPD EOHRX DRCUI CPQRO SLUCQ RUQDR PNDKK HSJEB KOIQK PLKOQ PFCNG RQPAS QVEQD EJCXR COQDR AKXPD CUCPG RUQKO RTROQ QKQDR EOQOC UEQEK JCHYC OADRQ OERUC YCEJC BQROQ DRVCO VDRJQ DRPND KKHOR QSOJR UQKNC JQROA SOXQD EPQEI RQCGE JYCTK QRKJQ DRICQ QROAS QURPL EQRQD RUEBB ENSHQ XEJBE JUEJY KSQIK URUNH KQDEJ YEJCQ EIRKB NHKQD RPOCQ EKJEJ YQDRA KXPKJ NRCYC EJURN EURUQ KORTR OQQKQ OCUEQ EKJQD RYEOH PTROP EKJVC PEJQO KUSNR UAXCJ QDKJX LDEHH ELPDR CUICP QRO\n",
      "753\n"
     ]
    }
   ],
   "source": [
    "plain_text=\"Full Canterbury Dress: The name given to the school uniform, which consists of white shirt with wing collar, pinstripe trousers, black jacket, black socks, black tie and black shoes for the boys. Girls wear a white blouse, brooch, pinstripe skirt, black jacket, black tights and black shoes. When he came to the School, Fred Shirley, Headmaster (1935–1962), updated the school uniform to sports jackets. But within a year, the boys had asked to revert to their traditional garb. He tried again after the War when the School returned to Canterbury, this time taking a vote on the matter. But despite the difficulty in finding outmoded clothing in a time of clothes rationing, the boys once again decided to revert to tradition. The girls' version was introduced by Anthony Phillips, Headmaster.\"\n",
    "\n",
    "plain_text=strip_text(capitalise(plain_text))\n",
    "print(plain_text)\n",
    "print(len(plain_text))\n",
    "\n",
    "cipher_text=translate(plain_text,keyword_cipherkey('CANURBURY'))\n",
    "print(cipher_text)\n",
    "print(len(cipher_text))\n",
    "\n",
    "cipher_text=space_insert(cipher_text,5)\n",
    "\n",
    "print(cipher_text)\n",
    "print(len(cipher_text))\n"
   ]
  },
  {
   "cell_type": "markdown",
   "metadata": {},
   "source": [
    "# Generate a 5-transposition Cipher in blocks of 5"
   ]
  },
  {
   "cell_type": "code",
   "execution_count": 22,
   "metadata": {
    "collapsed": false,
    "scrolled": true
   },
   "outputs": [
    {
     "name": "stdout",
     "output_type": "stream",
     "text": [
      "MARMITEPGTIPSTEAANDPOTNOODLESAREAMONGDOZENSOFBRANDSCURRENTLYUNAVAILABLEONTESCOSONLINESITEDUETOADISPUTEWITHUNILEVERUNILEVERHASCONFIRMEDITISRAISINGPRICESINTHEUKTOCOMPENSATEFORTHESHARPDROPINTHEPOUNDSVALUETESCOISRESISTINGTHEMOVEANDHASREMOVEDUNILEVERPRODUCTSFROMITSWEBSITEUNILEVERSFINANCECHIEFSAIDSUCHPRICEINCREASESAREANORMALREACTIONTOSHIFTSINCURRENCYVALUESTHEPRODUCTSCURRENTLYABSENTFROMTESCOSWEBSITEALSOINCLUDECOMFORTFABRICCONDITIONERHELLMANNSMAYONNAISEANDBENANDJERRYSICECREAM\n",
      "472\n",
      "IRAMMTPEGTESPTIPNADAONTOOAELSDOAEMRZDGONFSNOEDARNBRUCRSYTNLEAANVULALBIENOTEOOCSSEILNNDTIESATEOUUSIPDTWEITLNUIHUEVREVLIENSHRAEINOFCIEMDRASIRTGISNIEIRCPHNITSOKUTEEMOPCEASTNHROTFRHSAEPRDOPETNHIDUONPUAVLSCETSEESIROISITSETGHNAVOEMSHDANVMEORIUDNERVEELUORDPRSTFCSIMTOIBESWIUENTRVEELAIFNSHECCNAFESICSDUICRPIHRNICESSAEENERAALMRAOTAECRONOTITIHFSUNICSCERNRUAVLYETSHEUORDPUSTCCTERNRSAYBLRTNFESTMEOESOWCEISTBISLOADLCUNFOCMEATRFOCIRCBTDNIORNOEIMLELHMNNSANOYNAASIEANBDENEDNJAIYRSRECERCNNMNA\n",
      "475\n",
      "IRAMM TPEGT ESPTI PNADA ONTOO AELSD OAEMR ZDGON FSNOE DARNB RUCRS YTNLE AANVU LALBI ENOTE OOCSS EILNN DTIES ATEOU USIPD TWEIT LNUIH UEVRE VLIEN SHRAE INOFC IEMDR ASIRT GISNI EIRCP HNITS OKUTE EMOPC EASTN HROTF RHSAE PRDOP ETNHI DUONP UAVLS CETSE ESIRO ISITS ETGHN AVOEM SHDAN VMEOR IUDNE RVEEL UORDP RSTFC SIMTO IBESW IUENT RVEEL AIFNS HECCN AFESI CSDUI CRPIH RNICE SSAEE NERAA LMRAO TAECR ONOTI TIHFS UNICS CERNR UAVLY ETSHE UORDP USTCC TERNR SAYBL RTNFE STMEO ESOWC EISTB ISLOA DLCUN FOCME ATRFO CIRCB TDNIO RNOEI MLELH MNNSA NOYNA ASIEA NBDEN EDNJA IYRSR ECERC NNMNA \n"
     ]
    }
   ],
   "source": [
    "plain_text=\"Marmite, PG Tips tea and Pot Noodles are among dozens of brands currently unavailable on Tesco's online site due to a dispute with Unilever. Unilever has confirmed it is raising prices in the UK to compensate for the sharp drop in the pound's value. Tesco is resisting the move and has removed Unilever products from its website. Unilever's finance chief said such price increases are a normal reaction to shifts in currency values. The products currently absent from Tesco's website also include Comfort fabric conditioner, Hellmann's mayonnaise and Ben and Jerrys ice cream.\"\n",
    "\n",
    "plain_text=strip_text(capitalise(plain_text))\n",
    "print(plain_text)\n",
    "print(len(plain_text))\n",
    "\n",
    "cipher_text=transposition_5(plain_text,53241)\n",
    "print(cipher_text)\n",
    "print(len(cipher_text))\n",
    "\n",
    "cipher_text=space_insert(cipher_text,5)\n",
    "\n",
    "print(cipher_text)\n"
   ]
  },
  {
   "cell_type": "markdown",
   "metadata": {
    "collapsed": true
   },
   "source": [
    "# Generate a 3-Transposition Cipher in blocks of 5"
   ]
  },
  {
   "cell_type": "code",
   "execution_count": 22,
   "metadata": {
    "collapsed": false
   },
   "outputs": [
    {
     "name": "stdout",
     "output_type": "stream",
     "text": [
      "Our Father in heaven, hallowed be your name. Your kingdom come, your will be done, on earth as it is in heaven. Give us this day our daily bread, and forgive us our debts, as we also have forgiven our debtors. And lead us not into temptation, but deliver us from evil.\n",
      "OURFATHERINHEAVENHALLOWEDBEYOURNAMEYOURKINGDOMCOMEYOURWILLBEDONEONEARTHASITISINHEAVENGIVEUSTHISDAYOURDAILYBREADANDFORGIVEUSOURDEBTSASWEALSOHAVEFORGIVENOURDEBTORSANDLEADUSNOTINTOTEMPTATIONBUTDELIVERUSFROMEVIL\n",
      "207\n",
      "RUOTAFREHHNIVAEHNELLAEWOEBDUOYANRYEMRUONIKODGOCMYEMRUOLIWEBLNODNOERAEAHTTISISIEHNEVAIGNUEVHTSDSIOYADRULIARBYDAEDNAROFVIGSUERUOBEDASTEWSSLAAHOFEVGROEVIUONEDROTBASRLDNDAENSUITOOTNMETATPOITUBNEDTVILURERFSEMOLIV\n",
      "207\n",
      "RUOTA FREHH NIVAE HNELL AEWOE BDUOY ANRYE MRUON IKODG OCMYE MRUOL IWEBL NODNO ERAEA HTTIS ISIEH NEVAI GNUEV HTSDS IOYAD RULIA RBYDA EDNAR OFVIG SUERU OBEDA STEWS SLAAH OFEVG ROEVI UONED ROTBA SRLDN DAENS UITOO TNMET ATPOI TUBNE DTVIL URERF SEMOL IV\n"
     ]
    }
   ],
   "source": [
    "plain_text=\"Our Father in heaven, hallowed be your name. Your kingdom come, your will be done, on earth as it is in heaven. Give us this day our daily bread, and forgive us our debts, as we also have forgiven our debtors. And lead us not into temptation, but deliver us from evil.\"\n",
    "\n",
    "print(plain_text)\n",
    "\n",
    "plain_text=strip_text(capitalise(plain_text))\n",
    "print(plain_text)\n",
    "print(len(plain_text))\n",
    "\n",
    "cipher_text=transposition_3(plain_text,321)\n",
    "\n",
    "print(cipher_text)\n",
    "print(len(cipher_text))\n",
    "\n",
    "cipher_text=space_insert(cipher_text,5)\n",
    "\n",
    "print(cipher_text)\n"
   ]
  },
  {
   "cell_type": "code",
   "execution_count": 21,
   "metadata": {
    "collapsed": false
   },
   "outputs": [
    {
     "data": {
      "text/plain": [
       "361"
      ]
     },
     "execution_count": 21,
     "metadata": {},
     "output_type": "execute_result"
    }
   ],
   "source": [
    "19*19"
   ]
  },
  {
   "cell_type": "markdown",
   "metadata": {},
   "source": [
    "# Produce Transposition Square Cipher"
   ]
  },
  {
   "cell_type": "code",
   "execution_count": 9,
   "metadata": {
    "collapsed": false
   },
   "outputs": [
    {
     "name": "stdout",
     "output_type": "stream",
     "text": [
      "[[0, 0], [1, 1], [2, 4], [3, 9], [4, 16], [5, 25], [6, 36], [7, 49], [8, 64], [9, 81], [10, 100], [11, 121], [12, 144], [13, 169], [14, 196], [15, 225], [16, 256], [17, 289], [18, 324], [19, 361], [20, 400], [21, 441], [22, 484], [23, 529], [24, 576], [25, 625], [26, 676], [27, 729], [28, 784], [29, 841]]\n"
     ]
    }
   ],
   "source": [
    "n=0\n",
    "squares=[]\n",
    "while n<30:\n",
    "    squares.append([n,n**2])\n",
    "    n+=1\n",
    "print(squares)    \n"
   ]
  },
  {
   "cell_type": "code",
   "execution_count": null,
   "metadata": {
    "collapsed": true
   },
   "outputs": [],
   "source": []
  },
  {
   "cell_type": "code",
   "execution_count": 35,
   "metadata": {
    "collapsed": false,
    "scrolled": false
   },
   "outputs": [
    {
     "name": "stdout",
     "output_type": "stream",
     "text": [
      "EternalFatherstrongto saveWhose arm hath bound the restless wave,Who bidd'st the mighty ocean deepIts own appointed limits keepOh, hear us when we cry to TheeFor those in peril on the seaO Christ! Whose voice the waters heardAnd hushed their raging at Thy word,Who walked'st on the foaming deep,And calm amidst its rage didst sleepOh, hear us when we cry to TheeFor those in peril on the sea\n",
      "ETERNALFATHERSTRONGTOSAVEWHOSEARMHATHBOUNDTHERESTLESSWAVEWHOBIDDSTTHEMIGHTYOCEANDEEPITSOWNAPPOINTEDLIMITSKEEPOHHEARUSWHENWECRYTOTHEEFORTHOSEINPERILONTHESEAOCHRISTWHOSEVOICETHEWATERSHEARDANDHUSHEDTHEIRRAGINGATTHYWORDWHOWALKEDSTONTHEFOAMINGDEEPANDCALMAMIDSTITSRAGEDIDSTSLEEPOHHEARUSWHENWECRYTOTHEEFORTHOSEINPERILONTHESEA\n",
      "318\n",
      "EGHAHAPTRWSIHMDEYETTBVTPOOIHHROISPTREOOEYPHTLOERWNTOOIRSUWOOHHOSAAAGIHTLNANHCIEENERGLDTHHOAVDOENAETVDIKESEENLETBATRFHOANEERAETFWHINEUOEINGDPARFHAHEDDDSRSCDASAGUOETORDELWTEEHTTNESRSHSESEIHHATUTODDWTEEESTPMEOOHSHNCIHHARATTIINSCEHYTADEONSRLHTTWEHWEWHLSNSNTMEESSEIRADOEMTWENRHSMOKCNITTRFASEINOASIWERPSEHDOMLCNNNTWGNEYETREWAIERPN\n",
      "324\n",
      "EGHAH APTRW SIHMD EYETT BVTPO OIHHR OISPT REOOE YPHTL OERWN TOOIR SUWOO HHOSA AAGIH TLNAN HCIEE NERGL DTHHO AVDOE NAETV DIKES EENLE TBATR FHOAN EERAE TFWHI NEUOE INGDP ARFHA HEDDD SRSCD ASAGU OETOR DELWT EEHTT NESRS HSESE IHHAT UTODD WTEEE STPME OOHSH NCIHH ARATT IINSC EHYTA DEONS RLHTT WEHWE WHLSN SNTME ESSEI RADOE MTWEN RHSMO KCNIT TRFAS EINOA SIWER PSEHD OMLCN NNTWG NEYET REWAI ERPN\n"
     ]
    }
   ],
   "source": [
    "plain_text=\"EternalFatherstrongto saveWhose arm hath bound the restless wave,Who bidd'st the mighty ocean deepIts own appointed limits keepOh, hear us when we cry to TheeFor those in peril on the seaO Christ! Whose voice the waters heardAnd hushed their raging at Thy word,Who walked'st on the foaming deep,And calm amidst its rage didst sleepOh, hear us when we cry to TheeFor those in peril on the sea\"\n",
    "\n",
    "print(plain_text)\n",
    "\n",
    "plain_text=strip_text(capitalise(plain_text))\n",
    "print(plain_text)\n",
    "print(len(plain_text))\n",
    "\n",
    "cipher_text=transposition_square(plain_text,18)\n",
    "\n",
    "print(cipher_text)\n",
    "print(len(cipher_text))\n",
    "\n",
    "cipher_text=space_insert(cipher_text,5)\n",
    "\n",
    "print(cipher_text)\n"
   ]
  },
  {
   "cell_type": "code",
   "execution_count": null,
   "metadata": {
    "collapsed": true
   },
   "outputs": [],
   "source": []
  }
 ],
 "metadata": {
  "anaconda-cloud": {},
  "kernelspec": {
   "display_name": "Python [Root]",
   "language": "python",
   "name": "Python [Root]"
  },
  "language_info": {
   "codemirror_mode": {
    "name": "ipython",
    "version": 3
   },
   "file_extension": ".py",
   "mimetype": "text/x-python",
   "name": "python",
   "nbconvert_exporter": "python",
   "pygments_lexer": "ipython3",
   "version": "3.5.2"
  }
 },
 "nbformat": 4,
 "nbformat_minor": 0
}
