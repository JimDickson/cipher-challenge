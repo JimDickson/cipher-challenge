{
 "cells": [
  {
   "cell_type": "markdown",
   "metadata": {},
   "source": [
    "# ENCRYPTING TEXTS"
   ]
  },
  {
   "cell_type": "code",
   "execution_count": 2,
   "metadata": {
    "collapsed": false
   },
   "outputs": [
    {
     "name": "stdout",
     "output_type": "stream",
     "text": [
      "Populating the interactive namespace from numpy and matplotlib\n"
     ]
    }
   ],
   "source": [
    "#import number and plotting functions\n",
    "%pylab inline"
   ]
  },
  {
   "cell_type": "markdown",
   "metadata": {},
   "source": [
    "# Function to capitalise text"
   ]
  },
  {
   "cell_type": "code",
   "execution_count": 3,
   "metadata": {
    "collapsed": true
   },
   "outputs": [],
   "source": [
    "#convert the cipher text to upper case\n",
    "def capitalise(text):\n",
    "    output_text=text\n",
    "    output_text=output_text.upper()\n",
    "    \n",
    "    return output_text\n"
   ]
  },
  {
   "cell_type": "markdown",
   "metadata": {},
   "source": [
    "# Function to strip out spaces and punctuation"
   ]
  },
  {
   "cell_type": "code",
   "execution_count": 4,
   "metadata": {
    "collapsed": false
   },
   "outputs": [],
   "source": [
    "\n",
    "#removes everything except capital letters and \n",
    "#makes new cipher text string comprising of just capital letters\n",
    "def strip_text(text):\n",
    "    output_text=\"\"\n",
    "    for x in text:\n",
    "        if 64<ord(x)<91:\n",
    "            output_text=output_text+x\n",
    "\n",
    "    return output_text"
   ]
  },
  {
   "cell_type": "markdown",
   "metadata": {},
   "source": [
    "# Function to insert space every nth character"
   ]
  },
  {
   "cell_type": "code",
   "execution_count": 5,
   "metadata": {
    "collapsed": false
   },
   "outputs": [],
   "source": [
    "#insert space every nth character\n",
    "def space_insert(text,n):\n",
    "    output_string=\"\"\n",
    "    length=len(text)\n",
    "    x=0\n",
    "    while x<length//n+1:\n",
    "        output_string=output_string+' '+text[x*n:(x+1)*n]\n",
    "        x+=1\n",
    "    output_string=output_string[1:]\n",
    "    return output_string"
   ]
  },
  {
   "cell_type": "markdown",
   "metadata": {},
   "source": [
    "# Caesar Shift Key Function\n",
    "outputs a ceasar shifted cipher key"
   ]
  },
  {
   "cell_type": "code",
   "execution_count": 6,
   "metadata": {
    "collapsed": true
   },
   "outputs": [],
   "source": [
    "def caesar(n):\n",
    "    shift_number=n #how many letters the alphabet is shifted by\n",
    "    key=\"\"\n",
    "\n",
    "    #shift_number=26-shift_number\n",
    "\n",
    "    i=0\n",
    "    while i<26:\n",
    "        shift_mod=(i+n)%26\n",
    "        character_number=65+shift_mod\n",
    "        key=key+chr(character_number)\n",
    "        i+=1\n",
    "        \n",
    "    return key\n",
    "    "
   ]
  },
  {
   "cell_type": "markdown",
   "metadata": {},
   "source": [
    "## Keyword Key Function"
   ]
  },
  {
   "cell_type": "code",
   "execution_count": 7,
   "metadata": {
    "collapsed": false
   },
   "outputs": [],
   "source": [
    "def keyword_cipherkey(word):\n",
    "\n",
    "\n",
    "    alphabet=\"ABCDEFGHIJKLMNOPQRSTUVWXYZ\"\n",
    "    keyword=word\n",
    "    cipherkey_string=\"\"\n",
    "    \n",
    "    for x in keyword:\n",
    "        if x not in cipherkey_string:\n",
    "            cipherkey_string=cipherkey_string+x\n",
    "\n",
    "    for x in alphabet:\n",
    "        if x not in cipherkey_string:\n",
    "            cipherkey_string=cipherkey_string+x\n",
    "    \n",
    "    return cipherkey_string"
   ]
  },
  {
   "cell_type": "markdown",
   "metadata": {},
   "source": [
    "# Translate Text Using Given Key"
   ]
  },
  {
   "cell_type": "code",
   "execution_count": 8,
   "metadata": {
    "collapsed": false
   },
   "outputs": [],
   "source": [
    "def translate(text,key):\n",
    "\n",
    "    cipher_text=\"\"\n",
    "    alphabet=\"ABCDEFGHIJKLMNOPQRSTUVWXYZ\"\n",
    "\n",
    "#define dictionary for decoding each letter\n",
    "    substitution=text.maketrans(alphabet,key)\n",
    "    cipher_text=text.translate(substitution)\n",
    "    \n",
    "    return cipher_text\n"
   ]
  },
  {
   "cell_type": "markdown",
   "metadata": {},
   "source": [
    "# Transposition Function"
   ]
  },
  {
   "cell_type": "code",
   "execution_count": 9,
   "metadata": {
    "collapsed": false
   },
   "outputs": [],
   "source": [
    "#transposition of a 5 peremutation adding additional Ns to make string length a factor of 5\n",
    "def transposition_5(text,perm):\n",
    "\n",
    "    c1=(perm//10000)%10\n",
    "    c2=(perm//1000)%10\n",
    "    c3=(perm//100)%10\n",
    "    c4=(perm//10)%10\n",
    "    c5=perm%10\n",
    "    \n",
    "    transposition_text=text\n",
    "    \n",
    "    length=len(text)\n",
    "    if length%5!=0:\n",
    "        x=0\n",
    "        while x<length%5+1:\n",
    "            transposition_text=transposition_text+\"N\"\n",
    "            x+=1\n",
    "        \n",
    "    output_text=\"\"\n",
    "    x=0\n",
    "    length=len(transposition_text)\n",
    "    while x<length/5:\n",
    "        next_slice=\"\"\n",
    "        next_slice=transposition_text[5*x+c1-1]+transposition_text[5*x+c2-1]+transposition_text[5*x+c3-1]+transposition_text[5*x+c4-1]+transposition_text[5*x+c5-1]\n",
    "        output_text=output_text+next_slice\n",
    "        x+=1\n",
    "    \n",
    "    return output_text\n",
    "        \n",
    "    "
   ]
  },
  {
   "cell_type": "code",
   "execution_count": 10,
   "metadata": {
    "collapsed": true
   },
   "outputs": [],
   "source": [
    "#transposition of a 3 peremutation adding additional Ns to make string length a factor of 5\n",
    "def transposition_3(text,perm):\n",
    "    \n",
    "    n=3\n",
    "    #c1=(perm//10000)%10\n",
    "    #c2=(perm//1000)%10\n",
    "    c3=(perm//100)%10\n",
    "    c4=(perm//10)%10\n",
    "    c5=perm%10\n",
    "    \n",
    "    transposition_text=text\n",
    "    \n",
    "    length=len(text)\n",
    "    if length%n!=0:\n",
    "        x=0\n",
    "        while x<length%n+1:\n",
    "            transposition_text=transposition_text+\"N\"\n",
    "            x+=1\n",
    "        \n",
    "    output_text=\"\"\n",
    "    x=0\n",
    "    length=len(transposition_text)\n",
    "    while x<length/n:\n",
    "        next_slice=\"\"\n",
    "        next_slice=next_slice+transposition_text[n*x+c3-1]+transposition_text[n*x+c4-1]+transposition_text[n*x+c5-1]\n",
    "        output_text=output_text+next_slice\n",
    "        x+=1\n",
    "    \n",
    "    return output_text\n"
   ]
  },
  {
   "cell_type": "code",
   "execution_count": 6,
   "metadata": {
    "collapsed": false
   },
   "outputs": [
    {
     "data": {
      "text/plain": [
       "'EBCDAEBCDAEBCDA'"
      ]
     },
     "execution_count": 6,
     "metadata": {},
     "output_type": "execute_result"
    }
   ],
   "source": [
    "transposition_5(\"ABCDEABCDEABCDE\",52341)"
   ]
  },
  {
   "cell_type": "code",
   "execution_count": 10,
   "metadata": {
    "collapsed": false
   },
   "outputs": [
    {
     "data": {
      "text/plain": [
       "'BCABCABCABCA'"
      ]
     },
     "execution_count": 10,
     "metadata": {},
     "output_type": "execute_result"
    }
   ],
   "source": [
    "transposition_3(\"ABCABCABCABC\",231)"
   ]
  },
  {
   "cell_type": "markdown",
   "metadata": {},
   "source": [
    "# Vignere Cipher Encoder"
   ]
  },
  {
   "cell_type": "code",
   "execution_count": null,
   "metadata": {
    "collapsed": true
   },
   "outputs": [],
   "source": []
  },
  {
   "cell_type": "code",
   "execution_count": 32,
   "metadata": {
    "collapsed": false
   },
   "outputs": [],
   "source": [
    "-"
   ]
  },
  {
   "cell_type": "code",
   "execution_count": 36,
   "metadata": {
    "collapsed": false
   },
   "outputs": [
    {
     "name": "stdout",
     "output_type": "stream",
     "text": [
      "My father’s family name being Pirrip, and my Christian name Philip, my infant tongue could make of both names nothing longer or more explicit than Pip. So, I called myself Pip, and came to be called Pip. I give Pirrip as my father’s family name, on the authority of his tombstone and my sister - Mrs. Joe Gargery, who married the blacksmith. As I never saw my father or my mother, and never saw any likeness of either of them (for their days were long before the days of photographs), my first fancies regarding what they were like, were unreasonably derived from their tombstones. The shape of the letters on my father’s, gave me an odd idea that he was a square, stout, dark man, with curly black hair. From the character and turn of the inscription, ‘Also Georgiana Wife of the Above,’ I drew a childish conclusion that my mother was freckled and sickly. To five little stone lozenges, each about a foot and a half long, which were arranged in a neat row beside their grave, and were sacred to the memory of five little brothers of mine - who gave up trying to get a living, exceedingly early in that universal struggle - I am indebted for a belief I religiously entertained that they had all been born on their 2 of 865 Great Expectations backs with their hands in their trousers-pockets, and had never taken them out in this state of existence. Ours was the marsh country, down by the river, within, as the river wound, twenty miles of the sea. My first most vivid and broad impression of the identity of things, seems to me to have been gained on a memorable raw afternoon towards evening. At such a time I found out for certain, that this bleak place overgrown with nettles was the churchyard; and that Philip Pirrip, late of this parish, and also Georgiana wife of the above, were dead and buried; and that Alexander, Bartholomew, Abraham, Tobias, and Roger, infant children of the aforesaid, were also dead and buried; and that the dark flat wilderness beyond the churchyard, intersected with dykes and mounds and gates, with scattered cattle feeding on it, was the marshes; and that the low leaden line beyond, was the river; and that the distant savage lair from which the wind was rushing, was the sea; and that the small bundle of shivers growing afraid of it all and beginning to cry, was Pip. ‘Hold your noise!’ cried a terrible voice, as a man started up from among the graves at the side of the church porch. ‘Keep still, you little devil, or I’ll cut your throat!’\n",
      "MYFATHERSFAMILYNAMEBEINGPIRRIPANDMYCHRISTIANNAMEPHILIPMYINFANTTONGUECOULDMAKEOFBOTHNAMESNOTHINGLONGERORMOREEXPLICITTHANPIPSOICALLEDMYSELFPIPANDCAMETOBECALLEDPIPIGIVEPIRRIPASMYFATHERSFAMILYNAMEONTHEAUTHORITYOFHISTOMBSTONEANDMYSISTERMRSJOEGARGERYWHOMARRIEDTHEBLACKSMITHASINEVERSAWMYFATHERORMYMOTHERANDNEVERSAWANYLIKENESSOFEITHEROFTHEMFORTHEIRDAYSWERELONGBEFORETHEDAYSOFPHOTOGRAPHSMYFIRSTFANCIESREGARDINGWHATTHEYWERELIKEWEREUNREASONABLYDERIVEDFROMTHEIRTOMBSTONESTHESHAPEOFTHELETTERSONMYFATHERSGAVEMEANODDIDEATHATHEWASASQUARESTOUTDARKMANWITHCURLYBLACKHAIRFROMTHECHARACTERANDTURNOFTHEINSCRIPTIONALSOGEORGIANAWIFEOFTHEABOVEIDREWACHILDISHCONCLUSIONTHATMYMOTHERWASFRECKLEDANDSICKLYTOFIVELITTLESTONELOZENGESEACHABOUTAFOOTANDAHALFLONGWHICHWEREARRANGEDINANEATROWBESIDETHEIRGRAVEANDWERESACREDTOTHEMEMORYOFFIVELITTLEBROTHERSOFMINEWHOGAVEUPTRYINGTOGETALIVINGEXCEEDINGLYEARLYINTHATUNIVERSALSTRUGGLEIAMINDEBTEDFORABELIEFIRELIGIOUSLYENTERTAINEDTHATTHEYHADALLBEENBORNONTHEIROFGREATEXPECTATIONSBACKSWITHTHEIRHANDSINTHEIRTROUSERSPOCKETSANDHADNEVERTAKENTHEMOUTINTHISSTATEOFEXISTENCEOURSWASTHEMARSHCOUNTRYDOWNBYTHERIVERWITHINASTHERIVERWOUNDTWENTYMILESOFTHESEAMYFIRSTMOSTVIVIDANDBROADIMPRESSIONOFTHEIDENTITYOFTHINGSSEEMSTOMETOHAVEBEENGAINEDONAMEMORABLERAWAFTERNOONTOWARDSEVENINGATSUCHATIMEIFOUNDOUTFORCERTAINTHATTHISBLEAKPLACEOVERGROWNWITHNETTLESWASTHECHURCHYARDANDTHATPHILIPPIRRIPLATEOFTHISPARISHANDALSOGEORGIANAWIFEOFTHEABOVEWEREDEADANDBURIEDANDTHATALEXANDERBARTHOLOMEWABRAHAMTOBIASANDROGERINFANTCHILDRENOFTHEAFORESAIDWEREALSODEADANDBURIEDANDTHATTHEDARKFLATWILDERNESSBEYONDTHECHURCHYARDINTERSECTEDWITHDYKESANDMOUNDSANDGATESWITHSCATTEREDCATTLEFEEDINGONITWASTHEMARSHESANDTHATTHELOWLEADENLINEBEYONDWASTHERIVERANDTHATTHEDISTANTSAVAGELAIRFROMWHICHTHEWINDWASRUSHINGWASTHESEAANDTHATTHESMALLBUNDLEOFSHIVERSGROWINGAFRAIDOFITALLANDBEGINNINGTOCRYWASPIPHOLDYOURNOISECRIEDATERRIBLEVOICEASAMANSTARTEDUPFROMAMONGTHEGRAVESATTHESIDEOFTHECHURCHPORCHKEEPSTILLYOULITTLEDEVILORILLCUTYOURTHROAT\n",
      "1951\n",
      "YSIMNKQLVRUPUFBZUPQVHUHJBCUDCSMHGYSFTLLENLMHQMGHBBLXCSYSLZZDZNWAHJGYFAOOPGDWYRRVRFBQMGHEHRFBLZAOAHJQLRDGRDYHJJOUWLFNKMHSUJVACFMFOQXPKMHXZSUJDZXFMGHFIEQWDXFHPJLBCJUPHBCUDCSMMPKZDFBHDMIMGLXSQMGHAHWTYDGNKALLFSRRBLENRYVVFIQQUQPGBECVFYUYLVVIHSUUSYUKQKAGDDLLQXWTYEXUFWMPUNKMMLZYYQLVMQPKZDFBHDIUYSPANKQLDZXQQPHDMDIUQKFLWYQQMVAZHUNKQLRRNKQGIALWTYLDXDKMZQLHXIQSVHRIUQNKQXDKMRRJKANRSLDBBVYSIULVFZDZWLQMUQADDXLZAZTUWFBHKQHDYOUEHIYUQOQDYDEIQMVOKXHDCYQXIDIPFBHULWAGEENRZYVFBHEBDBYRRNKQFHFNHDMRZGBRUWTYUEADHYPQUQAXGUXHMNKMNKQQDEUVCODDYVFIXFXDDEPMHZUNKOOUXSEXUFWBDULIDIPFBHOBDDUFFYUMHGFOUZIIFBHUHVOLLBNLAHDXMRSYRDALMHDICIQIIFBHMVRHYLPLHIUFTCOPCVTWRZWOGMLAHWTUWYSPANKQLZMMIDYFWFHPUQPMLOEOKNRRCYQFLFNOQMWAHHXICQHJQMHMWKMVRGNDRIRFUQPUKMFIXIQSQKUWKIYUQUUDUQSYGUHDZYDFLRIVHECGQNKQCUSLDHYDZXZQLHEUFDYGFIWTYPQGRDSRRZLHYOUNWXYEDIWTYUEIIYCQQQKAADHYXBNUKCQSNRSYWMFLHCQSYAOYHPCQSFBQUUXSLZNKMNXZCYQLVMFVFLXSAOQCDYCQPYEFYGRIUMVHXCHRCUQFLSCRGMOKYQFYUFULZYGFBDFNKQSKMXDXFEQYQNIUZIQFBHULRRAUQUWQRSQWWMNLAHVNUFWMZUNKFBHULKMHGECQFBHULWDIXEYUEJROEHFMDZXKMXQQPHDNDWYQFBHYIXFCQFBLEMWMNHAZHJCVFYQOYRGLVIUVFBHYUUEBFAOQFLBPIZZVBFBHDCYQLZUNKUHDENKQLLHYUIIXZXWIYQFSPUFHEIIFBHEYDYSIULVFGRENYUPLPUQPVUAUGUGSDYVECRZIIFBHUXHZNLFSRRNKUHJEMHQGVFIPQNRTUYQVHQHJMCQQXRZUPQGRDUEXYUMQDRNHDHRAHWAQDDXVQPHZCQSUWEOFTUWUGHUZRGHGAOWRIUOYUFULZNKMNWTCVNFHMESXUFQIYQLJDIZZQLFBQQNWXYVIUVFBHOBXDWKKUUPUQPNKMNSTCOUJSULUUJOMNHAZWTCVBUUUMKMHGMFVAAHALJUUQMQLRYRRNKQUEAPHIYUQXHMXDZXEGLLQXDZXWTUWMFHJUQPYUNUUFBRXIPQQDNLDTUPFIEUUVMHGDIJQLLZZDZNFTCOPLHZIIFBHMZRDYVMCGIYUQUOEIGQUGMHGNOUUYGMHGFBDFNKQXDDEIXUWICOPYUZYVEVHKIQPNKQWKGLFTSDDXLZNHDMHONHPQLFBGKEHEUQPGRGHGEUQPADFYVICWTMFMNWQLHPWDFNOQZHQXLZARZCWIUVFBHYUUEBHEUQPNKMNWTYOAQOQUGQHOUHHNYBAHGIUVFBHDCYQLDZXWTUWFBHPCVFUQFMDHUJQFDULIDIPIBLOBWTYZUHGIUVDOVTCQSQDENKQMHMUQPNKMNWTYVYUOXVXZXOQIIEBLHYUEAUAQLZADRLDUXRRCWMFOMHGNYJUHQUHJFIFDSZMMSUJKAFGKIXDHRUMHOLLQXDFYUDCEXYYACFQUVMGDZMWMLWQXXBZUAGDYIQSNKQAUMPHEUWFBHECGQIIFBHOBXDWKBIUOBNQYSENLXFBAOOUNWXYGQPLXIUUFOOOWKIXDNKDIDF\n",
      "1951\n",
      "YSIMN KQLVR UPUFB ZUPQV HUHJB CUDCS MHGYS FTLLE NLMHQ MGHBB LXCSY SLZZD ZNWAH JGYFA OOPGD WYRRV RFBQM GHEHR FBLZA OAHJQ LRDGR DYHJJ OUWLF NKMHS UJVAC FMFOQ XPKMH XZSUJ DZXFM GHFIE QWDXF HPJLB CJUPH BCUDC SMMPK ZDFBH DMIMG LXSQM GHAHW TYDGN KALLF SRRBL ENRYV VFIQQ UQPGB ECVFY UYLVV IHSUU SYUKQ KAGDD LLQXW TYEXU FWMPU NKMML ZYYQL VMQPK ZDFBH DIUYS PANKQ LDZXQ QPHDM DIUQK FLWYQ QMVAZ HUNKQ LRRNK QGIAL WTYLD XDKMZ QLHXI QSVHR IUQNK QXDKM RRJKA NRSLD BBVYS IULVF ZDZWL QMUQA DDXLZ AZTUW FBHKQ HDYOU EHIYU QOQDY DEIQM VOKXH DCYQX IDIPF BHULW AGEEN RZYVF BHEBD BYRRN KQFHF NHDMR ZGBRU WTYUE ADHYP QUQAX GUXHM NKMNK QQDEU VCODD YVFIX FXDDE PMHZU NKOOU XSEXU FWBDU LIDIP FBHOB DDUFF YUMHG FOUZI IFBHU HVOLL BNLAH DXMRS YRDAL MHDIC IQIIF BHMVR HYLPL HIUFT COPCV TWRZW OGMLA HWTUW YSPAN KQLZM MIDYF WFHPU QPMLO EOKNR RCYQF LFNOQ MWAHH XICQH JQMHM WKMVR GNDRI RFUQP UKMFI XIQSQ KUWKI YUQUU DUQSY GUHDZ YDFLR IVHEC GQNKQ CUSLD HYDZX ZQLHE UFDYG FIWTY PQGRD SRRZL HYOUN WXYED IWTYU EIIYC QQQKA ADHYX BNUKC QSNRS YWMFL HCQSY AOYHP CQSFB QUUXS LZNKM NXZCY QLVMF VFLXS AOQCD YCQPY EFYGR IUMVH XCHRC UQFLS CRGMO KYQFY UFULZ YGFBD FNKQS KMXDX FEQYQ NIUZI QFBHU LRRAU QUWQR SQWWM NLAHV NUFWM ZUNKF BHULK MHGEC QFBHU LWDIX EYUEJ ROEHF MDZXK MXQQP HDNDW YQFBH YIXFC QFBLE MWMNH AZHJC VFYQO YRGLV IUVFB HYUUE BFAOQ FLBPI ZZVBF BHDCY QLZUN KUHDE NKQLL HYUII XZXWI YQFSP UFHEI IFBHE YDYSI ULVFG RENYU PLPUQ PVUAU GUGSD YVECR ZIIFB HUXHZ NLFSR RNKUH JEMHQ GVFIP QNRTU YQVHQ HJMCQ QXRZU PQGRD UEXYU MQDRN HDHRA HWAQD DXVQP HZCQS UWEOF TUWUG HUZRG HGAOW RIUOY UFULZ NKMNW TCVNF HMESX UFQIY QLJDI ZZQLF BQQNW XYVIU VFBHO BXDWK KUUPU QPNKM NSTCO UJSUL UUJOM NHAZW TCVBU UUMKM HGMFV AAHAL JUUQM QLRYR RNKQU EAPHI YUQXH MXDZX EGLLQ XDZXW TUWMF HJUQP YUNUU FBRXI PQQDN LDTUP FIEUU VMHGD IJQLL ZZDZN FTCOP LHZII FBHMZ RDYVM CGIYU QUOEI GQUGM HGNOU UYGMH GFBDF NKQXD DEIXU WICOP YUZYV EVHKI QPNKQ WKGLF TSDDX LZNHD MHONH PQLFB GKEHE UQPGR GHGEU QPADF YVICW TMFMN WQLHP WDFNO QZHQX LZARZ CWIUV FBHYU UEBHE UQPNK MNWTY OAQOQ UGQHO UHHNY BAHGI UVFBH DCYQL DZXWT UWFBH PCVFU QFMDH UJQFD ULIDI PIBLO BWTYZ UHGIU VDOVT CQSQD ENKQM HMUQP NKMNW TYVYU OXVXZ XOQII EBLHY UEAUA QLZAD RLDUX RRCWM FOMHG NYJUH QUHJF IFDSZ MMSUJ KAFGK IXDHR UMHOL LQXDF YUDCE XYYAC FQUVM GDZMW MLWQX XBZUA GDYIQ SNKQA UMPHE UWFBH ECGQI IFBHO BXDWK BIUOB NQYSE NLXFB AOOUN WXYGQ PLXIU UFOOO WKIXD NKDID F\n",
      "2341\n"
     ]
    }
   ],
   "source": [
    "plain_text=\"My father’s family name being Pirrip, and my Christian name Philip, my infant tongue could make of both names nothing longer or more explicit than Pip. So, I called myself Pip, and came to be called Pip. I give Pirrip as my father’s family name, on the authority of his tombstone and my sister - Mrs. Joe Gargery, who married the blacksmith. As I never saw my father or my mother, and never saw any likeness of either of them (for their days were long before the days of photographs), my first fancies regarding what they were like, were unreasonably derived from their tombstones. The shape of the letters on my father’s, gave me an odd idea that he was a square, stout, dark man, with curly black hair. From the character and turn of the inscription, ‘Also Georgiana Wife of the Above,’ I drew a childish conclusion that my mother was freckled and sickly. To five little stone lozenges, each about a foot and a half long, which were arranged in a neat row beside their grave, and were sacred to the memory of five little brothers of mine - who gave up trying to get a living, exceedingly early in that universal struggle - I am indebted for a belief I religiously entertained that they had all been born on their 2 of 865 Great Expectations backs with their hands in their trousers-pockets, and had never taken them out in this state of existence. Ours was the marsh country, down by the river, within, as the river wound, twenty miles of the sea. My first most vivid and broad impression of the identity of things, seems to me to have been gained on a memorable raw afternoon towards evening. At such a time I found out for certain, that this bleak place overgrown with nettles was the churchyard; and that Philip Pirrip, late of this parish, and also Georgiana wife of the above, were dead and buried; and that Alexander, Bartholomew, Abraham, Tobias, and Roger, infant children of the aforesaid, were also dead and buried; and that the dark flat wilderness beyond the churchyard, intersected with dykes and mounds and gates, with scattered cattle feeding on it, was the marshes; and that the low leaden line beyond, was the river; and that the distant savage lair from which the wind was rushing, was the sea; and that the small bundle of shivers growing afraid of it all and beginning to cry, was Pip. ‘Hold your noise!’ cried a terrible voice, as a man started up from among the graves at the side of the church porch. ‘Keep still, you little devil, or I’ll cut your throat!’\"\n",
    "\n",
    "print(plain_text)\n",
    "\n",
    "plain_text=strip_text(capitalise(plain_text))\n",
    "\n",
    "print(plain_text)\n",
    "print(len(plain_text))\n",
    "\n",
    "cipher_text=vignere_encoder(plain_text,\"MUD\")\n",
    "\n",
    "print(cipher_text)\n",
    "print(len(cipher_text))\n",
    "\n",
    "cipher_text=space_insert(cipher_text,5)\n",
    "\n",
    "print(cipher_text)\n",
    "print(len(cipher_text))\n"
   ]
  },
  {
   "cell_type": "markdown",
   "metadata": {},
   "source": [
    "# Generate a Caesar Shift Cipher retaining word structure"
   ]
  },
  {
   "cell_type": "code",
   "execution_count": 44,
   "metadata": {
    "collapsed": false,
    "scrolled": true
   },
   "outputs": [
    {
     "name": "stdout",
     "output_type": "stream",
     "text": [
      "When in the Course of human events, it becomes necessary for one people to dissolve the political bands which have connected them with another, and to assume among the powers of the earth, the separate and equal station to which the Laws of Nature and of Nature's God entitle them, a decent respect to the opinions of mankind requires that they should declare the causes which impel them to the separation. We hold these truths to be self-evident, that all men are created equal, that they are endowed by their Creator with certain unalienable Rights, that among these are Life, Liberty and the pursuit of Happiness.\n",
      "616\n",
      "EPMV QV BPM KWCZAM WN PCUIV MDMVBA, QB JMKWUMA VMKMAAIZG NWZ WVM XMWXTM BW LQAAWTDM BPM XWTQBQKIT JIVLA EPQKP PIDM KWVVMKBML BPMU EQBP IVWBPMZ, IVL BW IAACUM IUWVO BPM XWEMZA WN BPM MIZBP, BPM AMXIZIBM IVL MYCIT ABIBQWV BW EPQKP BPM TIEA WN VIBCZM IVL WN VIBCZM'A OWL MVBQBTM BPMU, I LMKMVB ZMAXMKB BW BPM WXQVQWVA WN UIVSQVL ZMYCQZMA BPIB BPMG APWCTL LMKTIZM BPM KICAMA EPQKP QUXMT BPMU BW BPM AMXIZIBQWV. EM PWTL BPMAM BZCBPA BW JM AMTN-MDQLMVB, BPIB ITT UMV IZM KZMIBML MYCIT, BPIB BPMG IZM MVLWEML JG BPMQZ KZMIBWZ EQBP KMZBIQV CVITQMVIJTM ZQOPBA, BPIB IUWVO BPMAM IZM TQNM, TQJMZBG IVL BPM XCZACQB WN PIXXQVMAA.\n",
      "616\n"
     ]
    }
   ],
   "source": [
    "plain_text=\"When in the Course of human events, it becomes necessary for one people to dissolve the political bands which have connected them with another, and to assume among the powers of the earth, the separate and equal station to which the Laws of Nature and of Nature's God entitle them, a decent respect to the opinions of mankind requires that they should declare the causes which impel them to the separation. We hold these truths to be self-evident, that all men are created equal, that they are endowed by their Creator with certain unalienable Rights, that among these are Life, Liberty and the pursuit of Happiness.\"\n",
    "\n",
    "capitalise_plain_text=capitalise(plain_text)\n",
    "\n",
    "cipher_text=translate(capitalise_plain_text,caesar(8))\n",
    "\n",
    "print(plain_text)\n",
    "print(len(plain_text))\n",
    "print(cipher_text)\n",
    "print(len(cipher_text))"
   ]
  },
  {
   "cell_type": "markdown",
   "metadata": {},
   "source": [
    "# Generate a Ceasar Shift Cipher With Blocks of 5"
   ]
  },
  {
   "cell_type": "code",
   "execution_count": 18,
   "metadata": {
    "collapsed": false,
    "scrolled": false
   },
   "outputs": [
    {
     "name": "stdout",
     "output_type": "stream",
     "text": [
      "The school originated as a medieval cathedral school said to have been founded during the Late Antiquity in 597 AD a century after the Fall of the Roman Empire by Augustine of Canterbury considered the Apostle to the English and a founder of the English Church, therefore making it the world's oldest extant school. This is based on the fact that St Augustine founded an abbey (within the current school's grounds) where it is known that teaching took place. When the dissolution of the monasteries occurred in the reign of King Henry VIII, the school was refounded as The King's School, Canterbury.  Kingstown House is the newest addition to the school. It was built on the site of what was formerly the Diocesan Payne Smith primary school, adjacent to the Precincts. During the 17th and 18th centuries, the school remained a grammar school. During the Victorian era the school began to establish itself as a public school. The school evacuated to Cornwall following the outbreak of World War II and received a new Royal Charter at the end of the war. Girls were admitted for the first time when the sixth form became coeducational during the 1970s. In 1990, the school became fully coeducational.\n",
      "1198\n",
      "THESCHOOLORIGINATEDASAMEDIEVALCATHEDRALSCHOOLSAIDTOHAVEBEENFOUNDEDDURINGTHELATEANTIQUITYINADACENTURYAFTERTHEFALLOFTHEROMANEMPIREBYAUGUSTINEOFCANTERBURYCONSIDEREDTHEAPOSTLETOTHEENGLISHANDAFOUNDEROFTHEENGLISHCHURCHTHEREFOREMAKINGITTHEWORLDSOLDESTEXTANTSCHOOLTHISISBASEDONTHEFACTTHATSTAUGUSTINEFOUNDEDANABBEYWITHINTHECURRENTSCHOOLSGROUNDSWHEREITISKNOWNTHATTEACHINGTOOKPLACEWHENTHEDISSOLUTIONOFTHEMONASTERIESOCCURREDINTHEREIGNOFKINGHENRYVIIITHESCHOOLWASREFOUNDEDASTHEKINGSSCHOOLCANTERBURYKINGSTOWNHOUSEISTHENEWESTADDITIONTOTHESCHOOLITWASBUILTONTHESITEOFWHATWASFORMERLYTHEDIOCESANPAYNESMITHPRIMARYSCHOOLADJACENTTOTHEPRECINCTSDURINGTHETHANDTHCENTURIESTHESCHOOLREMAINEDAGRAMMARSCHOOLDURINGTHEVICTORIANERATHESCHOOLBEGANTOESTABLISHITSELFASAPUBLICSCHOOLTHESCHOOLEVACUATEDTOCORNWALLFOLLOWINGTHEOUTBREAKOFWORLDWARIIANDRECEIVEDANEWROYALCHARTERATTHEENDOFTHEWARGIRLSWEREADMITTEDFORTHEFIRSTTIMEWHENTHESIXTHFORMBECAMECOEDUCATIONALDURINGTHESINTHESCHOOLBECAMEFULLYCOEDUCATIONAL\n",
      "958\n",
      "GURFPUBBYBEVTVANGRQNFNZRQVRINYPNGURQENYFPUBBYFNVQGBUNIRORRASBHAQRQQHEVATGURYNGRNAGVDHVGLVANQNPRAGHELNSGREGURSNYYBSGUREBZNARZCVEROLNHTHFGVARBSPNAGREOHELPBAFVQRERQGURNCBFGYRGBGURRATYVFUNAQNSBHAQREBSGURRATYVFUPUHEPUGURERSBERZNXVATVGGURJBEYQFBYQRFGRKGNAGFPUBBYGUVFVFONFRQBAGURSNPGGUNGFGNHTHFGVARSBHAQRQNANOORLJVGUVAGURPHEERAGFPUBBYFTEBHAQFJURERVGVFXABJAGUNGGRNPUVATGBBXCYNPRJURAGURQVFFBYHGVBABSGURZBANFGREVRFBPPHEERQVAGURERVTABSXVATURAELIVVVGURFPUBBYJNFERSBHAQRQNFGURXVATFFPUBBYPNAGREOHELXVATFGBJAUBHFRVFGURARJRFGNQQVGVBAGBGURFPUBBYVGJNFOHVYGBAGURFVGRBSJUNGJNFSBEZREYLGURQVBPRFNACNLARFZVGUCEVZNELFPUBBYNQWNPRAGGBGURCERPVAPGFQHEVATGURGUNAQGUPRAGHEVRFGURFPUBBYERZNVARQNTENZZNEFPUBBYQHEVATGURIVPGBEVNARENGURFPUBBYORTNAGBRFGNOYVFUVGFRYSNFNCHOYVPFPUBBYGURFPUBBYRINPHNGRQGBPBEAJNYYSBYYBJVATGURBHGOERNXBSJBEYQJNEVVNAQERPRVIRQNARJEBLNYPUNEGRENGGURRAQBSGURJNETVEYFJRERNQZVGGRQSBEGURSVEFGGVZRJURAGURFVKGUSBEZORPNZRPBRQHPNGVBANYQHEVATGURFVAGURFPUBBYORPNZRSHYYLPBRQHPNGVBANY\n",
      "958\n",
      "GURFP UBBYB EVTVA NGRQN FNZRQ VRINY PNGUR QENYF PUBBY FNVQG BUNIR ORRAS BHAQR QQHEV ATGUR YNGRN AGVDH VGLVA NQNPR AGHEL NSGRE GURSN YYBSG UREBZ NARZC VEROL NHTHF GVARB SPNAG REOHE LPBAF VQRER QGURN CBFGY RGBGU RRATY VFUNA QNSBH AQREB SGURR ATYVF UPUHE PUGUR ERSBE RZNXV ATVGG URJBE YQFBY QRFGR KGNAG FPUBB YGUVF VFONF RQBAG URSNP GGUNG FGNHT HFGVA RSBHA QRQNA NOORL JVGUV AGURP HEERA GFPUB BYFTE BHAQF JURER VGVFX ABJAG UNGGR NPUVA TGBBX CYNPR JURAG URQVF FBYHG VBABS GURZB ANFGR EVRFB PPHEE RQVAG URERV TABSX VATUR AELIV VVGUR FPUBB YJNFE RSBHA QRQNF GURXV ATFFP UBBYP NAGRE OHELX VATFG BJAUB HFRVF GURAR JRFGN QQVGV BAGBG URFPU BBYVG JNFOH VYGBA GURFV GRBSJ UNGJN FSBEZ REYLG URQVB PRFNA CNLAR FZVGU CEVZN ELFPU BBYNQ WNPRA GGBGU RCERP VAPGF QHEVA TGURG UNAQG UPRAG HEVRF GURFP UBBYE RZNVA RQNTE NZZNE FPUBB YQHEV ATGUR IVPGB EVNAR ENGUR FPUBB YORTN AGBRF GNOYV FUVGF RYSNF NCHOY VPFPU BBYGU RFPUB BYRIN PHNGR QGBPB EAJNY YSBYY BJVAT GURBH GOERN XBSJB EYQJN EVVNA QERPR VIRQN ARJEB LNYPU NEGRE NGGUR RAQBS GURJN ETVEY FJRER NQZVG GRQSB EGURS VEFGG VZRJU RAGUR FVKGU SBEZO RPNZR PBRQH PNGVB ANYQH EVATG URFVA GURFP UBBYO RPNZR SHYYL PBRQH PNGVB ANY\n",
      "1149\n"
     ]
    }
   ],
   "source": [
    "plain_text=\"The school originated as a medieval cathedral school said to have been founded during the Late Antiquity in 597 AD a century after the Fall of the Roman Empire by Augustine of Canterbury considered the Apostle to the English and a founder of the English Church, therefore making it the world's oldest extant school. This is based on the fact that St Augustine founded an abbey (within the current school's grounds) where it is known that teaching took place. When the dissolution of the monasteries occurred in the reign of King Henry VIII, the school was refounded as The King's School, Canterbury.  Kingstown House is the newest addition to the school. It was built on the site of what was formerly the Diocesan Payne Smith primary school, adjacent to the Precincts. During the 17th and 18th centuries, the school remained a grammar school. During the Victorian era the school began to establish itself as a public school. The school evacuated to Cornwall following the outbreak of World War II and received a new Royal Charter at the end of the war. Girls were admitted for the first time when the sixth form became coeducational during the 1970s. In 1990, the school became fully coeducational.\"\n",
    "\n",
    "cipher_text=translate(strip_text(capitalise(plain_text)),caesar(13))\n",
    "\n",
    "print(plain_text)\n",
    "print(len(plain_text))\n",
    "print(strip_text(capitalise(plain_text)))\n",
    "print(len(strip_text(capitalise(plain_text))))\n",
    "print(cipher_text)\n",
    "print(len(cipher_text))\n",
    "\n",
    "cipher_text=space_insert(cipher_text,5)\n",
    "\n",
    "print(cipher_text)\n",
    "print(len(cipher_text))\n"
   ]
  },
  {
   "cell_type": "markdown",
   "metadata": {},
   "source": [
    "# Generate a Keyword Cipher retaining word structure"
   ]
  },
  {
   "cell_type": "code",
   "execution_count": 19,
   "metadata": {
    "collapsed": false
   },
   "outputs": [
    {
     "name": "stdout",
     "output_type": "stream",
     "text": [
      "THE Mole had been working very hard all the morning, spring-cleaning his little home. First with brooms, then with dusters; then on ladders and steps and chairs, with a brush and a pail of whitewash; till he had dust in his throat and eyes, and splashes of whitewash all over his black fur, and an aching back and weary arms. Spring was moving in the air above and in the earth below and around him, penetrating even his dark and lowly little house with its spirit of divine discontent and longing. It was small wonder, then, that he suddenly flung down his brush on the floor, said Bother and O blow and also Hang springcleaning and bolted out of the house without even waiting to put on his coat. Something up above was calling him imperiously, and he made for the steep little tunnel which answered in his case to the gravelled carriage-drive owned by animals whose residences are nearer to the sun and air. \n",
      "911\n",
      "TDA JNIA DME OAAK WNRHFKC VARY DMRE MII TDA JNRKFKC, SPRFKC-LIAMKFKC DFS IFTTIA DNJA. BFRST WFTD ORNNJS, TDAK WFTD EUSTARS; TDAK NK IMEEARS MKE STAPS MKE LDMFRS, WFTD M ORUSD MKE M PMFI NB WDFTAWMSD; TFII DA DME EUST FK DFS TDRNMT MKE AYAS, MKE SPIMSDAS NB WDFTAWMSD MII NVAR DFS OIMLH BUR, MKE MK MLDFKC OMLH MKE WAMRY MRJS. SPRFKC WMS JNVFKC FK TDA MFR MONVA MKE FK TDA AMRTD OAINW MKE MRNUKE DFJ, PAKATRMTFKC AVAK DFS EMRH MKE INWIY IFTTIA DNUSA WFTD FTS SPFRFT NB EFVFKA EFSLNKTAKT MKE INKCFKC. FT WMS SJMII WNKEAR, TDAK, TDMT DA SUEEAKIY BIUKC ENWK DFS ORUSD NK TDA BINNR, SMFE ONTDAR MKE N OINW MKE MISN DMKC SPRFKCLIAMKFKC MKE ONITAE NUT NB TDA DNUSA WFTDNUT AVAK WMFTFKC TN PUT NK DFS LNMT. SNJATDFKC UP MONVA WMS LMIIFKC DFJ FJPARFNUSIY, MKE DA JMEA BNR TDA STAAP IFTTIA TUKKAI WDFLD MKSWARAE FK DFS LMSA TN TDA CRMVAIIAE LMRRFMCA-ERFVA NWKAE OY MKFJMIS WDNSA RASFEAKLAS MRA KAMRAR TN TDA SUK MKE MFR. \n",
      "911\n"
     ]
    }
   ],
   "source": [
    "plain_text=\"THE Mole had been working very hard all the morning, spring-cleaning his little home. First with brooms, then with dusters; then on ladders and steps and chairs, with a brush and a pail of whitewash; till he had dust in his throat and eyes, and splashes of whitewash all over his black fur, and an aching back and weary arms. Spring was moving in the air above and in the earth below and around him, penetrating even his dark and lowly little house with its spirit of divine discontent and longing. It was small wonder, then, that he suddenly flung down his brush on the floor, said Bother and O blow and also Hang springcleaning and bolted out of the house without even waiting to put on his coat. Something up above was calling him imperiously, and he made for the steep little tunnel which answered in his case to the gravelled carriage-drive owned by animals whose residences are nearer to the sun and air. \"\n",
    "capitalise_plain_text=capitalise(plain_text)\n",
    "\n",
    "cipher_text=translate(capitalise_plain_text,keyword_cipherkey(\"MOLE\"))\n",
    "\n",
    "print(plain_text)\n",
    "print(len(plain_text))\n",
    "print(cipher_text)\n",
    "print(len(cipher_text))"
   ]
  },
  {
   "cell_type": "markdown",
   "metadata": {},
   "source": [
    "# Generate a Keyword Cipher in blocks of 5"
   ]
  },
  {
   "cell_type": "code",
   "execution_count": 46,
   "metadata": {
    "collapsed": false
   },
   "outputs": [
    {
     "name": "stdout",
     "output_type": "stream",
     "text": [
      "VISITINGHOUSESALLPUPILSSHOULDFAMILIARISETHEMSELVESWITHTHERULESONVISITINGOTHERHOUSESANDENSURETHEYFOLLOWTHECORRECTPROCEDUREINEACHHOUSEGAININGAPPROPRIATEPERMISSIONANDSIGNINGINALLVISITORSSHOULDBEHAVERESPECTFULLYBELOWABOYSARENOTPERMITTEDTOVISITGIRLSROOMSNORGIRLSTOVISITBOYSROOMSATANYTIMETHOSEINASHOULDTAKENOTEOFTHESEPARATERULESONOPENDOORVISITINGBOYSMAYVISITOTHERBOYSSTUDIESANDGIRLSMAYVISITOTHERGIRLSSTUDIESFROMMORNINGBREAKUNTILTHEBEGINNINGOFPREPWITHTHEFOLLOWINGEXCEPTIONSBEFOREAMSUNDAYSBEFOREAMDURINGNORMALLESSONTIMEAFTERPMAPARTFROMSIXTHFORMERSWHOMAYVISITBETWEENANDPMEXCEPTONSUNDAYSANDWEDNESDAYSINADDITIONBOYSMAYNOTVISITGIRLSHOUSESANDVICEVERSABETWEENPMANDPMONANYDAYDAYHOUSESMAYNOTBEVISITEDATANYTIMEONSUNDAYSORAFTERPMONANYOTHERDAYOUTSIDERSMAYNOTVISITANYHOUSEWITHOUTTHEPERMISSIONOFTHEHOUSEMASTERORHOUSEMISTRESSORTHEMEMBEROFSTAFFONDUTYITISTHEDUTYOFTHEPUPILBEINGVISITEDTOENSURESUCHPERMISSIONHASBEENOBTAINED\n",
      "897\n",
      "VDRDTDLBCMURSRKHHOUODHRRCMUHGAKJDHDKQDRSTCSJRSHVSRWDTCTCSQUHSRMLVDRDTDLBMTCSQCMURSRKLGSLRUQSTCSYAMHHMWTCSNMQQSNTOQMNSGUQSDLSKNCCMURSBKDLDLBKOOQMOQDKTSOSQJDRRDMLKLGRDBLDLBDLKHHVDRDTMQRRCMUHGISCKVSQSROSNTAUHHYISHMWKIMYRKQSLMTOSQJDTTSGTMVDRDTBDQHRQMMJRLMQBDQHRTMVDRDTIMYRQMMJRKTKLYTDJSTCMRSDLKRCMUHGTKFSLMTSMATCSRSOKQKTSQUHSRMLMOSLGMMQVDRDTDLBIMYRJKYVDRDTMTCSQIMYRRTUGDSRKLGBDQHRJKYVDRDTMTCSQBDQHRRTUGDSRAQMJJMQLDLBIQSKFULTDHTCSISBDLLDLBMAOQSOWDTCTCSAMHHMWDLBSXNSOTDMLRISAMQSKJRULGKYRISAMQSKJGUQDLBLMQJKHHSRRMLTDJSKATSQOJKOKQTAQMJRDXTCAMQJSQRWCMJKYVDRDTISTWSSLKLGOJSXNSOTMLRULGKYRKLGWSGLSRGKYRDLKGGDTDMLIMYRJKYLMTVDRDTBDQHRCMURSRKLGVDNSVSQRKISTWSSLOJKLGOJMLKLYGKYGKYCMURSRJKYLMTISVDRDTSGKTKLYTDJSMLRULGKYRMQKATSQOJMLKLYMTCSQGKYMUTRDGSQRJKYLMTVDRDTKLYCMURSWDTCMUTTCSOSQJDRRDMLMATCSCMURSJKRTSQMQCMURSJDRTQSRRMQTCSJSJISQMARTKAAMLGUTYDTDRTCSGUTYMATCSOUODHISDLBVDRDTSGTMSLRUQSRUNCOSQJDRRDMLCKRISSLMITKDLSG\n",
      "897\n",
      "VDRDT DLBCM URSRK HHOUO DHRRC MUHGA KJDHD KQDRS TCSJR SHVSR WDTCT CSQUH SRMLV DRDTD LBMTC SQCMU RSRKL GSLRU QSTCS YAMHH MWTCS NMQQS NTOQM NSGUQ SDLSK NCCMU RSBKD LDLBK OOQMO QDKTS OSQJD RRDML KLGRD BLDLB DLKHH VDRDT MQRRC MUHGI SCKVS QSROS NTAUH HYISH MWKIM YRKQS LMTOS QJDTT SGTMV DRDTB DQHRQ MMJRL MQBDQ HRTMV DRDTI MYRQM MJRKT KLYTD JSTCM RSDLK RCMUH GTKFS LMTSM ATCSR SOKQK TSQUH SRMLM OSLGM MQVDR DTDLB IMYRJ KYVDR DTMTC SQIMY RRTUG DSRKL GBDQH RJKYV DRDTM TCSQB DQHRR TUGDS RAQMJ JMQLD LBIQS KFULT DHTCS ISBDL LDLBM AOQSO WDTCT CSAMH HMWDL BSXNS OTDML RISAM QSKJR ULGKY RISAM QSKJG UQDLB LMQJK HHSRR MLTDJ SKATS QOJKO KQTAQ MJRDX TCAMQ JSQRW CMJKY VDRDT ISTWS SLKLG OJSXN SOTML RULGK YRKLG WSGLS RGKYR DLKGG DTDML IMYRJ KYLMT VDRDT BDQHR CMURS RKLGV DNSVS QRKIS TWSSL OJKLG OJMLK LYGKY GKYCM URSRJ KYLMT ISVDR DTSGK TKLYT DJSML RULGK YRMQK ATSQO JMLKL YMTCS QGKYM UTRDG SQRJK YLMTV DRDTK LYCMU RSWDT CMUTT CSOSQ JDRRD MLMAT CSCMU RSJKR TSQMQ CMURS JDRTQ SRRMQ TCSJS JISQM ARTKA AMLGU TYDTD RTCSG UTYMA TCSOU ODHIS DLBVD RDTSG TMSLR UQSRU NCOSQ JDRRD MLCKR ISSLM ITKDL SG\n",
      "1076\n"
     ]
    }
   ],
   "source": [
    "plain_text=\"VISITING HOUSES All pupils should familiarise themselves with the rules on visiting other houses and ensure they follow the correct procedure in each house, gaining appropriate permission and signing in. All visitors should behave respectfully. Below 6a, boys are not permitted to visit girls’ rooms, nor girls’ to visit boys’ rooms at any time. Those in 6a should take note of the separate rules on Open Door Visiting. Boys may visit other boys’ studies and girls may visit other girls’ studies from morning break until the beginning of prep with the following exceptions: Before 8.0am (Sundays before 10.15am)  During normal lesson time.  After 7.15pm apart from Sixth formers who may visit between 9.15 and 10.15pm except on Sundays and Wednesdays. In addition boys may not visit girls’ houses and vice versa between 2.30pm and 4.45pm on any day. Day houses may not be visited at any time on Sundays or after 7.15pm on any other day. Outsiders may not visit any house without the permission of the Housemaster or Housemistress or the member of staff on duty. It is the duty of the pupil being visited to ensure such permission has been obtained\"\n",
    "\n",
    "plain_text=strip_text(capitalise(plain_text))\n",
    "print(plain_text)\n",
    "print(len(plain_text))\n",
    "\n",
    "cipher_text=translate(plain_text,keyword_cipherkey('KINGS'))\n",
    "print(cipher_text)\n",
    "print(len(cipher_text))\n",
    "\n",
    "cipher_text=space_insert(cipher_text,5)\n",
    "\n",
    "print(cipher_text)\n",
    "print(len(cipher_text))\n"
   ]
  },
  {
   "cell_type": "markdown",
   "metadata": {},
   "source": [
    "# Generate a 5-transposition Cipher in blocks of 5"
   ]
  },
  {
   "cell_type": "code",
   "execution_count": 49,
   "metadata": {
    "collapsed": false,
    "scrolled": true
   },
   "outputs": [
    {
     "name": "stdout",
     "output_type": "stream",
     "text": [
      "TOBEORNOTTOBETHATISTHEQUESTIONWHETHERTISNOBLERINTHEMINDTOSUFFERTHESLINGSANDARROWSOFOUTRAGEOUSFORTUNEORTOTAKEARMSAGAINSTASEAOFTROUBLESANDBYOPPOSINGENDTHEMTODIETOSLEEPNOMOREANDBYASLEEPTOSAYWEENDTHEHEARTACHEANDTHETHOUSANDNATURALSHOCKSTHATFLESHISHEIRTOTISACONSUMMATIONDEVOUTLYTOBEWISHDTODIETOSLEEPTOSLEEPPERCHANCETODREAMAYTHERESTHERUBFORINTHATSLEEPOFDEATHWHATDREAMSMAYCOMEWHENWEHAVESHUFFLEDOFFTHISMORTALCOILMUSTGIVEUSPAUSETHERESTHERESPECTTHATMAKESCALAMITYOFSOLONGLIFEFORWHOWOULDBEARTHEWHIPSANDSCORNSOFTIMETHEOPPRESSORSWRONGTHEPROUDMANSCONTUMELYTHEPANGSOFDESPISEDLOVETHELAWSDELAYTHEINSOLENCEOFOFFICEANDTHESPURNSTHATPATIENTMERITOFTHEUNWORTHYTAKESWHENHEHIMSELFMIGHTHISQUIETUSMAKEWITHABAREBODKINWHOWOULDFARDELSBEARTOGRUNTANDSWEATUNDERAWEARYLIFEBUTTHATTHEDREADOFSOMETHINGAFTERDEATHTHEUNDISCOVERDCOUNTRYFROMWHOSEBOURNNOTRAVELLERRETURNSPUZZLESTHEWILLANDMAKESUSRATHERBEARTHOSEILLSWEHAVETHANFLYTOOTHERSTHATWEKNOWNOTOFTHUSCONSCIENCEDOESMAKECOWARDSOFUSALLANDTHUSTHENATIVEHUEOFRESOLUTIONISSICKLIEDOERWITHTHEPALECASTOFTHOUGHTANDENTERPRISESOFGREATPITHANDMOMENTWITHTHISREGARDTHEIRCURRENTSTURNAWRYANDLOSETHENAMEOFACTIONSOFTYOUNOWTHEFAIROPHELIANYMPHINTHYORISONSBEALLMYSINSREMEMBERD\n",
      "1160\n",
      "OEBOTTTONRHTEBOTSITAEUQEHNOITSHTEHWSITREELBONHTNIRDNIMEFUSOTHTREFNILSEDNASGWORRAUOFOSEGARTOFSUOENUTRTOTRORAEKAAGASMATSNIFOAESBUORTNASELPOYBDNISOPTDNEGOTMEHOTEIDPEELSROMONBDNAEELSAYSOTPEEEWYAEHTDNTRAEHAEHCAEHTDNSUOHTANDNALARUTKCOHSTAHTSHSELFIEHSIITOTRNOCASAMMUSDNOITTUOVEBOTYLHSIWEIDOTDLSOTEOTPEEPEELSHCREPTECNAAERDOHTYAMTSEREBUREHNIROFSTAHTOPEELTAEDFTAHWHMAERDCYAMSHWEMOHEWNEHSEVAELFFUTFFODOMSIHCLATRUMLIOVIGTSAPSUEHTESUTSERESEREHTTCEPAMTAHACSEKTIMALOSFOYLGNOLOFEFIWOHWRBDLUOHTRAEPIHWESDNASSNROCMITFOOEHTESERPPWSROSTGNORORPEHNAMDUTNOCSYLEMUAPEHTFOSGNIPSEDOLDESEHTEVDSWALTYALESNIEHCNELOFOFOEAECIFEHTDNNRUPSTAHTSEITAPREMTNTFOTIWNUEHYHTROSEKATHNEHWSMIHEIMFLEIHTHGEIUQSAMSUTTIWEKRABAHKDOBEOHWNIDLUOWEDRAFAEBSLRGOTRNATNUAEWSDEDNUTAEWARFILYRTTUBEHTTAHAERDEOSFODIHTEMTFAGNAEDREEHTHTSIDNUREVOCNUOCDRFYRTOHWMOUOBESTONNRLEVARERRELSNRUTLZZUPEHTSEALLIWKAMDNRSUSEREHTATRAEBIESOHEWSLLTEVAHLFNAHTOOTYTSREHEWTAHNWONKTFOTOOCSUHEICSNODECNKAMSEAWOCEFOSDRLLASUHTDNAEHTSUVITANOEUHEOSERFOITULISSINEILKCWREODHTHTIELAPEOTSACUOHTFNATHGETNEDSIRPRGFOSEPTAERNAHTIEMOMDTIWTNSIHTHRAGERIEHTDRRUCRTSTNEWANRUDNAYRTESOLMANEHCAFOESNOITOYTFOTWONUIAFEHEHPORYNAILNIHPMROYHTSNOSILLAEBNISYMEMERSDREBM\n",
      "1160\n",
      "OEBOT TTONR HTEBO TSITA EUQEH NOITS HTEHW SITRE ELBON HTNIR DNIME FUSOT HTREF NILSE DNASG WORRA UOFOS EGART OFSUO ENUTR TOTRO RAEKA AGASM ATSNI FOAES BUORT NASEL POYBD NISOP TDNEG OTMEH OTEID PEELS ROMON BDNAE ELSAY SOTPE EEWYA EHTDN TRAEH AEHCA EHTDN SUOHT ANDNA LARUT KCOHS TAHTS HSELF IEHSI ITOTR NOCAS AMMUS DNOIT TUOVE BOTYL HSIWE IDOTD LSOTE OTPEE PEELS HCREP TECNA AERDO HTYAM TSERE BUREH NIROF STAHT OPEEL TAEDF TAHWH MAERD CYAMS HWEMO HEWNE HSEVA ELFFU TFFOD OMSIH CLATR UMLIO VIGTS APSUE HTESU TSERE SEREH TTCEP AMTAH ACSEK TIMAL OSFOY LGNOL OFEFI WOHWR BDLUO HTRAE PIHWE SDNAS SNROC MITFO OEHTE SERPP WSROS TGNOR ORPEH NAMDU TNOCS YLEMU APEHT FOSGN IPSED OLDES EHTEV DSWAL TYALE SNIEH CNELO FOFOE AECIF EHTDN NRUPS TAHTS EITAP REMTN TFOTI WNUEH YHTRO SEKAT HNEHW SMIHE IMFLE IHTHG EIUQS AMSUT TIWEK RABAH KDOBE OHWNI DLUOW EDRAF AEBSL RGOTR NATNU AEWSD EDNUT AEWAR FILYR TTUBE HTTAH AERDE OSFOD IHTEM TFAGN AEDRE EHTHT SIDNU REVOC NUOCD RFYRT OHWMO UOBES TONNR LEVAR ERREL SNRUT LZZUP EHTSE ALLIW KAMDN RSUSE REHTA TRAEB IESOH EWSLL TEVAH LFNAH TOOTY TSREH EWTAH NWONK TFOTO OCSUH EICSN ODECN KAMSE AWOCE FOSDR LLASU HTDNA EHTSU VITAN OEUHE OSERF OITUL ISSIN EILKC WREOD HTHTI ELAPE OTSAC UOHTF NATHG ETNED SIRPR GFOSE PTAER NAHTI EMOMD TIWTN SIHTH RAGER IEHTD RRUCR TSTNE WANRU DNAYR TESOL MANEH CAFOE SNOIT OYTFO TWONU IAFEH EHPOR YNAIL NIHPM ROYHT SNOSI LLAEB NISYM EMERS DREBM \n"
     ]
    }
   ],
   "source": [
    "plain_text=\"To be, or not to be: that is the question: Whether ’tis nobler in the mind to suffer The slings and arrows of outrageous fortune, Or to take arms against a sea of troubles, And by opposing end them? To die: to sleep; No more; and by a sleep to say we end The heart-ache and the thousand natural shocks That flesh is heir to, ’tis a consummation Devoutly to be wish’d. To die, to sleep; To sleep: perchance to dream: ay, there’s the rub; For in that sleep of death what dreams may come When we have shuffled off this mortal coil, Must give us pause: there’s the respect That makes calamity of so long life; For who would bear the whips and scorns of time, The oppressor’s wrong, the proud man’s contumely, The pangs of despised love, the law’s delay, The insolence of office and the spurns That patient merit of the unworthy takes, When he himself might his quietus make With a bare bodkin? who would fardels bear, To grunt and sweat under a weary life, But that the dread of something after death, The undiscover’d country from whose bourn No traveller returns, puzzles the will And makes us rather bear those ills we have Than fly to others that we know not of? Thus conscience does make cowards of us all; And thus the native hue of resolution Is sicklied o’er with the pale cast of thought, And enterprises of great pith and moment With this regard their currents turn awry, And lose the name of action.–Soft you now! The fair Ophelia! Nymph, in thy orisons Be all my sins remember’d.\"\n",
    "\n",
    "plain_text=strip_text(capitalise(plain_text))\n",
    "print(plain_text)\n",
    "print(len(plain_text))\n",
    "\n",
    "cipher_text=transposition_5(plain_text,54321)\n",
    "\n",
    "print(cipher_text)\n",
    "print(len(cipher_text))\n",
    "\n",
    "cipher_text=space_insert(cipher_text,5)\n",
    "\n",
    "print(cipher_text)\n"
   ]
  },
  {
   "cell_type": "markdown",
   "metadata": {
    "collapsed": true
   },
   "source": [
    "# Generate a 3-Transposition Cipher in blocks of 5"
   ]
  },
  {
   "cell_type": "code",
   "execution_count": 22,
   "metadata": {
    "collapsed": false
   },
   "outputs": [
    {
     "name": "stdout",
     "output_type": "stream",
     "text": [
      "Our Father in heaven, hallowed be your name. Your kingdom come, your will be done, on earth as it is in heaven. Give us this day our daily bread, and forgive us our debts, as we also have forgiven our debtors. And lead us not into temptation, but deliver us from evil.\n",
      "OURFATHERINHEAVENHALLOWEDBEYOURNAMEYOURKINGDOMCOMEYOURWILLBEDONEONEARTHASITISINHEAVENGIVEUSTHISDAYOURDAILYBREADANDFORGIVEUSOURDEBTSASWEALSOHAVEFORGIVENOURDEBTORSANDLEADUSNOTINTOTEMPTATIONBUTDELIVERUSFROMEVIL\n",
      "207\n",
      "RUOTAFREHHNIVAEHNELLAEWOEBDUOYANRYEMRUONIKODGOCMYEMRUOLIWEBLNODNOERAEAHTTISISIEHNEVAIGNUEVHTSDSIOYADRULIARBYDAEDNAROFVIGSUERUOBEDASTEWSSLAAHOFEVGROEVIUONEDROTBASRLDNDAENSUITOOTNMETATPOITUBNEDTVILURERFSEMOLIV\n",
      "207\n",
      "RUOTA FREHH NIVAE HNELL AEWOE BDUOY ANRYE MRUON IKODG OCMYE MRUOL IWEBL NODNO ERAEA HTTIS ISIEH NEVAI GNUEV HTSDS IOYAD RULIA RBYDA EDNAR OFVIG SUERU OBEDA STEWS SLAAH OFEVG ROEVI UONED ROTBA SRLDN DAENS UITOO TNMET ATPOI TUBNE DTVIL URERF SEMOL IV\n"
     ]
    }
   ],
   "source": [
    "plain_text=\"Our Father in heaven, hallowed be your name. Your kingdom come, your will be done, on earth as it is in heaven. Give us this day our daily bread, and forgive us our debts, as we also have forgiven our debtors. And lead us not into temptation, but deliver us from evil.\"\n",
    "\n",
    "print(plain_text)\n",
    "\n",
    "plain_text=strip_text(capitalise(plain_text))\n",
    "print(plain_text)\n",
    "print(len(plain_text))\n",
    "\n",
    "cipher_text=transposition_3(plain_text,321)\n",
    "\n",
    "print(cipher_text)\n",
    "print(len(cipher_text))\n",
    "\n",
    "cipher_text=space_insert(cipher_text,5)\n",
    "\n",
    "print(cipher_text)\n"
   ]
  },
  {
   "cell_type": "code",
   "execution_count": null,
   "metadata": {
    "collapsed": true
   },
   "outputs": [],
   "source": []
  }
 ],
 "metadata": {
  "anaconda-cloud": {},
  "kernelspec": {
   "display_name": "Python [Root]",
   "language": "python",
   "name": "Python [Root]"
  },
  "language_info": {
   "codemirror_mode": {
    "name": "ipython",
    "version": 3
   },
   "file_extension": ".py",
   "mimetype": "text/x-python",
   "name": "python",
   "nbconvert_exporter": "python",
   "pygments_lexer": "ipython3",
   "version": "3.5.2"
  }
 },
 "nbformat": 4,
 "nbformat_minor": 0
}
